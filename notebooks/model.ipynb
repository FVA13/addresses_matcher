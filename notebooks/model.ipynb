{
 "cells": [
  {
   "cell_type": "code",
   "execution_count": 1,
   "outputs": [],
   "source": [
    "import pandas as pd\n",
    "# from pandarallel import pandarallel\n",
    "import numpy as np\n",
    "import seaborn as sns\n",
    "import plotly.express as px\n",
    "import torch\n",
    "import os\n",
    "from tqdm import tqdm\n",
    "import pickle\n",
    "from Levenshtein import distance as lev_distance\n",
    "\n",
    "import warnings\n",
    "\n",
    "warnings.filterwarnings('ignore')\n",
    "sns.set(rc={'figure.figsize': (20, 10), 'figure.facecolor': 'white'})\n",
    "sns.set_palette(\"viridis\")\n",
    "pd.set_option('display.max_colwidth', -1)\n",
    "pd.set_option('display.max_rows', 500)\n",
    "pd.set_option('display.max_columns', 500)\n",
    "# pandarallel.initialize(progress_bar=True)\n",
    "os.environ[\"TOKENIZERS_PARALLELISM\"] = \"true\"  # activate parallelism"
   ],
   "metadata": {
    "collapsed": false,
    "ExecuteTime": {
     "end_time": "2023-08-26T11:58:32.209744Z",
     "start_time": "2023-08-26T11:58:31.098868Z"
    }
   },
   "id": "f95e7de9e4f398d6"
  },
  {
   "cell_type": "markdown",
   "source": [
    "# Stage 1 - Get and preprocess Data"
   ],
   "metadata": {
    "collapsed": false
   },
   "id": "8facf2e21185d039"
  },
  {
   "cell_type": "code",
   "execution_count": 2,
   "outputs": [],
   "source": [
    "def join_non_null_values(l):\n",
    "    res = [str(x) for x in l if str(x) != 'nan']\n",
    "    return ', '.join(res)"
   ],
   "metadata": {
    "collapsed": false,
    "ExecuteTime": {
     "end_time": "2023-08-26T11:58:32.214372Z",
     "start_time": "2023-08-26T11:58:32.210177Z"
    }
   },
   "id": "8c0d2e143decd86d"
  },
  {
   "cell_type": "code",
   "execution_count": 123,
   "outputs": [
    {
     "data": {
      "text/plain": "        id_building  prefix_id_building  district_id_building house_building  \\\n0       56343        11132               35                    12              \n1       595          6987                38                    4Б              \n2       7134         6469                15                    30              \n3       124415       7838                38                    5               \n4       185368       4224                38                    28              \n...        ...        ...                ..                    ..              \n166640  18941        5289                32                    3               \n166641  18942        5031                35                    34/3            \n166642  18943        5623                38                    39              \n166643  18944        5787                34                    25              \n166644  18945        6124                32                    16              \n\n       corpus_building liter_building villa_building parcel_building  \\\n0       NaN             А              NaN            NaN              \n1       NaN             NaN            NaN            NaN              \n2       2               Е              NaN            NaN              \n3       2               А              NaN            NaN              \n4       NaN             Б              NaN            NaN              \n...     ...            ..              ...            ...              \n166640  NaN             В              NaN            NaN              \n166641  NaN             А              NaN            NaN              \n166642  NaN             NaN            NaN            NaN              \n166643  NaN             Б              NaN            NaN              \n166644  NaN             А              NaN            NaN              \n\n                                                         full_address_building  \\\n0       город Пушкин, Кедринская улица, дом 12                                   \n1       поселок Ушково, Пляжевая улица, дом 4Б                                   \n2       г.Санкт-Петербург, проспект Маршала Жукова, дом 30, корпус 2, литера Е   \n3       поселок Белоостров, Дюны, Центральная улица, дом 5, корпус 2             \n4       поселок Песочный, Речная улица, дом 28, литера Б                         \n...                                                  ...                         \n166640  г.Санкт-Петербург, Бородинская улица, дом 3, литера В                    \n166641  посёлок Александровская, 2-я линия, дом 34/3, литера А                   \n166642  посёлок Ушково, Детская улица, дом 39                                    \n166643  г.Санкт-Петербург, Заусадебная улица, дом 25, литера Б                   \n166644  г.Санкт-Петербург, 8-я Красноармейская улица, дом 16, литера А           \n\n        is_updated_building  is_actual_building type_building  \\\n0       True                 False               NaN            \n1       True                 False               NaN            \n2       True                 False               Нежилое        \n3       True                 False               Нежилое        \n4       True                 False               NaN            \n...      ...                   ...               ...            \n166640  True                 True                Нежилое        \n166641  True                 True                Жилое          \n166642  True                 False               NaN            \n166643  True                 False               Нежилое        \n166644  True                 True                Нежилое        \n\n        municipality_id_building  \\\n0       107.0                      \n1       128.0                      \n2       30.0                       \n3       110.0                      \n4       118.0                      \n...       ...                      \n166640  4.0                        \n166641  109.0                      \n166642  128.0                      \n166643  68.0                       \n166644  5.0                        \n\n                                          short_address_building  \\\n0       г.Пушкин, Кедринская ул., д. 12                            \n1       пос. Ушково, Пляжевая ул., д. 4Б                           \n2       г.Санкт-Петербург, пр. Маршала Жукова, д. 30, к. 2, л. Е   \n3       пос. Белоостров, Дюны, Центральная ул., д. 5, к. 2         \n4       пос. Песочный, Речная ул., д. 28, л. Б                     \n...                                        ...                     \n166640  г.Санкт-Петербург, Бородинская ул., д. 3, л. В             \n166641  пос. Александровская, 2-я линия, д. 34/3, л. А             \n166642  пос. Ушково, Детская ул., д. 39                            \n166643  г.Санкт-Петербург, Заусадебная ул., д. 25, л. Б            \n166644  г.Санкт-Петербург, 8-я Красноармейская ул., д. 16, л. А    \n\n       post_prefix_building build_number_building  id_district  \\\n0       NaN                  NaN                   35            \n1       NaN                  NaN                   38            \n2       198303               NaN                   15            \n3       NaN                  NaN                   38            \n4       NaN                  NaN                   38            \n...     ...                  ...                   ..            \n166640  190000.0             NaN                   32            \n166641  196631.0             NaN                   35            \n166642  NaN                  NaN                   38            \n166643  NaN                  NaN                   34            \n166644  198103.0             NaN                   32            \n\n         name_district  is_updated_district  is_actual_district  id_prefix  \\\n0       Пушкинский      True                 True                11132       \n1       Курортный       True                 True                6987        \n2       Кировский       True                 True                6469        \n3       Курортный       True                 True                7838        \n4       Курортный       True                 True                4224        \n...           ...        ...                  ...                 ...        \n166640  Адмиралтейский  True                 True                5289        \n166641  Пушкинский      True                 True                5031        \n166642  Курортный       True                 True                5623        \n166643  Приморский      True                 True                5787        \n166644  Адмиралтейский  True                 True                6124        \n\n        town_id_prefix  geonim_id_prefix  area_id_prefix  toponim_id_prefix  \\\n0       28.0            4801.0           NaN             NaN                  \n1       46.0            3.0              NaN             NaN                  \n2       36.0            2194.0           NaN             NaN                  \n3       37.0            319.0            NaN              161.0               \n4       41.0            477.0            NaN             NaN                  \n...      ...              ...             ..              ..                  \n166640  36.0            1748.0           NaN             NaN                  \n166641  22.0            2861.0           NaN             NaN                  \n166642  46.0            4.0              NaN             NaN                  \n166643  36.0            1316.0           NaN             NaN                  \n166644  36.0            2059.0           NaN             NaN                  \n\n                                         name_prefix  \\\n0       город Пушкин, Кедринская улица                 \n1       посёлок Ушково, Пляжевая улица                 \n2       г.Санкт-Петербург, проспект Маршала Жукова     \n3       посёлок Белоостров, Дюны, Центральная улица    \n4       посёлок Песочный, Речная улица                 \n...                                ...                 \n166640  г.Санкт-Петербург, Бородинская улица           \n166641  посёлок Александровская, 2-я линия             \n166642  посёлок Ушково, Детская улица                  \n166643  г.Санкт-Петербург, Заусадебная улица           \n166644  г.Санкт-Петербург, 8-я Красноармейская улица   \n\n                                 short_name_prefix  \\\n0       г.Пушкин, Кедринская ул.                     \n1       пос. Ушково, Пляжевая ул.                    \n2       г.Санкт-Петербург, пр. Маршала Жукова        \n3       пос. Белоостров, Дюны, Центральная ул.       \n4       пос. Песочный, Речная ул.                    \n...                           ...                    \n166640  г.Санкт-Петербург, Бородинская ул.           \n166641  пос. Александровская, 2-я линия              \n166642  пос. Ушково, Детская ул.                     \n166643  г.Санкт-Петербург, Заусадебная ул.           \n166644  г.Санкт-Петербург, 8-я Красноармейская ул.   \n\n                                                                                                                           search_index_prefix  \\\n0       'город':1,5 'кедринск':7 'кедринская':3 'пушкин':2,6 'улиц':8 'улица':4                                                                  \n1       'пляжев':7 'пляжевая':3 'поселок':5 'посёлок':1 'улиц':8 'улица':4 'ушков':6 'ушково':2                                                  \n2       'г':1,8 'жуков':14 'жукова':7 'марша':13 'маршала':6 'петербург':4,11 'проспект':5,12 'санкт':3,10 'санкт-петербург':2,9                 \n3       'белоостр':7 'белоостров':2 'дюн':8 'дюны':3 'поселок':6 'посёлок':1 'улиц':10 'улица':5 'центральн':9 'центральная':4                   \n4       'песочн':6 'песочный':2 'поселок':5 'посёлок':1 'речн':7 'речная':3 'улиц':8 'улица':4                                                   \n...                                                                                        ...                                                   \n166640  'бородинск':11 'бородинская':5 'г':1,7 'петербург':4,10 'санкт':3,9 'санкт-петербург':2,8 'улиц':12 'улица':6                            \n166641  '2':3,8 'александровск':7 'александровская':2 'лин':10 'линия':5 'поселок':6 'посёлок':1 'я':4                                           \n166642  'детск':7 'детская':3 'поселок':5 'посёлок':1 'улиц':8 'улица':4 'ушков':6 'ушково':2                                                    \n166643  'г':1,7 'заусадебн':11 'заусадебная':5 'петербург':4,10 'санкт':3,9 'санкт-петербург':2,8 'улиц':12 'улица':6                            \n166644  '8':5,13 'г':1,9 'красноармейск':15 'красноармейская':7 'петербург':4,12 'санкт':3,11 'санкт-петербург':2,10 'улиц':16 'улица':8 'я':6   \n\n        is_updated_prefix  is_actual_prefix  sub_rf_id_prefix  \\\n0       True               True              15.0               \n1       True               True              15.0               \n2       True               True              15.0               \n3       True               True              15.0               \n4       True               True              15.0               \n...      ...                ...               ...               \n166640  True               True              15.0               \n166641  True               True              15.0               \n166642  True               True              15.0               \n166643  True               True              15.0               \n166644  True               True              15.0               \n\n        has_buildings_prefix  id_town                name_town  \\\n0       True                  28.0     город Пушкин              \n1       True                  46.0     посёлок Ушково            \n2       True                  36.0     г.Санкт-Петербург         \n3       True                  37.0     посёлок Белоостров        \n4       True                  41.0     посёлок Песочный          \n...      ...                   ...                  ...          \n166640  True                  36.0     г.Санкт-Петербург         \n166641  True                  22.0     посёлок Александровская   \n166642  True                  46.0     посёлок Ушково            \n166643  True                  36.0     г.Санкт-Петербург         \n166644  True                  36.0     г.Санкт-Петербург         \n\n             short_name_town  \\\n0       г.Пушкин               \n1       пос. Ушково            \n2       г.Санкт-Петербург      \n3       пос. Белоостров        \n4       пос. Песочный          \n...               ...          \n166640  г.Санкт-Петербург      \n166641  пос. Александровская   \n166642  пос. Ушково            \n166643  г.Санкт-Петербург      \n166644  г.Санкт-Петербург      \n\n                                                    search_index_town  \\\n0       'город':1,3 'пушкин':2,4                                        \n1       'поселок':3 'посёлок':1 'ушков':4 'ушково':2                    \n2       'г':1,5 'петербург':4,8 'санкт':3,7 'санкт-петербург':2,6       \n3       'белоостр':4 'белоостров':2 'поселок':3 'посёлок':1             \n4       'песочн':4 'песочный':2 'поселок':3 'посёлок':1                 \n...                                                 ...                 \n166640  'г':1,5 'петербург':4,8 'санкт':3,7 'санкт-петербург':2,6       \n166641  'александровск':4 'александровская':2 'поселок':3 'посёлок':1   \n166642  'поселок':3 'посёлок':1 'ушков':4 'ушково':2                    \n166643  'г':1,5 'петербург':4,8 'санкт':3,7 'санкт-петербург':2,6       \n166644  'г':1,5 'петербург':4,8 'санкт':3,7 'санкт-петербург':2,6       \n\n       is_updated_town is_actual_town has_buildings_town  id_geonim  \\\n0       True            True           True               4801.0      \n1       True            True           True               3.0         \n2       True            True           True               2194.0      \n3       True            True           True               319.0       \n4       True            True           True               477.0       \n...      ...             ...            ...                 ...       \n166640  True            True           True               1748.0      \n166641  True            True           True               2861.0      \n166642  True            True           True               4.0         \n166643  True            True           True               1316.0      \n166644  True            True           True               2059.0      \n\n        type_id_geonim                name_geonim        short_name_geonim  \\\n0       12.0            Кедринская улица           Кедринская ул.            \n1       12.0            Пляжевая улица             Пляжевая ул.              \n2       10.0            проспект Маршала Жукова    пр. Маршала Жукова        \n3       12.0            Центральная улица          Центральная ул.           \n4       12.0            Речная улица               Речная ул.                \n...      ...                     ...                      ...                \n166640  12.0            Бородинская улица          Бородинская ул.           \n166641  6.0             2-я линия                  2-я линия                 \n166642  12.0            Детская улица              Детская ул.               \n166643  12.0            Заусадебная улица          Заусадебная ул.           \n166644  12.0            8-я Красноармейская улица  8-я Красноармейская ул.   \n\n       is_updated_geonim is_actual_geonim     only_name_geonim  id_geonimtype  \\\n0       True              True             Кедринская           12.0            \n1       True              True             Пляжевая             12.0            \n2       True              True             Маршала Жукова       10.0            \n3       True              True             Центральная          12.0            \n4       True              True             Речная               12.0            \n...      ...               ...                ...                ...            \n166640  True              True             Бородинская          12.0            \n166641  True              True             2-я                  6.0             \n166642  True              True             Детская              12.0            \n166643  True              True             Заусадебная          12.0            \n166644  True              True             8-я Красноармейская  12.0            \n\n       name_geonimtype short_name_geonimtype is_updated_geonimtype  \\\n0       улица           ул.                   True                   \n1       улица           ул.                   True                   \n2       проспект        пр.                   True                   \n3       улица           ул.                   True                   \n4       улица           ул.                   True                   \n...       ...           ...                    ...                   \n166640  улица           ул.                   True                   \n166641  линия           линия                 True                   \n166642  улица           ул.                   True                   \n166643  улица           ул.                   True                   \n166644  улица           ул.                   True                   \n\n       is_actual_geonimtype  id_area  type_id_area name_area short_name_area  \\\n0       True                NaN      NaN            NaN       NaN              \n1       True                NaN      NaN            NaN       NaN              \n2       True                NaN      NaN            NaN       NaN              \n3       True                NaN      NaN            NaN       NaN              \n4       True                NaN      NaN            NaN       NaN              \n...      ...                 ..       ..            ...       ...              \n166640  True                NaN      NaN            NaN       NaN              \n166641  True                NaN      NaN            NaN       NaN              \n166642  True                NaN      NaN            NaN       NaN              \n166643  True                NaN      NaN            NaN       NaN              \n166644  True                NaN      NaN            NaN       NaN              \n\n       is_updated_area is_actual_area only_name_area  id_areatype  \\\n0       NaN             NaN            NaN           NaN            \n1       NaN             NaN            NaN           NaN            \n2       NaN             NaN            NaN           NaN            \n3       NaN             NaN            NaN           NaN            \n4       NaN             NaN            NaN           NaN            \n...     ...             ...            ...            ..            \n166640  NaN             NaN            NaN           NaN            \n166641  NaN             NaN            NaN           NaN            \n166642  NaN             NaN            NaN           NaN            \n166643  NaN             NaN            NaN           NaN            \n166644  NaN             NaN            NaN           NaN            \n\n       name_areatype short_name_areatype is_updated_areatype  \\\n0       NaN           NaN                 NaN                  \n1       NaN           NaN                 NaN                  \n2       NaN           NaN                 NaN                  \n3       NaN           NaN                 NaN                  \n4       NaN           NaN                 NaN                  \n...     ...           ...                 ...                  \n166640  NaN           NaN                 NaN                  \n166641  NaN           NaN                 NaN                  \n166642  NaN           NaN                 NaN                  \n166643  NaN           NaN                 NaN                  \n166644  NaN           NaN                 NaN                  \n\n       is_actual_areatype    name_district_full  \\\n0       NaN                Пушкинский район       \n1       NaN                Курортный район        \n2       NaN                Кировский район        \n3       NaN                Курортный район        \n4       NaN                Курортный район        \n...     ...                            ...        \n166640  NaN                Адмиралтейский район   \n166641  NaN                Пушкинский район       \n166642  NaN                Курортный район        \n166643  NaN                Приморский район       \n166644  NaN                Адмиралтейский район   \n\n                                                                                            all_in_field  \n0       город Пушкин, Кедринская улица, дом 12, Пушкинский район                                          \n1       поселок Ушково, Пляжевая улица, дом 4Б, Курортный район                                           \n2       г.Санкт-Петербург, проспект Маршала Жукова, дом 30, корпус 2, литера Е, Нежилое, Кировский район  \n3       поселок Белоостров, Дюны, Центральная улица, дом 5, корпус 2, Нежилое, Курортный район            \n4       поселок Песочный, Речная улица, дом 28, литера Б, Курортный район                                 \n...                                                                   ...                                 \n166640  г.Санкт-Петербург, Бородинская улица, дом 3, литера В, Нежилое, Адмиралтейский район              \n166641  посёлок Александровская, 2-я линия, дом 34/3, литера А, Жилое, Пушкинский район                   \n166642  посёлок Ушково, Детская улица, дом 39, Курортный район                                            \n166643  г.Санкт-Петербург, Заусадебная улица, дом 25, литера Б, Нежилое, Приморский район                 \n166644  г.Санкт-Петербург, 8-я Красноармейская улица, дом 16, литера А, Нежилое, Адмиралтейский район     \n\n[166645 rows x 65 columns]",
      "text/html": "<div>\n<style scoped>\n    .dataframe tbody tr th:only-of-type {\n        vertical-align: middle;\n    }\n\n    .dataframe tbody tr th {\n        vertical-align: top;\n    }\n\n    .dataframe thead th {\n        text-align: right;\n    }\n</style>\n<table border=\"1\" class=\"dataframe\">\n  <thead>\n    <tr style=\"text-align: right;\">\n      <th></th>\n      <th>id_building</th>\n      <th>prefix_id_building</th>\n      <th>district_id_building</th>\n      <th>house_building</th>\n      <th>corpus_building</th>\n      <th>liter_building</th>\n      <th>villa_building</th>\n      <th>parcel_building</th>\n      <th>full_address_building</th>\n      <th>is_updated_building</th>\n      <th>is_actual_building</th>\n      <th>type_building</th>\n      <th>municipality_id_building</th>\n      <th>short_address_building</th>\n      <th>post_prefix_building</th>\n      <th>build_number_building</th>\n      <th>id_district</th>\n      <th>name_district</th>\n      <th>is_updated_district</th>\n      <th>is_actual_district</th>\n      <th>id_prefix</th>\n      <th>town_id_prefix</th>\n      <th>geonim_id_prefix</th>\n      <th>area_id_prefix</th>\n      <th>toponim_id_prefix</th>\n      <th>name_prefix</th>\n      <th>short_name_prefix</th>\n      <th>search_index_prefix</th>\n      <th>is_updated_prefix</th>\n      <th>is_actual_prefix</th>\n      <th>sub_rf_id_prefix</th>\n      <th>has_buildings_prefix</th>\n      <th>id_town</th>\n      <th>name_town</th>\n      <th>short_name_town</th>\n      <th>search_index_town</th>\n      <th>is_updated_town</th>\n      <th>is_actual_town</th>\n      <th>has_buildings_town</th>\n      <th>id_geonim</th>\n      <th>type_id_geonim</th>\n      <th>name_geonim</th>\n      <th>short_name_geonim</th>\n      <th>is_updated_geonim</th>\n      <th>is_actual_geonim</th>\n      <th>only_name_geonim</th>\n      <th>id_geonimtype</th>\n      <th>name_geonimtype</th>\n      <th>short_name_geonimtype</th>\n      <th>is_updated_geonimtype</th>\n      <th>is_actual_geonimtype</th>\n      <th>id_area</th>\n      <th>type_id_area</th>\n      <th>name_area</th>\n      <th>short_name_area</th>\n      <th>is_updated_area</th>\n      <th>is_actual_area</th>\n      <th>only_name_area</th>\n      <th>id_areatype</th>\n      <th>name_areatype</th>\n      <th>short_name_areatype</th>\n      <th>is_updated_areatype</th>\n      <th>is_actual_areatype</th>\n      <th>name_district_full</th>\n      <th>all_in_field</th>\n    </tr>\n  </thead>\n  <tbody>\n    <tr>\n      <th>0</th>\n      <td>56343</td>\n      <td>11132</td>\n      <td>35</td>\n      <td>12</td>\n      <td>NaN</td>\n      <td>А</td>\n      <td>NaN</td>\n      <td>NaN</td>\n      <td>город Пушкин, Кедринская улица, дом 12</td>\n      <td>True</td>\n      <td>False</td>\n      <td>NaN</td>\n      <td>107.0</td>\n      <td>г.Пушкин, Кедринская ул., д. 12</td>\n      <td>NaN</td>\n      <td>NaN</td>\n      <td>35</td>\n      <td>Пушкинский</td>\n      <td>True</td>\n      <td>True</td>\n      <td>11132</td>\n      <td>28.0</td>\n      <td>4801.0</td>\n      <td>NaN</td>\n      <td>NaN</td>\n      <td>город Пушкин, Кедринская улица</td>\n      <td>г.Пушкин, Кедринская ул.</td>\n      <td>'город':1,5 'кедринск':7 'кедринская':3 'пушкин':2,6 'улиц':8 'улица':4</td>\n      <td>True</td>\n      <td>True</td>\n      <td>15.0</td>\n      <td>True</td>\n      <td>28.0</td>\n      <td>город Пушкин</td>\n      <td>г.Пушкин</td>\n      <td>'город':1,3 'пушкин':2,4</td>\n      <td>True</td>\n      <td>True</td>\n      <td>True</td>\n      <td>4801.0</td>\n      <td>12.0</td>\n      <td>Кедринская улица</td>\n      <td>Кедринская ул.</td>\n      <td>True</td>\n      <td>True</td>\n      <td>Кедринская</td>\n      <td>12.0</td>\n      <td>улица</td>\n      <td>ул.</td>\n      <td>True</td>\n      <td>True</td>\n      <td>NaN</td>\n      <td>NaN</td>\n      <td>NaN</td>\n      <td>NaN</td>\n      <td>NaN</td>\n      <td>NaN</td>\n      <td>NaN</td>\n      <td>NaN</td>\n      <td>NaN</td>\n      <td>NaN</td>\n      <td>NaN</td>\n      <td>NaN</td>\n      <td>Пушкинский район</td>\n      <td>город Пушкин, Кедринская улица, дом 12, Пушкинский район</td>\n    </tr>\n    <tr>\n      <th>1</th>\n      <td>595</td>\n      <td>6987</td>\n      <td>38</td>\n      <td>4Б</td>\n      <td>NaN</td>\n      <td>NaN</td>\n      <td>NaN</td>\n      <td>NaN</td>\n      <td>поселок Ушково, Пляжевая улица, дом 4Б</td>\n      <td>True</td>\n      <td>False</td>\n      <td>NaN</td>\n      <td>128.0</td>\n      <td>пос. Ушково, Пляжевая ул., д. 4Б</td>\n      <td>NaN</td>\n      <td>NaN</td>\n      <td>38</td>\n      <td>Курортный</td>\n      <td>True</td>\n      <td>True</td>\n      <td>6987</td>\n      <td>46.0</td>\n      <td>3.0</td>\n      <td>NaN</td>\n      <td>NaN</td>\n      <td>посёлок Ушково, Пляжевая улица</td>\n      <td>пос. Ушково, Пляжевая ул.</td>\n      <td>'пляжев':7 'пляжевая':3 'поселок':5 'посёлок':1 'улиц':8 'улица':4 'ушков':6 'ушково':2</td>\n      <td>True</td>\n      <td>True</td>\n      <td>15.0</td>\n      <td>True</td>\n      <td>46.0</td>\n      <td>посёлок Ушково</td>\n      <td>пос. Ушково</td>\n      <td>'поселок':3 'посёлок':1 'ушков':4 'ушково':2</td>\n      <td>True</td>\n      <td>True</td>\n      <td>True</td>\n      <td>3.0</td>\n      <td>12.0</td>\n      <td>Пляжевая улица</td>\n      <td>Пляжевая ул.</td>\n      <td>True</td>\n      <td>True</td>\n      <td>Пляжевая</td>\n      <td>12.0</td>\n      <td>улица</td>\n      <td>ул.</td>\n      <td>True</td>\n      <td>True</td>\n      <td>NaN</td>\n      <td>NaN</td>\n      <td>NaN</td>\n      <td>NaN</td>\n      <td>NaN</td>\n      <td>NaN</td>\n      <td>NaN</td>\n      <td>NaN</td>\n      <td>NaN</td>\n      <td>NaN</td>\n      <td>NaN</td>\n      <td>NaN</td>\n      <td>Курортный район</td>\n      <td>поселок Ушково, Пляжевая улица, дом 4Б, Курортный район</td>\n    </tr>\n    <tr>\n      <th>2</th>\n      <td>7134</td>\n      <td>6469</td>\n      <td>15</td>\n      <td>30</td>\n      <td>2</td>\n      <td>Е</td>\n      <td>NaN</td>\n      <td>NaN</td>\n      <td>г.Санкт-Петербург, проспект Маршала Жукова, дом 30, корпус 2, литера Е</td>\n      <td>True</td>\n      <td>False</td>\n      <td>Нежилое</td>\n      <td>30.0</td>\n      <td>г.Санкт-Петербург, пр. Маршала Жукова, д. 30, к. 2, л. Е</td>\n      <td>198303</td>\n      <td>NaN</td>\n      <td>15</td>\n      <td>Кировский</td>\n      <td>True</td>\n      <td>True</td>\n      <td>6469</td>\n      <td>36.0</td>\n      <td>2194.0</td>\n      <td>NaN</td>\n      <td>NaN</td>\n      <td>г.Санкт-Петербург, проспект Маршала Жукова</td>\n      <td>г.Санкт-Петербург, пр. Маршала Жукова</td>\n      <td>'г':1,8 'жуков':14 'жукова':7 'марша':13 'маршала':6 'петербург':4,11 'проспект':5,12 'санкт':3,10 'санкт-петербург':2,9</td>\n      <td>True</td>\n      <td>True</td>\n      <td>15.0</td>\n      <td>True</td>\n      <td>36.0</td>\n      <td>г.Санкт-Петербург</td>\n      <td>г.Санкт-Петербург</td>\n      <td>'г':1,5 'петербург':4,8 'санкт':3,7 'санкт-петербург':2,6</td>\n      <td>True</td>\n      <td>True</td>\n      <td>True</td>\n      <td>2194.0</td>\n      <td>10.0</td>\n      <td>проспект Маршала Жукова</td>\n      <td>пр. Маршала Жукова</td>\n      <td>True</td>\n      <td>True</td>\n      <td>Маршала Жукова</td>\n      <td>10.0</td>\n      <td>проспект</td>\n      <td>пр.</td>\n      <td>True</td>\n      <td>True</td>\n      <td>NaN</td>\n      <td>NaN</td>\n      <td>NaN</td>\n      <td>NaN</td>\n      <td>NaN</td>\n      <td>NaN</td>\n      <td>NaN</td>\n      <td>NaN</td>\n      <td>NaN</td>\n      <td>NaN</td>\n      <td>NaN</td>\n      <td>NaN</td>\n      <td>Кировский район</td>\n      <td>г.Санкт-Петербург, проспект Маршала Жукова, дом 30, корпус 2, литера Е, Нежилое, Кировский район</td>\n    </tr>\n    <tr>\n      <th>3</th>\n      <td>124415</td>\n      <td>7838</td>\n      <td>38</td>\n      <td>5</td>\n      <td>2</td>\n      <td>А</td>\n      <td>NaN</td>\n      <td>NaN</td>\n      <td>поселок Белоостров, Дюны, Центральная улица, дом 5, корпус 2</td>\n      <td>True</td>\n      <td>False</td>\n      <td>Нежилое</td>\n      <td>110.0</td>\n      <td>пос. Белоостров, Дюны, Центральная ул., д. 5, к. 2</td>\n      <td>NaN</td>\n      <td>NaN</td>\n      <td>38</td>\n      <td>Курортный</td>\n      <td>True</td>\n      <td>True</td>\n      <td>7838</td>\n      <td>37.0</td>\n      <td>319.0</td>\n      <td>NaN</td>\n      <td>161.0</td>\n      <td>посёлок Белоостров, Дюны, Центральная улица</td>\n      <td>пос. Белоостров, Дюны, Центральная ул.</td>\n      <td>'белоостр':7 'белоостров':2 'дюн':8 'дюны':3 'поселок':6 'посёлок':1 'улиц':10 'улица':5 'центральн':9 'центральная':4</td>\n      <td>True</td>\n      <td>True</td>\n      <td>15.0</td>\n      <td>True</td>\n      <td>37.0</td>\n      <td>посёлок Белоостров</td>\n      <td>пос. Белоостров</td>\n      <td>'белоостр':4 'белоостров':2 'поселок':3 'посёлок':1</td>\n      <td>True</td>\n      <td>True</td>\n      <td>True</td>\n      <td>319.0</td>\n      <td>12.0</td>\n      <td>Центральная улица</td>\n      <td>Центральная ул.</td>\n      <td>True</td>\n      <td>True</td>\n      <td>Центральная</td>\n      <td>12.0</td>\n      <td>улица</td>\n      <td>ул.</td>\n      <td>True</td>\n      <td>True</td>\n      <td>NaN</td>\n      <td>NaN</td>\n      <td>NaN</td>\n      <td>NaN</td>\n      <td>NaN</td>\n      <td>NaN</td>\n      <td>NaN</td>\n      <td>NaN</td>\n      <td>NaN</td>\n      <td>NaN</td>\n      <td>NaN</td>\n      <td>NaN</td>\n      <td>Курортный район</td>\n      <td>поселок Белоостров, Дюны, Центральная улица, дом 5, корпус 2, Нежилое, Курортный район</td>\n    </tr>\n    <tr>\n      <th>4</th>\n      <td>185368</td>\n      <td>4224</td>\n      <td>38</td>\n      <td>28</td>\n      <td>NaN</td>\n      <td>Б</td>\n      <td>NaN</td>\n      <td>NaN</td>\n      <td>поселок Песочный, Речная улица, дом 28, литера Б</td>\n      <td>True</td>\n      <td>False</td>\n      <td>NaN</td>\n      <td>118.0</td>\n      <td>пос. Песочный, Речная ул., д. 28, л. Б</td>\n      <td>NaN</td>\n      <td>NaN</td>\n      <td>38</td>\n      <td>Курортный</td>\n      <td>True</td>\n      <td>True</td>\n      <td>4224</td>\n      <td>41.0</td>\n      <td>477.0</td>\n      <td>NaN</td>\n      <td>NaN</td>\n      <td>посёлок Песочный, Речная улица</td>\n      <td>пос. Песочный, Речная ул.</td>\n      <td>'песочн':6 'песочный':2 'поселок':5 'посёлок':1 'речн':7 'речная':3 'улиц':8 'улица':4</td>\n      <td>True</td>\n      <td>True</td>\n      <td>15.0</td>\n      <td>True</td>\n      <td>41.0</td>\n      <td>посёлок Песочный</td>\n      <td>пос. Песочный</td>\n      <td>'песочн':4 'песочный':2 'поселок':3 'посёлок':1</td>\n      <td>True</td>\n      <td>True</td>\n      <td>True</td>\n      <td>477.0</td>\n      <td>12.0</td>\n      <td>Речная улица</td>\n      <td>Речная ул.</td>\n      <td>True</td>\n      <td>True</td>\n      <td>Речная</td>\n      <td>12.0</td>\n      <td>улица</td>\n      <td>ул.</td>\n      <td>True</td>\n      <td>True</td>\n      <td>NaN</td>\n      <td>NaN</td>\n      <td>NaN</td>\n      <td>NaN</td>\n      <td>NaN</td>\n      <td>NaN</td>\n      <td>NaN</td>\n      <td>NaN</td>\n      <td>NaN</td>\n      <td>NaN</td>\n      <td>NaN</td>\n      <td>NaN</td>\n      <td>Курортный район</td>\n      <td>поселок Песочный, Речная улица, дом 28, литера Б, Курортный район</td>\n    </tr>\n    <tr>\n      <th>...</th>\n      <td>...</td>\n      <td>...</td>\n      <td>...</td>\n      <td>...</td>\n      <td>...</td>\n      <td>...</td>\n      <td>...</td>\n      <td>...</td>\n      <td>...</td>\n      <td>...</td>\n      <td>...</td>\n      <td>...</td>\n      <td>...</td>\n      <td>...</td>\n      <td>...</td>\n      <td>...</td>\n      <td>...</td>\n      <td>...</td>\n      <td>...</td>\n      <td>...</td>\n      <td>...</td>\n      <td>...</td>\n      <td>...</td>\n      <td>...</td>\n      <td>...</td>\n      <td>...</td>\n      <td>...</td>\n      <td>...</td>\n      <td>...</td>\n      <td>...</td>\n      <td>...</td>\n      <td>...</td>\n      <td>...</td>\n      <td>...</td>\n      <td>...</td>\n      <td>...</td>\n      <td>...</td>\n      <td>...</td>\n      <td>...</td>\n      <td>...</td>\n      <td>...</td>\n      <td>...</td>\n      <td>...</td>\n      <td>...</td>\n      <td>...</td>\n      <td>...</td>\n      <td>...</td>\n      <td>...</td>\n      <td>...</td>\n      <td>...</td>\n      <td>...</td>\n      <td>...</td>\n      <td>...</td>\n      <td>...</td>\n      <td>...</td>\n      <td>...</td>\n      <td>...</td>\n      <td>...</td>\n      <td>...</td>\n      <td>...</td>\n      <td>...</td>\n      <td>...</td>\n      <td>...</td>\n      <td>...</td>\n      <td>...</td>\n    </tr>\n    <tr>\n      <th>166640</th>\n      <td>18941</td>\n      <td>5289</td>\n      <td>32</td>\n      <td>3</td>\n      <td>NaN</td>\n      <td>В</td>\n      <td>NaN</td>\n      <td>NaN</td>\n      <td>г.Санкт-Петербург, Бородинская улица, дом 3, литера В</td>\n      <td>True</td>\n      <td>True</td>\n      <td>Нежилое</td>\n      <td>4.0</td>\n      <td>г.Санкт-Петербург, Бородинская ул., д. 3, л. В</td>\n      <td>190000.0</td>\n      <td>NaN</td>\n      <td>32</td>\n      <td>Адмиралтейский</td>\n      <td>True</td>\n      <td>True</td>\n      <td>5289</td>\n      <td>36.0</td>\n      <td>1748.0</td>\n      <td>NaN</td>\n      <td>NaN</td>\n      <td>г.Санкт-Петербург, Бородинская улица</td>\n      <td>г.Санкт-Петербург, Бородинская ул.</td>\n      <td>'бородинск':11 'бородинская':5 'г':1,7 'петербург':4,10 'санкт':3,9 'санкт-петербург':2,8 'улиц':12 'улица':6</td>\n      <td>True</td>\n      <td>True</td>\n      <td>15.0</td>\n      <td>True</td>\n      <td>36.0</td>\n      <td>г.Санкт-Петербург</td>\n      <td>г.Санкт-Петербург</td>\n      <td>'г':1,5 'петербург':4,8 'санкт':3,7 'санкт-петербург':2,6</td>\n      <td>True</td>\n      <td>True</td>\n      <td>True</td>\n      <td>1748.0</td>\n      <td>12.0</td>\n      <td>Бородинская улица</td>\n      <td>Бородинская ул.</td>\n      <td>True</td>\n      <td>True</td>\n      <td>Бородинская</td>\n      <td>12.0</td>\n      <td>улица</td>\n      <td>ул.</td>\n      <td>True</td>\n      <td>True</td>\n      <td>NaN</td>\n      <td>NaN</td>\n      <td>NaN</td>\n      <td>NaN</td>\n      <td>NaN</td>\n      <td>NaN</td>\n      <td>NaN</td>\n      <td>NaN</td>\n      <td>NaN</td>\n      <td>NaN</td>\n      <td>NaN</td>\n      <td>NaN</td>\n      <td>Адмиралтейский район</td>\n      <td>г.Санкт-Петербург, Бородинская улица, дом 3, литера В, Нежилое, Адмиралтейский район</td>\n    </tr>\n    <tr>\n      <th>166641</th>\n      <td>18942</td>\n      <td>5031</td>\n      <td>35</td>\n      <td>34/3</td>\n      <td>NaN</td>\n      <td>А</td>\n      <td>NaN</td>\n      <td>NaN</td>\n      <td>посёлок Александровская, 2-я линия, дом 34/3, литера А</td>\n      <td>True</td>\n      <td>True</td>\n      <td>Жилое</td>\n      <td>109.0</td>\n      <td>пос. Александровская, 2-я линия, д. 34/3, л. А</td>\n      <td>196631.0</td>\n      <td>NaN</td>\n      <td>35</td>\n      <td>Пушкинский</td>\n      <td>True</td>\n      <td>True</td>\n      <td>5031</td>\n      <td>22.0</td>\n      <td>2861.0</td>\n      <td>NaN</td>\n      <td>NaN</td>\n      <td>посёлок Александровская, 2-я линия</td>\n      <td>пос. Александровская, 2-я линия</td>\n      <td>'2':3,8 'александровск':7 'александровская':2 'лин':10 'линия':5 'поселок':6 'посёлок':1 'я':4</td>\n      <td>True</td>\n      <td>True</td>\n      <td>15.0</td>\n      <td>True</td>\n      <td>22.0</td>\n      <td>посёлок Александровская</td>\n      <td>пос. Александровская</td>\n      <td>'александровск':4 'александровская':2 'поселок':3 'посёлок':1</td>\n      <td>True</td>\n      <td>True</td>\n      <td>True</td>\n      <td>2861.0</td>\n      <td>6.0</td>\n      <td>2-я линия</td>\n      <td>2-я линия</td>\n      <td>True</td>\n      <td>True</td>\n      <td>2-я</td>\n      <td>6.0</td>\n      <td>линия</td>\n      <td>линия</td>\n      <td>True</td>\n      <td>True</td>\n      <td>NaN</td>\n      <td>NaN</td>\n      <td>NaN</td>\n      <td>NaN</td>\n      <td>NaN</td>\n      <td>NaN</td>\n      <td>NaN</td>\n      <td>NaN</td>\n      <td>NaN</td>\n      <td>NaN</td>\n      <td>NaN</td>\n      <td>NaN</td>\n      <td>Пушкинский район</td>\n      <td>посёлок Александровская, 2-я линия, дом 34/3, литера А, Жилое, Пушкинский район</td>\n    </tr>\n    <tr>\n      <th>166642</th>\n      <td>18943</td>\n      <td>5623</td>\n      <td>38</td>\n      <td>39</td>\n      <td>NaN</td>\n      <td>NaN</td>\n      <td>NaN</td>\n      <td>NaN</td>\n      <td>посёлок Ушково, Детская улица, дом 39</td>\n      <td>True</td>\n      <td>False</td>\n      <td>NaN</td>\n      <td>128.0</td>\n      <td>пос. Ушково, Детская ул., д. 39</td>\n      <td>NaN</td>\n      <td>NaN</td>\n      <td>38</td>\n      <td>Курортный</td>\n      <td>True</td>\n      <td>True</td>\n      <td>5623</td>\n      <td>46.0</td>\n      <td>4.0</td>\n      <td>NaN</td>\n      <td>NaN</td>\n      <td>посёлок Ушково, Детская улица</td>\n      <td>пос. Ушково, Детская ул.</td>\n      <td>'детск':7 'детская':3 'поселок':5 'посёлок':1 'улиц':8 'улица':4 'ушков':6 'ушково':2</td>\n      <td>True</td>\n      <td>True</td>\n      <td>15.0</td>\n      <td>True</td>\n      <td>46.0</td>\n      <td>посёлок Ушково</td>\n      <td>пос. Ушково</td>\n      <td>'поселок':3 'посёлок':1 'ушков':4 'ушково':2</td>\n      <td>True</td>\n      <td>True</td>\n      <td>True</td>\n      <td>4.0</td>\n      <td>12.0</td>\n      <td>Детская улица</td>\n      <td>Детская ул.</td>\n      <td>True</td>\n      <td>True</td>\n      <td>Детская</td>\n      <td>12.0</td>\n      <td>улица</td>\n      <td>ул.</td>\n      <td>True</td>\n      <td>True</td>\n      <td>NaN</td>\n      <td>NaN</td>\n      <td>NaN</td>\n      <td>NaN</td>\n      <td>NaN</td>\n      <td>NaN</td>\n      <td>NaN</td>\n      <td>NaN</td>\n      <td>NaN</td>\n      <td>NaN</td>\n      <td>NaN</td>\n      <td>NaN</td>\n      <td>Курортный район</td>\n      <td>посёлок Ушково, Детская улица, дом 39, Курортный район</td>\n    </tr>\n    <tr>\n      <th>166643</th>\n      <td>18944</td>\n      <td>5787</td>\n      <td>34</td>\n      <td>25</td>\n      <td>NaN</td>\n      <td>Б</td>\n      <td>NaN</td>\n      <td>NaN</td>\n      <td>г.Санкт-Петербург, Заусадебная улица, дом 25, литера Б</td>\n      <td>True</td>\n      <td>False</td>\n      <td>Нежилое</td>\n      <td>68.0</td>\n      <td>г.Санкт-Петербург, Заусадебная ул., д. 25, л. Б</td>\n      <td>NaN</td>\n      <td>NaN</td>\n      <td>34</td>\n      <td>Приморский</td>\n      <td>True</td>\n      <td>True</td>\n      <td>5787</td>\n      <td>36.0</td>\n      <td>1316.0</td>\n      <td>NaN</td>\n      <td>NaN</td>\n      <td>г.Санкт-Петербург, Заусадебная улица</td>\n      <td>г.Санкт-Петербург, Заусадебная ул.</td>\n      <td>'г':1,7 'заусадебн':11 'заусадебная':5 'петербург':4,10 'санкт':3,9 'санкт-петербург':2,8 'улиц':12 'улица':6</td>\n      <td>True</td>\n      <td>True</td>\n      <td>15.0</td>\n      <td>True</td>\n      <td>36.0</td>\n      <td>г.Санкт-Петербург</td>\n      <td>г.Санкт-Петербург</td>\n      <td>'г':1,5 'петербург':4,8 'санкт':3,7 'санкт-петербург':2,6</td>\n      <td>True</td>\n      <td>True</td>\n      <td>True</td>\n      <td>1316.0</td>\n      <td>12.0</td>\n      <td>Заусадебная улица</td>\n      <td>Заусадебная ул.</td>\n      <td>True</td>\n      <td>True</td>\n      <td>Заусадебная</td>\n      <td>12.0</td>\n      <td>улица</td>\n      <td>ул.</td>\n      <td>True</td>\n      <td>True</td>\n      <td>NaN</td>\n      <td>NaN</td>\n      <td>NaN</td>\n      <td>NaN</td>\n      <td>NaN</td>\n      <td>NaN</td>\n      <td>NaN</td>\n      <td>NaN</td>\n      <td>NaN</td>\n      <td>NaN</td>\n      <td>NaN</td>\n      <td>NaN</td>\n      <td>Приморский район</td>\n      <td>г.Санкт-Петербург, Заусадебная улица, дом 25, литера Б, Нежилое, Приморский район</td>\n    </tr>\n    <tr>\n      <th>166644</th>\n      <td>18945</td>\n      <td>6124</td>\n      <td>32</td>\n      <td>16</td>\n      <td>NaN</td>\n      <td>А</td>\n      <td>NaN</td>\n      <td>NaN</td>\n      <td>г.Санкт-Петербург, 8-я Красноармейская улица, дом 16, литера А</td>\n      <td>True</td>\n      <td>True</td>\n      <td>Нежилое</td>\n      <td>5.0</td>\n      <td>г.Санкт-Петербург, 8-я Красноармейская ул., д. 16, л. А</td>\n      <td>198103.0</td>\n      <td>NaN</td>\n      <td>32</td>\n      <td>Адмиралтейский</td>\n      <td>True</td>\n      <td>True</td>\n      <td>6124</td>\n      <td>36.0</td>\n      <td>2059.0</td>\n      <td>NaN</td>\n      <td>NaN</td>\n      <td>г.Санкт-Петербург, 8-я Красноармейская улица</td>\n      <td>г.Санкт-Петербург, 8-я Красноармейская ул.</td>\n      <td>'8':5,13 'г':1,9 'красноармейск':15 'красноармейская':7 'петербург':4,12 'санкт':3,11 'санкт-петербург':2,10 'улиц':16 'улица':8 'я':6</td>\n      <td>True</td>\n      <td>True</td>\n      <td>15.0</td>\n      <td>True</td>\n      <td>36.0</td>\n      <td>г.Санкт-Петербург</td>\n      <td>г.Санкт-Петербург</td>\n      <td>'г':1,5 'петербург':4,8 'санкт':3,7 'санкт-петербург':2,6</td>\n      <td>True</td>\n      <td>True</td>\n      <td>True</td>\n      <td>2059.0</td>\n      <td>12.0</td>\n      <td>8-я Красноармейская улица</td>\n      <td>8-я Красноармейская ул.</td>\n      <td>True</td>\n      <td>True</td>\n      <td>8-я Красноармейская</td>\n      <td>12.0</td>\n      <td>улица</td>\n      <td>ул.</td>\n      <td>True</td>\n      <td>True</td>\n      <td>NaN</td>\n      <td>NaN</td>\n      <td>NaN</td>\n      <td>NaN</td>\n      <td>NaN</td>\n      <td>NaN</td>\n      <td>NaN</td>\n      <td>NaN</td>\n      <td>NaN</td>\n      <td>NaN</td>\n      <td>NaN</td>\n      <td>NaN</td>\n      <td>Адмиралтейский район</td>\n      <td>г.Санкт-Петербург, 8-я Красноармейская улица, дом 16, литера А, Нежилое, Адмиралтейский район</td>\n    </tr>\n  </tbody>\n</table>\n<p>166645 rows × 65 columns</p>\n</div>"
     },
     "execution_count": 123,
     "metadata": {},
     "output_type": "execute_result"
    }
   ],
   "source": [
    "train = (\n",
    "    pd.read_csv('../data/raw/additional_data/building_20230808.csv').add_suffix('_building')\n",
    "    .merge(\n",
    "        pd.read_csv('../data/raw/additional_data/district_20230808.csv').add_suffix('_district'),\n",
    "        left_on='district_id_building',\n",
    "        right_on='id_district',\n",
    "        how='left',\n",
    "    )\n",
    "    .merge(\n",
    "        pd.read_csv('../data/raw/additional_data/prefix_20230808.csv').add_suffix('_prefix'),\n",
    "        left_on='prefix_id_building',\n",
    "        right_on='id_prefix',\n",
    "        how='left',\n",
    "    )\n",
    "    .merge(\n",
    "        pd.read_csv('../data/raw/additional_data/town_20230808.csv').add_suffix('_town'),\n",
    "        left_on='town_id_prefix',\n",
    "        right_on='id_town',\n",
    "        how='left',\n",
    "    )\n",
    "    .merge(\n",
    "        pd.read_csv('../data/raw/additional_data/geonim_20230808.csv').add_suffix('_geonim'),\n",
    "        left_on='geonim_id_prefix',\n",
    "        right_on='id_geonim',\n",
    "        how='left',\n",
    "    )\n",
    "    .merge(\n",
    "        pd.read_csv('../data/raw/additional_data/geonimtype_20230808.csv').add_suffix('_geonimtype'),\n",
    "        left_on='type_id_geonim',\n",
    "        right_on='id_geonimtype',\n",
    "        how='left',\n",
    "    )\n",
    "    .merge(\n",
    "        pd.read_csv('../data/raw/additional_data/area_20230808.csv').add_suffix('_area'),\n",
    "        left_on='area_id_prefix',\n",
    "        right_on='id_area',\n",
    "        how='left',\n",
    "    )\n",
    "    .merge(\n",
    "        pd.read_csv('../data/raw/additional_data/areatype_20230808.csv').add_suffix('_areatype'),\n",
    "        left_on='type_id_area',\n",
    "        right_on='id_areatype',\n",
    "        how='left',\n",
    "    )\n",
    "    .assign(name_district_full=lambda df_: df_.name_district + ' район')\n",
    "    .assign(\n",
    "        all_in_field=lambda df_: df_[['full_address_building', 'type_building',\n",
    "                                      'name_district_full', 'name_area', 'name_areatype']]\n",
    "        .apply(lambda x: join_non_null_values(x), axis=1)\n",
    "    )\n",
    ")\n",
    "train.to_pickle(\"../data/processed/main_data.pkl\")\n",
    "train"
   ],
   "metadata": {
    "collapsed": false,
    "ExecuteTime": {
     "end_time": "2023-08-26T13:20:39.837478Z",
     "start_time": "2023-08-26T13:20:37.945873Z"
    }
   },
   "id": "bdf8c0d3a8fb2bd0"
  },
  {
   "cell_type": "code",
   "execution_count": 8,
   "outputs": [],
   "source": [
    "for_embeddings = (\n",
    "    pd.DataFrame(\n",
    "        np.concatenate([\n",
    "            train[['id_building', 'full_address_building']].values,\n",
    "            train[['id_building', 'all_in_field']].values,\n",
    "            # train[['id_building', 'short_address_building']].values,\n",
    "            # train[['id_building', 'name_prefix']].values,\n",
    "            # train[['id_building', 'short_name_prefix']].values,\n",
    "            # train[['id_building', 'name_town']].values,\n",
    "            # train[['id_building', 'short_name_town']].values,\n",
    "            # train[['id_building', 'name_geonim']].values,\n",
    "            # train[['id_building', 'short_name_geonim']].values,\n",
    "            # train[['id_building', 'only_name_geonim']].values,\n",
    "            # train[['id_building', 'name_prefix']].values,\n",
    "            # train[['id_building', 'short_name_prefix']].values,\n",
    "            # train[['id_building', 'name_geonimtype']].values,\n",
    "            # train[['id_building', 'only_name_area']].values,\n",
    "            # train[['id_building', 'name_areatype']].values,\n",
    "            # train[['id_building', 'short_name_areatype']].values,\n",
    "            # train[['id_building', 'name_district']].values,\n",
    "            # train[['id_building', 'name_district_full']].values,\n",
    "        ], axis=0),\n",
    "        columns=['id_building', 'address']\n",
    "    )\n",
    "    .dropna()\n",
    "    .reset_index(drop=True)\n",
    ")"
   ],
   "metadata": {
    "collapsed": false,
    "ExecuteTime": {
     "end_time": "2023-08-26T11:58:59.604718Z",
     "start_time": "2023-08-26T11:58:59.504167Z"
    }
   },
   "id": "472631310b377693"
  },
  {
   "cell_type": "code",
   "execution_count": 10,
   "outputs": [
    {
     "data": {
      "text/plain": "       id_building  \\\n0       56343        \n1       595          \n2       7134         \n3       124415       \n4       185368       \n...        ...       \n333285  18941        \n333286  18942        \n333287  18943        \n333288  18944        \n333289  18945        \n\n                                                                                              address  \n0       город Пушкин, Кедринская улица, дом 12                                                         \n1       поселок Ушково, Пляжевая улица, дом 4Б                                                         \n2       г.Санкт-Петербург, проспект Маршала Жукова, дом 30, корпус 2, литера Е                         \n3       поселок Белоостров, Дюны, Центральная улица, дом 5, корпус 2                                   \n4       поселок Песочный, Речная улица, дом 28, литера Б                                               \n...                                                  ...                                               \n333285  г.Санкт-Петербург, Бородинская улица, дом 3, литера В, Нежилое, Адмиралтейский район           \n333286  посёлок Александровская, 2-я линия, дом 34/3, литера А, Жилое, Пушкинский район                \n333287  посёлок Ушково, Детская улица, дом 39, Курортный район                                         \n333288  г.Санкт-Петербург, Заусадебная улица, дом 25, литера Б, Нежилое, Приморский район              \n333289  г.Санкт-Петербург, 8-я Красноармейская улица, дом 16, литера А, Нежилое, Адмиралтейский район  \n\n[333290 rows x 2 columns]",
      "text/html": "<div>\n<style scoped>\n    .dataframe tbody tr th:only-of-type {\n        vertical-align: middle;\n    }\n\n    .dataframe tbody tr th {\n        vertical-align: top;\n    }\n\n    .dataframe thead th {\n        text-align: right;\n    }\n</style>\n<table border=\"1\" class=\"dataframe\">\n  <thead>\n    <tr style=\"text-align: right;\">\n      <th></th>\n      <th>id_building</th>\n      <th>address</th>\n    </tr>\n  </thead>\n  <tbody>\n    <tr>\n      <th>0</th>\n      <td>56343</td>\n      <td>город Пушкин, Кедринская улица, дом 12</td>\n    </tr>\n    <tr>\n      <th>1</th>\n      <td>595</td>\n      <td>поселок Ушково, Пляжевая улица, дом 4Б</td>\n    </tr>\n    <tr>\n      <th>2</th>\n      <td>7134</td>\n      <td>г.Санкт-Петербург, проспект Маршала Жукова, дом 30, корпус 2, литера Е</td>\n    </tr>\n    <tr>\n      <th>3</th>\n      <td>124415</td>\n      <td>поселок Белоостров, Дюны, Центральная улица, дом 5, корпус 2</td>\n    </tr>\n    <tr>\n      <th>4</th>\n      <td>185368</td>\n      <td>поселок Песочный, Речная улица, дом 28, литера Б</td>\n    </tr>\n    <tr>\n      <th>...</th>\n      <td>...</td>\n      <td>...</td>\n    </tr>\n    <tr>\n      <th>333285</th>\n      <td>18941</td>\n      <td>г.Санкт-Петербург, Бородинская улица, дом 3, литера В, Нежилое, Адмиралтейский район</td>\n    </tr>\n    <tr>\n      <th>333286</th>\n      <td>18942</td>\n      <td>посёлок Александровская, 2-я линия, дом 34/3, литера А, Жилое, Пушкинский район</td>\n    </tr>\n    <tr>\n      <th>333287</th>\n      <td>18943</td>\n      <td>посёлок Ушково, Детская улица, дом 39, Курортный район</td>\n    </tr>\n    <tr>\n      <th>333288</th>\n      <td>18944</td>\n      <td>г.Санкт-Петербург, Заусадебная улица, дом 25, литера Б, Нежилое, Приморский район</td>\n    </tr>\n    <tr>\n      <th>333289</th>\n      <td>18945</td>\n      <td>г.Санкт-Петербург, 8-я Красноармейская улица, дом 16, литера А, Нежилое, Адмиралтейский район</td>\n    </tr>\n  </tbody>\n</table>\n<p>333290 rows × 2 columns</p>\n</div>"
     },
     "execution_count": 10,
     "metadata": {},
     "output_type": "execute_result"
    }
   ],
   "source": [
    "for_embeddings.to_pickle('../data/processed/for_embeddings_with_names.pkl')\n",
    "for_embeddings"
   ],
   "metadata": {
    "collapsed": false,
    "ExecuteTime": {
     "end_time": "2023-08-26T11:59:07.516137Z",
     "start_time": "2023-08-26T11:59:07.435360Z"
    }
   },
   "id": "bef76d66edbcdcd3"
  },
  {
   "cell_type": "markdown",
   "source": [
    "# Step 2 - Get Embeddings"
   ],
   "metadata": {
    "collapsed": false
   },
   "id": "d27836b2a97fcf46"
  },
  {
   "cell_type": "code",
   "execution_count": 124,
   "outputs": [],
   "source": [
    "from sentence_transformers import SentenceTransformer #, util\n",
    "\n",
    "model = SentenceTransformer('sentence-transformers/all-MiniLM-L6-v2')\n",
    "\n",
    "# embeddings_list = [0] * len(for_embeddings)"
   ],
   "metadata": {
    "collapsed": false,
    "ExecuteTime": {
     "end_time": "2023-08-26T13:23:15.615666Z",
     "start_time": "2023-08-26T13:23:15.413349Z"
    }
   },
   "id": "4ed50121e5a383eb"
  },
  {
   "cell_type": "code",
   "execution_count": 12,
   "outputs": [],
   "source": [
    "from transformers import AutoTokenizer, AutoModel\n",
    "import torch\n",
    "import torch.nn.functional as F\n",
    "\n",
    "tokenizer = AutoTokenizer.from_pretrained('sentence-transformers/all-MiniLM-L6-v2')\n",
    "model = AutoModel.from_pretrained('sentence-transformers/all-MiniLM-L6-v2')"
   ],
   "metadata": {
    "collapsed": false,
    "ExecuteTime": {
     "end_time": "2023-08-26T11:59:11.800052Z",
     "start_time": "2023-08-26T11:59:11.084733Z"
    }
   },
   "id": "ff666af30bc38cea"
  },
  {
   "cell_type": "code",
   "execution_count": 13,
   "outputs": [],
   "source": [
    "# embeddings = tokenizer(list(for_embeddings['address']), padding=True, truncation=True, return_tensors='pt')"
   ],
   "metadata": {
    "collapsed": false,
    "ExecuteTime": {
     "end_time": "2023-08-26T11:59:37.501794Z",
     "start_time": "2023-08-26T11:59:12.854646Z"
    }
   },
   "id": "4afe06aac0fd9055"
  },
  {
   "cell_type": "code",
   "execution_count": 126,
   "outputs": [],
   "source": [
    "embeddings = model.encode(for_embeddings['address'].astype('str'), convert_to_tensor=True, show_progress_bar=True,\n",
    "                          batch_size=128)"
   ],
   "metadata": {
    "collapsed": false,
    "ExecuteTime": {
     "end_time": "2023-08-26T13:23:31.309538Z",
     "start_time": "2023-08-26T13:23:31.305486Z"
    }
   },
   "id": "e49e2472fbde3570"
  },
  {
   "cell_type": "code",
   "execution_count": 24,
   "outputs": [],
   "source": [
    "with open('../data/processed/embeddings.pkl', 'wb') as fp:\n",
    "    pickle.dump(embeddings, fp)"
   ],
   "metadata": {
    "collapsed": false,
    "ExecuteTime": {
     "end_time": "2023-08-26T12:18:30.076685Z",
     "start_time": "2023-08-26T12:18:29.469249Z"
    }
   },
   "id": "3b2296d9903f36a7"
  },
  {
   "cell_type": "code",
   "execution_count": 25,
   "outputs": [],
   "source": [
    "# embeddings.to_pickle(\"../data/processed/embeddings.pkl\")"
   ],
   "metadata": {
    "collapsed": false,
    "ExecuteTime": {
     "end_time": "2023-08-26T12:19:18.733879Z",
     "start_time": "2023-08-26T12:19:18.730372Z"
    }
   },
   "id": "a4987a4a42a5e75"
  },
  {
   "cell_type": "code",
   "execution_count": 160,
   "outputs": [],
   "source": [
    "# #split DataFrame into chunks and iter over it creating embeddings\n",
    "# n = 1000 #specify number of rows in each chunk\n",
    "# embeddings = torch.empty(0)\n",
    "# for batch in tqdm([for_embeddings[i:i + n] for i in range(0, len(for_embeddings), n)]):\n",
    "#     batch_embedding = model.encode(batch['address'].astype('str'), convert_to_tensor=True, show_progress_bar=True)\n",
    "#     embeddings = torch.concat([embeddings, batch_embedding])"
   ],
   "metadata": {
    "collapsed": false,
    "ExecuteTime": {
     "end_time": "2023-08-26T11:40:02.992778Z",
     "start_time": "2023-08-26T11:40:02.983282Z"
    }
   },
   "id": "357793f73e735bec"
  },
  {
   "cell_type": "code",
   "execution_count": 161,
   "outputs": [],
   "source": [
    "# batch"
   ],
   "metadata": {
    "collapsed": false,
    "ExecuteTime": {
     "end_time": "2023-08-26T11:40:06.615931Z",
     "start_time": "2023-08-26T11:40:06.611851Z"
    }
   },
   "id": "1a8784659ba90775"
  },
  {
   "cell_type": "code",
   "execution_count": null,
   "outputs": [],
   "source": [
    "# for_embeddings['address'].parallel_apply(lambda x: model.encode(x, convert_to_tensor=True))"
   ],
   "metadata": {
    "collapsed": false
   },
   "id": "94ea30c2276ba6b0"
  },
  {
   "cell_type": "code",
   "execution_count": 162,
   "outputs": [],
   "source": [
    "\n",
    "# embeddings_list = []\n",
    "# for indx in tqdm(range(len(for_embeddings))):\n",
    "# # train_emb_only.loc[indx, 'full_address_embedding'] = Fake(model.encode(train_emb_only.loc[indx, 'full_address'], convert_to_tensor=True))\n",
    "#     embeddings_list.append(model.encode(for_embeddings.loc[indx, 'address'], convert_to_tensor=True))\n",
    "# # train_emb_only.full_address_embedding = train_emb_only.full_address_embedding.apply(lambda x: x.obj)\n",
    "# embeddings_list"
   ],
   "metadata": {
    "collapsed": false,
    "ExecuteTime": {
     "end_time": "2023-08-26T11:40:11.303441Z",
     "start_time": "2023-08-26T11:40:11.295479Z"
    }
   },
   "id": "1360d90ddcabbb14"
  },
  {
   "cell_type": "markdown",
   "source": [
    "# Step 3 - Similarity Matcher"
   ],
   "metadata": {
    "collapsed": false
   },
   "id": "66ac32a7fa7578da"
  },
  {
   "cell_type": "code",
   "execution_count": 134,
   "outputs": [],
   "source": [
    "with open('../data/processed/embeddings.pkl', 'rb') as f:\n",
    "    embeddings = pickle.load(f)\n",
    "\n",
    "for_embeddings = pd.read_pickle(\"../data/processed/for_embeddings_with_names.pkl\")"
   ],
   "metadata": {
    "collapsed": false,
    "ExecuteTime": {
     "end_time": "2023-08-26T14:44:11.349894Z",
     "start_time": "2023-08-26T14:44:11.126757Z"
    }
   },
   "id": "9ba804e7c8ae986e"
  },
  {
   "cell_type": "code",
   "execution_count": 203,
   "outputs": [],
   "source": [
    "QUERY = [\"г.Санкт-Петербург, набережная Обводного канала, дом 205, литера М\"]"
   ],
   "metadata": {
    "collapsed": false,
    "ExecuteTime": {
     "end_time": "2023-08-26T15:26:13.536970Z",
     "start_time": "2023-08-26T15:26:13.533373Z"
    }
   },
   "id": "8da4912dba164d67"
  },
  {
   "cell_type": "code",
   "execution_count": 208,
   "outputs": [],
   "source": [
    "def get_best_matches(query, top_n, embeddings: np.array, sentences):\n",
    "    model = SentenceTransformer('sentence-transformers/all-MiniLM-L6-v2')\n",
    "    query_embedding = model.encode(query, convert_to_tensor=True)\n",
    "    scores = embeddings.dot(query_embedding.T).ravel()\n",
    "    best = np.argpartition(scores, -top_n)[-top_n:]\n",
    "    sentences['scores'] = scores\n",
    "    sentences.loc[list(best), 'lev_distance'] = sentences.loc[list(best), 'address'].apply(\n",
    "        lambda x: lev_distance(query, x))\n",
    "    best_matches = sentences[['id_building', 'address', 'scores', 'lev_distance']].loc[list(best)]\n",
    "    best_matches_within_id_indices = best_matches.groupby(['id_building']).scores.transform(max) == best_matches.scores\n",
    "    best_matches = best_matches.loc[best_matches_within_id_indices].sort_values(by='scores',\n",
    "                                                                                ascending=False).reset_index(drop=True)\n",
    "    if len(best_matches[best_matches['scores'] >= 0.99]):\n",
    "        return best_matches[best_matches['scores'] >= 0.99]\n",
    "    elif len(best_matches[best_matches['scores'] >= 0.90]):\n",
    "        return best_matches[best_matches['scores'] >= 0.90]\n",
    "    elif len(best_matches[best_matches['scores'] >= 0.90]):\n",
    "        return best_matches[best_matches['scores'] >= 0.90]\n",
    "    else:\n",
    "        return best_matches\n",
    "    # return best_matches.loc[best_matches_within_id_indices].sort_values(by='lev_distance').reset_index(drop=True)"
   ],
   "metadata": {
    "collapsed": false,
    "ExecuteTime": {
     "end_time": "2023-08-26T15:27:10.921062Z",
     "start_time": "2023-08-26T15:27:10.910651Z"
    }
   },
   "id": "e9199af6df780b1e"
  },
  {
   "cell_type": "code",
   "execution_count": 205,
   "outputs": [
    {
     "data": {
      "text/plain": "  id_building  \\\n0  84908        \n\n                                                             address  scores  \\\n0  г.Санкт-Петербург, набережная Обводного канала, дом 205, литера М  1.0      \n\n   lev_distance  \n0  65.0          ",
      "text/html": "<div>\n<style scoped>\n    .dataframe tbody tr th:only-of-type {\n        vertical-align: middle;\n    }\n\n    .dataframe tbody tr th {\n        vertical-align: top;\n    }\n\n    .dataframe thead th {\n        text-align: right;\n    }\n</style>\n<table border=\"1\" class=\"dataframe\">\n  <thead>\n    <tr style=\"text-align: right;\">\n      <th></th>\n      <th>id_building</th>\n      <th>address</th>\n      <th>scores</th>\n      <th>lev_distance</th>\n    </tr>\n  </thead>\n  <tbody>\n    <tr>\n      <th>0</th>\n      <td>84908</td>\n      <td>г.Санкт-Петербург, набережная Обводного канала, дом 205, литера М</td>\n      <td>1.0</td>\n      <td>65.0</td>\n    </tr>\n  </tbody>\n</table>\n</div>"
     },
     "execution_count": 205,
     "metadata": {},
     "output_type": "execute_result"
    }
   ],
   "source": [
    "get_best_matches(QUERY, 10, np.array(embeddings), for_embeddings)"
   ],
   "metadata": {
    "collapsed": false,
    "ExecuteTime": {
     "end_time": "2023-08-26T15:26:14.558899Z",
     "start_time": "2023-08-26T15:26:14.304145Z"
    }
   },
   "id": "ec4a3fe0d14251f8"
  },
  {
   "cell_type": "code",
   "execution_count": 209,
   "outputs": [],
   "source": [
    "QUERY = [\"г.Санкт-Петербург, набережная Обводного канала, дом 205, литера М\",\n",
    "         'г.Санкт-Петербург, набережная Обводного канала, дом 205, литера А']\n",
    "\n",
    "def multiple_best_matches(file, top_n, embeddings: np.array, sentences):\n",
    "    res = pd.DataFrame()\n",
    "    for el in file:\n",
    "        res = pd.concat([res, get_best_matches(el, top_n, embeddings, sentences)])\n",
    "    return res.reset_index(drop=True)\n",
    "    "
   ],
   "metadata": {
    "collapsed": false,
    "ExecuteTime": {
     "end_time": "2023-08-26T15:27:12.705860Z",
     "start_time": "2023-08-26T15:27:12.695930Z"
    }
   },
   "id": "e8010501dba0cc0a"
  },
  {
   "cell_type": "code",
   "execution_count": 210,
   "outputs": [
    {
     "data": {
      "text/plain": "   id_building  \\\n0   56343        \n1   595          \n2   7134         \n3   199215       \n4   39404        \n5   39211        \n6   61406        \n7   4649         \n8   124415       \n9   100211       \n10  185368       \n11  2459         \n12  163249       \n13  112309       \n14  186361       \n15  187158       \n16  56448        \n17  40214        \n18  50281        \n19  2528         \n20  33462        \n21  59821        \n22  1603         \n23  90175        \n24  39523        \n25  16759        \n26  24236        \n27  106544       \n28  174203       \n29  126228       \n30  174201       \n31  124827       \n32  174200       \n\n                                                                   address  \\\n0   город Пушкин, Кедринская улица, дом 12                                   \n1   поселок Ушково, Пляжевая улица, дом 4Б                                   \n2   г.Санкт-Петербург, проспект Маршала Жукова, дом 30, корпус 2, литера Е   \n3   г.Санкт-Петербург, проспект Маршала Жукова, дом 30, корпус 2, литера Е   \n4   г.Санкт-Петербург, проспект Маршала Жукова, дом 30, корпус 2, литера И   \n5   г.Санкт-Петербург, проспект Маршала Жукова, дом 30, корпус 2, литера Д   \n6   г.Санкт-Петербург, проспект Маршала Жукова, дом 30, корпус 2, литера В   \n7   г.Санкт-Петербург, проспект Маршала Жукова, дом 30, корпус 2, литера А   \n8   поселок Белоостров, Дюны, Центральная улица, дом 5, корпус 2             \n9   посёлок Песочный, Речная улица, дом 28, литера Б                         \n10  поселок Песочный, Речная улица, дом 28, литера Б                         \n11  г.Санкт-Петербург, Большой проспект П.С., дом 49/18, литера Д            \n12  г.Санкт-Петербург, Большой проспект П.С., дом 49/18, литера Д            \n13  поселок Солнечное, Комсомольская улица, дом 15, литера Б                 \n14  посёлок Солнечное, Комсомольская улица, дом 15а, литера Б                \n15  г.Санкт-Петербург, набережная Обводного канала, дом 223-225, литера П    \n16  г.Санкт-Петербург, набережная Обводного канала, дом 223-225, литера П    \n17  г.Санкт-Петербург, набережная Обводного канала, дом 223-225, литера О    \n18  г.Санкт-Петербург, набережная Обводного канала, дом 223-225, литера Н    \n19  г.Санкт-Петербург, набережная Обводного канала, дом 223-225, литера С    \n20  г.Санкт-Петербург, набережная Обводного канала, дом 223-225, литера К    \n21  г.Санкт-Петербург, набережная Обводного канала, дом 223-225, литера Т    \n22  г.Санкт-Петербург, набережная Обводного канала, дом 223-225, литера У    \n23  г.Санкт-Петербург, набережная Обводного канала, дом 223-225, литера Я    \n24  г.Санкт-Петербург, набережная Обводного канала, дом 223-225, литера Д    \n25  поселок Александровская, Беличья улица, дом 7                            \n26  поселок Парголово, Осиновая Роща, Вокзальное шоссе, дом 55, корпус 2     \n27  г.Санкт-Петербург, Малоохтинский проспект, дом 64, литера В              \n28  г.Санкт-Петербург, Малоохтинский проспект, дом 64, литера В              \n29  г.Санкт-Петербург, Малоохтинский проспект, дом 64, литера В              \n30  г.Санкт-Петербург, Малоохтинский проспект, дом 64, литера Д              \n31  г.Санкт-Петербург, Малоохтинский проспект, дом 64, литера Д              \n32  г.Санкт-Петербург, Малоохтинский проспект, дом 64, литера А              \n\n      scores  lev_distance  \n0   1.000000  0.0           \n1   1.000000  0.0           \n2   1.000000  0.0           \n3   1.000000  0.0           \n4   0.991955  1.0           \n5   0.991091  1.0           \n6   0.990869  1.0           \n7   0.990053  1.0           \n8   1.000000  0.0           \n9   1.000000  1.0           \n10  1.000000  0.0           \n11  1.000000  0.0           \n12  1.000000  0.0           \n13  1.000000  0.0           \n14  0.992979  2.0           \n15  1.000000  0.0           \n16  1.000000  0.0           \n17  0.995607  1.0           \n18  0.994873  1.0           \n19  0.994477  1.0           \n20  0.994403  1.0           \n21  0.994181  1.0           \n22  0.993722  1.0           \n23  0.993627  1.0           \n24  0.993179  1.0           \n25  1.000000  0.0           \n26  1.000000  0.0           \n27  1.000000  0.0           \n28  1.000000  0.0           \n29  1.000000  0.0           \n30  0.993228  1.0           \n31  0.993228  1.0           \n32  0.990272  1.0           ",
      "text/html": "<div>\n<style scoped>\n    .dataframe tbody tr th:only-of-type {\n        vertical-align: middle;\n    }\n\n    .dataframe tbody tr th {\n        vertical-align: top;\n    }\n\n    .dataframe thead th {\n        text-align: right;\n    }\n</style>\n<table border=\"1\" class=\"dataframe\">\n  <thead>\n    <tr style=\"text-align: right;\">\n      <th></th>\n      <th>id_building</th>\n      <th>address</th>\n      <th>scores</th>\n      <th>lev_distance</th>\n    </tr>\n  </thead>\n  <tbody>\n    <tr>\n      <th>0</th>\n      <td>56343</td>\n      <td>город Пушкин, Кедринская улица, дом 12</td>\n      <td>1.000000</td>\n      <td>0.0</td>\n    </tr>\n    <tr>\n      <th>1</th>\n      <td>595</td>\n      <td>поселок Ушково, Пляжевая улица, дом 4Б</td>\n      <td>1.000000</td>\n      <td>0.0</td>\n    </tr>\n    <tr>\n      <th>2</th>\n      <td>7134</td>\n      <td>г.Санкт-Петербург, проспект Маршала Жукова, дом 30, корпус 2, литера Е</td>\n      <td>1.000000</td>\n      <td>0.0</td>\n    </tr>\n    <tr>\n      <th>3</th>\n      <td>199215</td>\n      <td>г.Санкт-Петербург, проспект Маршала Жукова, дом 30, корпус 2, литера Е</td>\n      <td>1.000000</td>\n      <td>0.0</td>\n    </tr>\n    <tr>\n      <th>4</th>\n      <td>39404</td>\n      <td>г.Санкт-Петербург, проспект Маршала Жукова, дом 30, корпус 2, литера И</td>\n      <td>0.991955</td>\n      <td>1.0</td>\n    </tr>\n    <tr>\n      <th>5</th>\n      <td>39211</td>\n      <td>г.Санкт-Петербург, проспект Маршала Жукова, дом 30, корпус 2, литера Д</td>\n      <td>0.991091</td>\n      <td>1.0</td>\n    </tr>\n    <tr>\n      <th>6</th>\n      <td>61406</td>\n      <td>г.Санкт-Петербург, проспект Маршала Жукова, дом 30, корпус 2, литера В</td>\n      <td>0.990869</td>\n      <td>1.0</td>\n    </tr>\n    <tr>\n      <th>7</th>\n      <td>4649</td>\n      <td>г.Санкт-Петербург, проспект Маршала Жукова, дом 30, корпус 2, литера А</td>\n      <td>0.990053</td>\n      <td>1.0</td>\n    </tr>\n    <tr>\n      <th>8</th>\n      <td>124415</td>\n      <td>поселок Белоостров, Дюны, Центральная улица, дом 5, корпус 2</td>\n      <td>1.000000</td>\n      <td>0.0</td>\n    </tr>\n    <tr>\n      <th>9</th>\n      <td>100211</td>\n      <td>посёлок Песочный, Речная улица, дом 28, литера Б</td>\n      <td>1.000000</td>\n      <td>1.0</td>\n    </tr>\n    <tr>\n      <th>10</th>\n      <td>185368</td>\n      <td>поселок Песочный, Речная улица, дом 28, литера Б</td>\n      <td>1.000000</td>\n      <td>0.0</td>\n    </tr>\n    <tr>\n      <th>11</th>\n      <td>2459</td>\n      <td>г.Санкт-Петербург, Большой проспект П.С., дом 49/18, литера Д</td>\n      <td>1.000000</td>\n      <td>0.0</td>\n    </tr>\n    <tr>\n      <th>12</th>\n      <td>163249</td>\n      <td>г.Санкт-Петербург, Большой проспект П.С., дом 49/18, литера Д</td>\n      <td>1.000000</td>\n      <td>0.0</td>\n    </tr>\n    <tr>\n      <th>13</th>\n      <td>112309</td>\n      <td>поселок Солнечное, Комсомольская улица, дом 15, литера Б</td>\n      <td>1.000000</td>\n      <td>0.0</td>\n    </tr>\n    <tr>\n      <th>14</th>\n      <td>186361</td>\n      <td>посёлок Солнечное, Комсомольская улица, дом 15а, литера Б</td>\n      <td>0.992979</td>\n      <td>2.0</td>\n    </tr>\n    <tr>\n      <th>15</th>\n      <td>187158</td>\n      <td>г.Санкт-Петербург, набережная Обводного канала, дом 223-225, литера П</td>\n      <td>1.000000</td>\n      <td>0.0</td>\n    </tr>\n    <tr>\n      <th>16</th>\n      <td>56448</td>\n      <td>г.Санкт-Петербург, набережная Обводного канала, дом 223-225, литера П</td>\n      <td>1.000000</td>\n      <td>0.0</td>\n    </tr>\n    <tr>\n      <th>17</th>\n      <td>40214</td>\n      <td>г.Санкт-Петербург, набережная Обводного канала, дом 223-225, литера О</td>\n      <td>0.995607</td>\n      <td>1.0</td>\n    </tr>\n    <tr>\n      <th>18</th>\n      <td>50281</td>\n      <td>г.Санкт-Петербург, набережная Обводного канала, дом 223-225, литера Н</td>\n      <td>0.994873</td>\n      <td>1.0</td>\n    </tr>\n    <tr>\n      <th>19</th>\n      <td>2528</td>\n      <td>г.Санкт-Петербург, набережная Обводного канала, дом 223-225, литера С</td>\n      <td>0.994477</td>\n      <td>1.0</td>\n    </tr>\n    <tr>\n      <th>20</th>\n      <td>33462</td>\n      <td>г.Санкт-Петербург, набережная Обводного канала, дом 223-225, литера К</td>\n      <td>0.994403</td>\n      <td>1.0</td>\n    </tr>\n    <tr>\n      <th>21</th>\n      <td>59821</td>\n      <td>г.Санкт-Петербург, набережная Обводного канала, дом 223-225, литера Т</td>\n      <td>0.994181</td>\n      <td>1.0</td>\n    </tr>\n    <tr>\n      <th>22</th>\n      <td>1603</td>\n      <td>г.Санкт-Петербург, набережная Обводного канала, дом 223-225, литера У</td>\n      <td>0.993722</td>\n      <td>1.0</td>\n    </tr>\n    <tr>\n      <th>23</th>\n      <td>90175</td>\n      <td>г.Санкт-Петербург, набережная Обводного канала, дом 223-225, литера Я</td>\n      <td>0.993627</td>\n      <td>1.0</td>\n    </tr>\n    <tr>\n      <th>24</th>\n      <td>39523</td>\n      <td>г.Санкт-Петербург, набережная Обводного канала, дом 223-225, литера Д</td>\n      <td>0.993179</td>\n      <td>1.0</td>\n    </tr>\n    <tr>\n      <th>25</th>\n      <td>16759</td>\n      <td>поселок Александровская, Беличья улица, дом 7</td>\n      <td>1.000000</td>\n      <td>0.0</td>\n    </tr>\n    <tr>\n      <th>26</th>\n      <td>24236</td>\n      <td>поселок Парголово, Осиновая Роща, Вокзальное шоссе, дом 55, корпус 2</td>\n      <td>1.000000</td>\n      <td>0.0</td>\n    </tr>\n    <tr>\n      <th>27</th>\n      <td>106544</td>\n      <td>г.Санкт-Петербург, Малоохтинский проспект, дом 64, литера В</td>\n      <td>1.000000</td>\n      <td>0.0</td>\n    </tr>\n    <tr>\n      <th>28</th>\n      <td>174203</td>\n      <td>г.Санкт-Петербург, Малоохтинский проспект, дом 64, литера В</td>\n      <td>1.000000</td>\n      <td>0.0</td>\n    </tr>\n    <tr>\n      <th>29</th>\n      <td>126228</td>\n      <td>г.Санкт-Петербург, Малоохтинский проспект, дом 64, литера В</td>\n      <td>1.000000</td>\n      <td>0.0</td>\n    </tr>\n    <tr>\n      <th>30</th>\n      <td>174201</td>\n      <td>г.Санкт-Петербург, Малоохтинский проспект, дом 64, литера Д</td>\n      <td>0.993228</td>\n      <td>1.0</td>\n    </tr>\n    <tr>\n      <th>31</th>\n      <td>124827</td>\n      <td>г.Санкт-Петербург, Малоохтинский проспект, дом 64, литера Д</td>\n      <td>0.993228</td>\n      <td>1.0</td>\n    </tr>\n    <tr>\n      <th>32</th>\n      <td>174200</td>\n      <td>г.Санкт-Петербург, Малоохтинский проспект, дом 64, литера А</td>\n      <td>0.990272</td>\n      <td>1.0</td>\n    </tr>\n  </tbody>\n</table>\n</div>"
     },
     "execution_count": 210,
     "metadata": {},
     "output_type": "execute_result"
    }
   ],
   "source": [
    "x = multiple_best_matches(train['full_address_building'].loc[:10].values, 10, np.array(embeddings), for_embeddings)\n",
    "x"
   ],
   "metadata": {
    "collapsed": false,
    "ExecuteTime": {
     "end_time": "2023-08-26T15:27:16.495050Z",
     "start_time": "2023-08-26T15:27:12.912811Z"
    }
   },
   "id": "eea8d40a6c77b23d"
  },
  {
   "cell_type": "code",
   "execution_count": 200,
   "outputs": [
    {
     "data": {
      "text/plain": "0     город Пушкин, Кедринская улица, дом 12                                \n1     поселок Ушково, Пляжевая улица, дом 4Б                                \n2     г.Санкт-Петербург, проспект Маршала Жукова, дом 30, корпус 2, литера Е\n3     поселок Белоостров, Дюны, Центральная улица, дом 5, корпус 2          \n4     поселок Песочный, Речная улица, дом 28, литера Б                      \n5     г.Санкт-Петербург, Большой проспект П.С., дом 49/18, литера Д         \n6     поселок Солнечное, Комсомольская улица, дом 15, литера Б              \n7     г.Санкт-Петербург, набережная Обводного канала, дом 223-225, литера П \n8     поселок Александровская, Беличья улица, дом 7                         \n9     поселок Парголово, Осиновая Роща, Вокзальное шоссе, дом 55, корпус 2  \n10    г.Санкт-Петербург, Малоохтинский проспект, дом 64, литера В           \nName: full_address_building, dtype: object"
     },
     "execution_count": 200,
     "metadata": {},
     "output_type": "execute_result"
    }
   ],
   "source": [
    "train['full_address_building'].loc[:10]"
   ],
   "metadata": {
    "collapsed": false,
    "ExecuteTime": {
     "end_time": "2023-08-26T15:25:07.989612Z",
     "start_time": "2023-08-26T15:25:07.984191Z"
    }
   },
   "id": "1f67ce19103c28e9"
  },
  {
   "cell_type": "code",
   "execution_count": 119,
   "outputs": [],
   "source": [
    "def slow_get_best_matches(query, top_n, embeddings: np.array, sentences):\n",
    "    model = SentenceTransformer('sentence-transformers/all-MiniLM-L6-v2')\n",
    "    query_embedding = model.encode(query, convert_to_tensor=True)\n",
    "    scores = embeddings.dot(query_embedding.T).ravel()\n",
    "    best = np.argpartition(scores, -top_n)[-top_n:]\n",
    "    sentences['scores'] = scores\n",
    "    sentences.loc[list(best), 'lev_distance'] = sentences.loc[list(best), 'address'].apply(\n",
    "        lambda x: lev_distance(query, x))\n",
    "    best_matches = sentences[['id_building', 'address', 'scores', 'lev_distance']].loc[list(best)]\n",
    "    add_data = pd.read_pickle(\"../data/processed/main_data.pkl\")\n",
    "    best_matches = best_matches.merge(add_data[['id_building', 'liter_building', 'name_district_full', 'name_town']])\n",
    "    best_matches_within_id_indices = best_matches.groupby(['id_building']).scores.transform(max) == best_matches.scores\n",
    "    best_matches = best_matches.loc[best_matches_within_id_indices].sort_values(by='scores',\n",
    "                                                                                ascending=False).reset_index(drop=True)\n",
    "\n",
    "    # add logic to topn selection\n",
    "    # add catboost here to ass probabilities\n",
    "    if len(best_matches[best_matches['scores'] >= 0.98]):\n",
    "        return best_matches[best_matches['scores'] >= 0.98]\n",
    "    elif len(best_matches[best_matches['scores'] >= 0.90]):\n",
    "        return best_matches[best_matches['scores'] >= 0.90]\n",
    "    else:\n",
    "        return best_matches"
   ],
   "metadata": {
    "collapsed": false,
    "ExecuteTime": {
     "end_time": "2023-08-26T13:16:20.025820Z",
     "start_time": "2023-08-26T13:16:20.009729Z"
    }
   },
   "id": "191c278f0ec58f60"
  },
  {
   "cell_type": "code",
   "execution_count": 120,
   "outputs": [
    {
     "data": {
      "text/plain": "  id_building  \\\n0  84908        \n1  31542        \n\n                                                             address  \\\n0  г.Санкт-Петербург, набережная Обводного канала, дом 205, литера М   \n1  г.Санкт-Петербург, набережная Обводного канала, дом 205, литера А   \n\n     scores  lev_distance liter_building    name_district_full  \\\n0  1.000000  65.0          М              Адмиралтейский район   \n1  0.990537  65.0          А              Адмиралтейский район   \n\n           name_town  \n0  г.Санкт-Петербург  \n1  г.Санкт-Петербург  ",
      "text/html": "<div>\n<style scoped>\n    .dataframe tbody tr th:only-of-type {\n        vertical-align: middle;\n    }\n\n    .dataframe tbody tr th {\n        vertical-align: top;\n    }\n\n    .dataframe thead th {\n        text-align: right;\n    }\n</style>\n<table border=\"1\" class=\"dataframe\">\n  <thead>\n    <tr style=\"text-align: right;\">\n      <th></th>\n      <th>id_building</th>\n      <th>address</th>\n      <th>scores</th>\n      <th>lev_distance</th>\n      <th>liter_building</th>\n      <th>name_district_full</th>\n      <th>name_town</th>\n    </tr>\n  </thead>\n  <tbody>\n    <tr>\n      <th>0</th>\n      <td>84908</td>\n      <td>г.Санкт-Петербург, набережная Обводного канала, дом 205, литера М</td>\n      <td>1.000000</td>\n      <td>65.0</td>\n      <td>М</td>\n      <td>Адмиралтейский район</td>\n      <td>г.Санкт-Петербург</td>\n    </tr>\n    <tr>\n      <th>1</th>\n      <td>31542</td>\n      <td>г.Санкт-Петербург, набережная Обводного канала, дом 205, литера А</td>\n      <td>0.990537</td>\n      <td>65.0</td>\n      <td>А</td>\n      <td>Адмиралтейский район</td>\n      <td>г.Санкт-Петербург</td>\n    </tr>\n  </tbody>\n</table>\n</div>"
     },
     "execution_count": 120,
     "metadata": {},
     "output_type": "execute_result"
    }
   ],
   "source": [
    "slow_get_best_matches(QUERY, 10, np.array(embeddings), for_embeddings)"
   ],
   "metadata": {
    "collapsed": false,
    "ExecuteTime": {
     "end_time": "2023-08-26T13:16:22.458169Z",
     "start_time": "2023-08-26T13:16:21.776696Z"
    }
   },
   "id": "277aefe6383a9f01"
  },
  {
   "cell_type": "markdown",
   "source": [
    "test:\n",
    "г.Санкт-Петербург, дом 223-225, наб. Обводного канала\n",
    "г.Санкт-Петербург, дом 223-225\n",
    "посёлок Солнечное, Комсомольская улица"
   ],
   "metadata": {
    "collapsed": false
   },
   "id": "bca0938c7bac802c"
  },
  {
   "cell_type": "code",
   "execution_count": null,
   "outputs": [],
   "source": [
    "# create test dataframe"
   ],
   "metadata": {
    "collapsed": false
   },
   "id": "494ca8a6a116f92e"
  }
 ],
 "metadata": {
  "kernelspec": {
   "display_name": "Python 3",
   "language": "python",
   "name": "python3"
  },
  "language_info": {
   "codemirror_mode": {
    "name": "ipython",
    "version": 2
   },
   "file_extension": ".py",
   "mimetype": "text/x-python",
   "name": "python",
   "nbconvert_exporter": "python",
   "pygments_lexer": "ipython2",
   "version": "2.7.6"
  }
 },
 "nbformat": 4,
 "nbformat_minor": 5
}
