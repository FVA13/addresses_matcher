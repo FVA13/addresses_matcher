{
 "cells": [
  {
   "cell_type": "code",
   "execution_count": 13,
   "outputs": [],
   "source": [
    "import pandas as pd\n",
    "# from pandarallel import pandarallel\n",
    "import numpy as np\n",
    "import seaborn as sns\n",
    "import plotly.express as px\n",
    "from tqdm import tqdm\n",
    "\n",
    "import warnings\n",
    "\n",
    "warnings.filterwarnings('ignore')\n",
    "sns.set(rc={'figure.figsize': (20, 10), 'figure.facecolor': 'white'})\n",
    "sns.set_palette(\"viridis\")\n",
    "# pandarallel.initialize(progress_bar=True)"
   ],
   "metadata": {
    "collapsed": false,
    "ExecuteTime": {
     "end_time": "2023-08-26T08:43:38.731779Z",
     "start_time": "2023-08-26T08:43:38.728673Z"
    }
   },
   "id": "f95e7de9e4f398d6"
  },
  {
   "cell_type": "markdown",
   "source": [
    "# Stage 1 - Get Data"
   ],
   "metadata": {
    "collapsed": false
   },
   "id": "8facf2e21185d039"
  },
  {
   "cell_type": "code",
   "execution_count": 5,
   "outputs": [
    {
     "data": {
      "text/plain": "        id_building  prefix_id  district_id house corpus liter villa parcel  \\\n0             56343      11132           35    12    NaN     А   NaN    NaN   \n1               595       6987           38    4Б    NaN   NaN   NaN    NaN   \n2              7134       6469           15    30      2     Е   NaN    NaN   \n3            124415       7838           38     5      2     А   NaN    NaN   \n4            185368       4224           38    28    NaN     Б   NaN    NaN   \n...             ...        ...          ...   ...    ...   ...   ...    ...   \n166640        18941       5289           32     3    NaN     В   NaN    NaN   \n166641        18942       5031           35  34/3    NaN     А   NaN    NaN   \n166642        18943       5623           38    39    NaN   NaN   NaN    NaN   \n166643        18944       5787           34    25    NaN     Б   NaN    NaN   \n166644        18945       6124           32    16    NaN     А   NaN    NaN   \n\n                                             full_address  \\\n0                  город Пушкин, Кедринская улица, дом 12   \n1                  поселок Ушково, Пляжевая улица, дом 4Б   \n2       г.Санкт-Петербург, проспект Маршала Жукова, до...   \n3       поселок Белоостров, Дюны, Центральная улица, д...   \n4        поселок Песочный, Речная улица, дом 28, литера Б   \n...                                                   ...   \n166640  г.Санкт-Петербург, Бородинская улица, дом 3, л...   \n166641  посёлок Александровская, 2-я линия, дом 34/3, ...   \n166642              посёлок Ушково, Детская улица, дом 39   \n166643  г.Санкт-Петербург, Заусадебная улица, дом 25, ...   \n166644  г.Санкт-Петербург, 8-я Красноармейская улица, ...   \n\n        is_updated_building  ...  is_updated_town is_actual_town  \\\n0                      True  ...             True           True   \n1                      True  ...             True           True   \n2                      True  ...             True           True   \n3                      True  ...             True           True   \n4                      True  ...             True           True   \n...                     ...  ...              ...            ...   \n166640                 True  ...             True           True   \n166641                 True  ...             True           True   \n166642                 True  ...             True           True   \n166643                 True  ...             True           True   \n166644                 True  ...             True           True   \n\n        has_buildings_town      id type_id                name_geonim  \\\n0                     True  4801.0    12.0           Кедринская улица   \n1                     True     3.0    12.0             Пляжевая улица   \n2                     True  2194.0    10.0    проспект Маршала Жукова   \n3                     True   319.0    12.0          Центральная улица   \n4                     True   477.0    12.0               Речная улица   \n...                    ...     ...     ...                        ...   \n166640                True  1748.0    12.0          Бородинская улица   \n166641                True  2861.0     6.0                  2-я линия   \n166642                True     4.0    12.0              Детская улица   \n166643                True  1316.0    12.0          Заусадебная улица   \n166644                True  2059.0    12.0  8-я Красноармейская улица   \n\n              short_name_geonim is_updated  is_actual     only_name_geonim  \n0                Кедринская ул.       True       True           Кедринская  \n1                  Пляжевая ул.       True       True             Пляжевая  \n2            пр. Маршала Жукова       True       True       Маршала Жукова  \n3               Центральная ул.       True       True          Центральная  \n4                    Речная ул.       True       True               Речная  \n...                         ...        ...        ...                  ...  \n166640          Бородинская ул.       True       True          Бородинская  \n166641                2-я линия       True       True                  2-я  \n166642              Детская ул.       True       True              Детская  \n166643          Заусадебная ул.       True       True          Заусадебная  \n166644  8-я Красноармейская ул.       True       True  8-я Красноармейская  \n\n[166645 rows x 46 columns]",
      "text/html": "<div>\n<style scoped>\n    .dataframe tbody tr th:only-of-type {\n        vertical-align: middle;\n    }\n\n    .dataframe tbody tr th {\n        vertical-align: top;\n    }\n\n    .dataframe thead th {\n        text-align: right;\n    }\n</style>\n<table border=\"1\" class=\"dataframe\">\n  <thead>\n    <tr style=\"text-align: right;\">\n      <th></th>\n      <th>id_building</th>\n      <th>prefix_id</th>\n      <th>district_id</th>\n      <th>house</th>\n      <th>corpus</th>\n      <th>liter</th>\n      <th>villa</th>\n      <th>parcel</th>\n      <th>full_address</th>\n      <th>is_updated_building</th>\n      <th>...</th>\n      <th>is_updated_town</th>\n      <th>is_actual_town</th>\n      <th>has_buildings_town</th>\n      <th>id</th>\n      <th>type_id</th>\n      <th>name_geonim</th>\n      <th>short_name_geonim</th>\n      <th>is_updated</th>\n      <th>is_actual</th>\n      <th>only_name_geonim</th>\n    </tr>\n  </thead>\n  <tbody>\n    <tr>\n      <th>0</th>\n      <td>56343</td>\n      <td>11132</td>\n      <td>35</td>\n      <td>12</td>\n      <td>NaN</td>\n      <td>А</td>\n      <td>NaN</td>\n      <td>NaN</td>\n      <td>город Пушкин, Кедринская улица, дом 12</td>\n      <td>True</td>\n      <td>...</td>\n      <td>True</td>\n      <td>True</td>\n      <td>True</td>\n      <td>4801.0</td>\n      <td>12.0</td>\n      <td>Кедринская улица</td>\n      <td>Кедринская ул.</td>\n      <td>True</td>\n      <td>True</td>\n      <td>Кедринская</td>\n    </tr>\n    <tr>\n      <th>1</th>\n      <td>595</td>\n      <td>6987</td>\n      <td>38</td>\n      <td>4Б</td>\n      <td>NaN</td>\n      <td>NaN</td>\n      <td>NaN</td>\n      <td>NaN</td>\n      <td>поселок Ушково, Пляжевая улица, дом 4Б</td>\n      <td>True</td>\n      <td>...</td>\n      <td>True</td>\n      <td>True</td>\n      <td>True</td>\n      <td>3.0</td>\n      <td>12.0</td>\n      <td>Пляжевая улица</td>\n      <td>Пляжевая ул.</td>\n      <td>True</td>\n      <td>True</td>\n      <td>Пляжевая</td>\n    </tr>\n    <tr>\n      <th>2</th>\n      <td>7134</td>\n      <td>6469</td>\n      <td>15</td>\n      <td>30</td>\n      <td>2</td>\n      <td>Е</td>\n      <td>NaN</td>\n      <td>NaN</td>\n      <td>г.Санкт-Петербург, проспект Маршала Жукова, до...</td>\n      <td>True</td>\n      <td>...</td>\n      <td>True</td>\n      <td>True</td>\n      <td>True</td>\n      <td>2194.0</td>\n      <td>10.0</td>\n      <td>проспект Маршала Жукова</td>\n      <td>пр. Маршала Жукова</td>\n      <td>True</td>\n      <td>True</td>\n      <td>Маршала Жукова</td>\n    </tr>\n    <tr>\n      <th>3</th>\n      <td>124415</td>\n      <td>7838</td>\n      <td>38</td>\n      <td>5</td>\n      <td>2</td>\n      <td>А</td>\n      <td>NaN</td>\n      <td>NaN</td>\n      <td>поселок Белоостров, Дюны, Центральная улица, д...</td>\n      <td>True</td>\n      <td>...</td>\n      <td>True</td>\n      <td>True</td>\n      <td>True</td>\n      <td>319.0</td>\n      <td>12.0</td>\n      <td>Центральная улица</td>\n      <td>Центральная ул.</td>\n      <td>True</td>\n      <td>True</td>\n      <td>Центральная</td>\n    </tr>\n    <tr>\n      <th>4</th>\n      <td>185368</td>\n      <td>4224</td>\n      <td>38</td>\n      <td>28</td>\n      <td>NaN</td>\n      <td>Б</td>\n      <td>NaN</td>\n      <td>NaN</td>\n      <td>поселок Песочный, Речная улица, дом 28, литера Б</td>\n      <td>True</td>\n      <td>...</td>\n      <td>True</td>\n      <td>True</td>\n      <td>True</td>\n      <td>477.0</td>\n      <td>12.0</td>\n      <td>Речная улица</td>\n      <td>Речная ул.</td>\n      <td>True</td>\n      <td>True</td>\n      <td>Речная</td>\n    </tr>\n    <tr>\n      <th>...</th>\n      <td>...</td>\n      <td>...</td>\n      <td>...</td>\n      <td>...</td>\n      <td>...</td>\n      <td>...</td>\n      <td>...</td>\n      <td>...</td>\n      <td>...</td>\n      <td>...</td>\n      <td>...</td>\n      <td>...</td>\n      <td>...</td>\n      <td>...</td>\n      <td>...</td>\n      <td>...</td>\n      <td>...</td>\n      <td>...</td>\n      <td>...</td>\n      <td>...</td>\n      <td>...</td>\n    </tr>\n    <tr>\n      <th>166640</th>\n      <td>18941</td>\n      <td>5289</td>\n      <td>32</td>\n      <td>3</td>\n      <td>NaN</td>\n      <td>В</td>\n      <td>NaN</td>\n      <td>NaN</td>\n      <td>г.Санкт-Петербург, Бородинская улица, дом 3, л...</td>\n      <td>True</td>\n      <td>...</td>\n      <td>True</td>\n      <td>True</td>\n      <td>True</td>\n      <td>1748.0</td>\n      <td>12.0</td>\n      <td>Бородинская улица</td>\n      <td>Бородинская ул.</td>\n      <td>True</td>\n      <td>True</td>\n      <td>Бородинская</td>\n    </tr>\n    <tr>\n      <th>166641</th>\n      <td>18942</td>\n      <td>5031</td>\n      <td>35</td>\n      <td>34/3</td>\n      <td>NaN</td>\n      <td>А</td>\n      <td>NaN</td>\n      <td>NaN</td>\n      <td>посёлок Александровская, 2-я линия, дом 34/3, ...</td>\n      <td>True</td>\n      <td>...</td>\n      <td>True</td>\n      <td>True</td>\n      <td>True</td>\n      <td>2861.0</td>\n      <td>6.0</td>\n      <td>2-я линия</td>\n      <td>2-я линия</td>\n      <td>True</td>\n      <td>True</td>\n      <td>2-я</td>\n    </tr>\n    <tr>\n      <th>166642</th>\n      <td>18943</td>\n      <td>5623</td>\n      <td>38</td>\n      <td>39</td>\n      <td>NaN</td>\n      <td>NaN</td>\n      <td>NaN</td>\n      <td>NaN</td>\n      <td>посёлок Ушково, Детская улица, дом 39</td>\n      <td>True</td>\n      <td>...</td>\n      <td>True</td>\n      <td>True</td>\n      <td>True</td>\n      <td>4.0</td>\n      <td>12.0</td>\n      <td>Детская улица</td>\n      <td>Детская ул.</td>\n      <td>True</td>\n      <td>True</td>\n      <td>Детская</td>\n    </tr>\n    <tr>\n      <th>166643</th>\n      <td>18944</td>\n      <td>5787</td>\n      <td>34</td>\n      <td>25</td>\n      <td>NaN</td>\n      <td>Б</td>\n      <td>NaN</td>\n      <td>NaN</td>\n      <td>г.Санкт-Петербург, Заусадебная улица, дом 25, ...</td>\n      <td>True</td>\n      <td>...</td>\n      <td>True</td>\n      <td>True</td>\n      <td>True</td>\n      <td>1316.0</td>\n      <td>12.0</td>\n      <td>Заусадебная улица</td>\n      <td>Заусадебная ул.</td>\n      <td>True</td>\n      <td>True</td>\n      <td>Заусадебная</td>\n    </tr>\n    <tr>\n      <th>166644</th>\n      <td>18945</td>\n      <td>6124</td>\n      <td>32</td>\n      <td>16</td>\n      <td>NaN</td>\n      <td>А</td>\n      <td>NaN</td>\n      <td>NaN</td>\n      <td>г.Санкт-Петербург, 8-я Красноармейская улица, ...</td>\n      <td>True</td>\n      <td>...</td>\n      <td>True</td>\n      <td>True</td>\n      <td>True</td>\n      <td>2059.0</td>\n      <td>12.0</td>\n      <td>8-я Красноармейская улица</td>\n      <td>8-я Красноармейская ул.</td>\n      <td>True</td>\n      <td>True</td>\n      <td>8-я Красноармейская</td>\n    </tr>\n  </tbody>\n</table>\n<p>166645 rows × 46 columns</p>\n</div>"
     },
     "execution_count": 5,
     "metadata": {},
     "output_type": "execute_result"
    }
   ],
   "source": [
    "train = (\n",
    "    pd.read_csv('../data/raw/additional_data/building_20230808.csv')\n",
    "    .merge(\n",
    "        pd.read_csv('../data/raw/additional_data/district_20230808.csv'),\n",
    "        left_on='district_id',\n",
    "        right_on='id',\n",
    "        how='left',\n",
    "        suffixes=('_building', '_district')\n",
    "    )\n",
    "    .merge(\n",
    "        pd.read_csv('../data/raw/additional_data/prefix_20230808.csv'),\n",
    "        left_on='prefix_id',\n",
    "        right_on='id',\n",
    "        how='left',\n",
    "        suffixes=('_district', '_prefix')\n",
    "    )\n",
    "    .merge(\n",
    "        pd.read_csv('../data/raw/additional_data/town_20230808.csv'),\n",
    "        left_on='town_id',\n",
    "        right_on='id',\n",
    "        how='left',\n",
    "        suffixes=('_prefix', '_town')\n",
    "    )\n",
    "    .merge(\n",
    "        pd.read_csv('../data/raw/additional_data/geonim_20230808.csv'),\n",
    "        left_on='geonim_id',\n",
    "        right_on='id',\n",
    "        how='left',\n",
    "        suffixes=('_town', '_geonim')\n",
    "    )\n",
    "    .rename(columns={'short_name': 'short_name_geonim', 'only_name': 'only_name_geonim'})\n",
    "    # [['id_building', 'full_address', 'short_address', 'house', 'corpus', 'liter', 'name_town',\n",
    "    #   'short_name_town', 'name_geonim', 'short_name_geonim', 'only_name_geonim']]  # 'id_building', 'post_prefix'\n",
    ")\n",
    "train"
   ],
   "metadata": {
    "collapsed": false,
    "ExecuteTime": {
     "end_time": "2023-08-26T08:41:41.795991Z",
     "start_time": "2023-08-26T08:41:40.933935Z"
    }
   },
   "id": "bdf8c0d3a8fb2bd0"
  },
  {
   "cell_type": "markdown",
   "source": [
    "# Step 2 - Get Embeddings"
   ],
   "metadata": {
    "collapsed": false
   },
   "id": "d27836b2a97fcf46"
  },
  {
   "cell_type": "code",
   "execution_count": 4,
   "outputs": [],
   "source": [],
   "metadata": {
    "collapsed": false,
    "ExecuteTime": {
     "end_time": "2023-08-26T06:45:54.306047Z",
     "start_time": "2023-08-26T06:45:54.301257Z"
    }
   },
   "id": "1360d90ddcabbb14"
  },
  {
   "cell_type": "markdown",
   "source": [
    "# Step 3 - Model"
   ],
   "metadata": {
    "collapsed": false
   },
   "id": "66ac32a7fa7578da"
  },
  {
   "cell_type": "code",
   "execution_count": 6,
   "outputs": [],
   "source": [
    "QUERY = [\"г.Санкт-Петербург, дом 223-225, наб. Обводного канала\"]\n",
    "\n",
    "# add logic to topn selection"
   ],
   "metadata": {
    "collapsed": false,
    "ExecuteTime": {
     "end_time": "2023-08-26T08:41:43.726634Z",
     "start_time": "2023-08-26T08:41:43.717225Z"
    }
   },
   "id": "8da4912dba164d67"
  },
  {
   "cell_type": "code",
   "execution_count": 7,
   "outputs": [],
   "source": [
    "from sentence_transformers import SentenceTransformer, util\n",
    "import pickle"
   ],
   "metadata": {
    "collapsed": false,
    "ExecuteTime": {
     "end_time": "2023-08-26T08:41:45.005926Z",
     "start_time": "2023-08-26T08:41:44.018308Z"
    }
   },
   "id": "cd4a40219e000226"
  },
  {
   "cell_type": "code",
   "execution_count": 9,
   "outputs": [],
   "source": [
    "import pickle\n",
    "\n",
    "with open('embeddings_list.pkl', 'rb') as f:\n",
    "    embeddings_list = pickle.load(f)\n",
    "\n",
    "train_emb_only = pd.read_pickle(\"names_embeddings_list.pkl\")"
   ],
   "metadata": {
    "collapsed": false,
    "ExecuteTime": {
     "end_time": "2023-08-26T08:43:24.070567Z",
     "start_time": "2023-08-26T08:43:20.600465Z"
    }
   },
   "id": "9ba804e7c8ae986e"
  },
  {
   "cell_type": "code",
   "execution_count": 10,
   "outputs": [],
   "source": [
    "from sentence_transformers import SentenceTransformer, util\n",
    "import pickle\n",
    "\n",
    "def get_best_matches(query, top_n, embeddings: np.array, sentences):\n",
    "    model = SentenceTransformer('sentence-transformers/all-MiniLM-L6-v2')\n",
    "    query_embedding = model.encode(query, convert_to_tensor=True)\n",
    "    scores = embeddings.dot(query_embedding.T).ravel()\n",
    "    best = np.argpartition(scores, -top_n)[-top_n:]\n",
    "    sentences['scores'] = scores\n",
    "    sentences.loc[list(best), 'lev_distance'] = sentences.loc[list(best), 'full_address'].apply(lambda x: distance(query, x))\n",
    "    return sentences[['id_building', 'full_address', 'scores', 'lev_distance']].loc[list(best)].sort_values(by='lev_distance').reset_index(drop=True)"
   ],
   "metadata": {
    "collapsed": false,
    "ExecuteTime": {
     "end_time": "2023-08-26T08:43:25.019179Z",
     "start_time": "2023-08-26T08:43:25.016058Z"
    }
   },
   "id": "e9199af6df780b1e"
  },
  {
   "cell_type": "code",
   "execution_count": 11,
   "outputs": [],
   "source": [
    "with open(\"../notebooks/embeddings_list.pkl\", \"rb\") as f:\n",
    "    embeddings_list = pickle.load(f)"
   ],
   "metadata": {
    "collapsed": false,
    "ExecuteTime": {
     "end_time": "2023-08-26T08:43:28.982204Z",
     "start_time": "2023-08-26T08:43:25.512582Z"
    }
   },
   "id": "4477d684d1cd43e0"
  },
  {
   "cell_type": "code",
   "execution_count": 14,
   "outputs": [
    {
     "data": {
      "text/plain": "   id_building                                       full_address    scores  \\\n0         9534  г.Санкт-Петербург, набережная Обводного канала...  0.973808   \n1        33462  г.Санкт-Петербург, набережная Обводного канала...  0.966640   \n2        40214  г.Санкт-Петербург, набережная Обводного канала...  0.966658   \n3        56448  г.Санкт-Петербург, набережная Обводного канала...  0.966934   \n4       187158  г.Санкт-Петербург, набережная Обводного канала...  0.966934   \n\n   lev_distance  \n0          59.0  \n1          69.0  \n2          69.0  \n3          69.0  \n4          69.0  ",
      "text/html": "<div>\n<style scoped>\n    .dataframe tbody tr th:only-of-type {\n        vertical-align: middle;\n    }\n\n    .dataframe tbody tr th {\n        vertical-align: top;\n    }\n\n    .dataframe thead th {\n        text-align: right;\n    }\n</style>\n<table border=\"1\" class=\"dataframe\">\n  <thead>\n    <tr style=\"text-align: right;\">\n      <th></th>\n      <th>id_building</th>\n      <th>full_address</th>\n      <th>scores</th>\n      <th>lev_distance</th>\n    </tr>\n  </thead>\n  <tbody>\n    <tr>\n      <th>0</th>\n      <td>9534</td>\n      <td>г.Санкт-Петербург, набережная Обводного канала...</td>\n      <td>0.973808</td>\n      <td>59.0</td>\n    </tr>\n    <tr>\n      <th>1</th>\n      <td>33462</td>\n      <td>г.Санкт-Петербург, набережная Обводного канала...</td>\n      <td>0.966640</td>\n      <td>69.0</td>\n    </tr>\n    <tr>\n      <th>2</th>\n      <td>40214</td>\n      <td>г.Санкт-Петербург, набережная Обводного канала...</td>\n      <td>0.966658</td>\n      <td>69.0</td>\n    </tr>\n    <tr>\n      <th>3</th>\n      <td>56448</td>\n      <td>г.Санкт-Петербург, набережная Обводного канала...</td>\n      <td>0.966934</td>\n      <td>69.0</td>\n    </tr>\n    <tr>\n      <th>4</th>\n      <td>187158</td>\n      <td>г.Санкт-Петербург, набережная Обводного канала...</td>\n      <td>0.966934</td>\n      <td>69.0</td>\n    </tr>\n  </tbody>\n</table>\n</div>"
     },
     "execution_count": 14,
     "metadata": {},
     "output_type": "execute_result"
    }
   ],
   "source": [
    "from Levenshtein import distance\n",
    "get_best_matches(QUERY, 5, np.array(embeddings_list), train_emb_only)"
   ],
   "metadata": {
    "collapsed": false,
    "ExecuteTime": {
     "end_time": "2023-08-26T08:44:44.874619Z",
     "start_time": "2023-08-26T08:44:44.109530Z"
    }
   },
   "id": "ec4a3fe0d14251f8"
  },
  {
   "cell_type": "code",
   "execution_count": 15,
   "outputs": [],
   "source": [
    "model = SentenceTransformer('sentence-transformers/all-MiniLM-L6-v2')"
   ],
   "metadata": {
    "collapsed": false,
    "ExecuteTime": {
     "end_time": "2023-08-26T08:44:45.639150Z",
     "start_time": "2023-08-26T08:44:45.458340Z"
    }
   },
   "id": "871e1726432df968"
  },
  {
   "cell_type": "code",
   "execution_count": 16,
   "outputs": [],
   "source": [
    "embeddings = np.array(embeddings_list)\n",
    "sentences = train_emb_only['full_address']"
   ],
   "metadata": {
    "collapsed": false,
    "ExecuteTime": {
     "end_time": "2023-08-26T08:44:46.514574Z",
     "start_time": "2023-08-26T08:44:46.023482Z"
    }
   },
   "id": "9e28d4b38620978b"
  },
  {
   "cell_type": "code",
   "execution_count": 17,
   "outputs": [],
   "source": [
    "query_embedding= model.encode(QUERY, convert_to_tensor=True)"
   ],
   "metadata": {
    "collapsed": false,
    "ExecuteTime": {
     "end_time": "2023-08-26T08:44:46.530153Z",
     "start_time": "2023-08-26T08:44:46.515303Z"
    }
   },
   "id": "b1c90ecef539a787"
  },
  {
   "cell_type": "code",
   "execution_count": 18,
   "outputs": [],
   "source": [
    "topn = 5\n",
    "scores = embeddings.dot(query_embedding.T).ravel()\n",
    "best = np.argpartition(scores, -topn)[-topn:]"
   ],
   "metadata": {
    "collapsed": false,
    "ExecuteTime": {
     "end_time": "2023-08-26T08:44:46.564646Z",
     "start_time": "2023-08-26T08:44:46.538424Z"
    }
   },
   "id": "39daa7c46bed25e1"
  },
  {
   "cell_type": "code",
   "execution_count": 19,
   "outputs": [
    {
     "data": {
      "text/plain": "['г.Санкт-Петербург, набережная Обводного канала, дом 223-225, литера К',\n 'г.Санкт-Петербург, набережная Обводного канала, дом 223-225, литера О',\n 'г.Санкт-Петербург, набережная Обводного канала, дом 223-225',\n 'г.Санкт-Петербург, набережная Обводного канала, дом 223-225, литера П',\n 'г.Санкт-Петербург, набережная Обводного канала, дом 223-225, литера П']"
     },
     "execution_count": 19,
     "metadata": {},
     "output_type": "execute_result"
    }
   ],
   "source": [
    "list(sentences.loc[list(best)])"
   ],
   "metadata": {
    "collapsed": false,
    "ExecuteTime": {
     "end_time": "2023-08-26T08:44:46.616904Z",
     "start_time": "2023-08-26T08:44:46.578021Z"
    }
   },
   "id": "614236a14761df70"
  },
  {
   "cell_type": "markdown",
   "source": [
    "# add stage with levenstein distance"
   ],
   "metadata": {
    "collapsed": false
   },
   "id": "4fa855ac0ee35118"
  },
  {
   "cell_type": "code",
   "execution_count": 70,
   "outputs": [],
   "source": [
    "from Levenshtein import distance\n",
    "sentences = pd.DataFrame(sentences)\n",
    "# sentences.loc['lev_distance'] = 0\n",
    "for indx, embd in zip(list(best), sentences.loc[list(best), 'full_address']):\n",
    "    sentences.loc[indx, 'lev_distance'] = distance(QUERY, embd)"
   ],
   "metadata": {
    "collapsed": false,
    "ExecuteTime": {
     "end_time": "2023-08-26T07:28:36.595349Z",
     "start_time": "2023-08-26T07:28:36.584118Z"
    }
   },
   "id": "82029e97c33f3b7c"
  },
  {
   "cell_type": "code",
   "execution_count": 83,
   "outputs": [],
   "source": [
    "sentences.loc[list(best), 'lev_distance'] = sentences.loc[list(best), 'full_address'].apply(lambda x: distance(QUERY, x))"
   ],
   "metadata": {
    "collapsed": false,
    "ExecuteTime": {
     "end_time": "2023-08-26T08:02:38.196639Z",
     "start_time": "2023-08-26T08:02:38.193889Z"
    }
   },
   "id": "d2dcb73c005083df"
  },
  {
   "cell_type": "code",
   "execution_count": 79,
   "outputs": [
    {
     "data": {
      "text/plain": "37720    69.0\n44194    69.0\n2929     59.0\n59784    69.0\n7        69.0\nName: lev_distance, dtype: float64"
     },
     "execution_count": 79,
     "metadata": {},
     "output_type": "execute_result"
    }
   ],
   "source": [
    "sentences.loc[list(best), 'lev_distance']"
   ],
   "metadata": {
    "collapsed": false,
    "ExecuteTime": {
     "end_time": "2023-08-26T08:02:01.632574Z",
     "start_time": "2023-08-26T08:02:01.630355Z"
    }
   },
   "id": "3edcbc725c6b6cbe"
  },
  {
   "cell_type": "code",
   "execution_count": 74,
   "outputs": [
    {
     "data": {
      "text/plain": "38"
     },
     "execution_count": 74,
     "metadata": {},
     "output_type": "execute_result"
    }
   ],
   "source": [
    "distance(QUERY, 'город Пушкин, Кедринская улица, дом 12')"
   ],
   "metadata": {
    "collapsed": false,
    "ExecuteTime": {
     "end_time": "2023-08-26T07:29:01.671600Z",
     "start_time": "2023-08-26T07:29:01.669633Z"
    }
   },
   "id": "3569491a5c2343e7"
  },
  {
   "cell_type": "code",
   "execution_count": 71,
   "outputs": [
    {
     "data": {
      "text/plain": "37720    г.Санкт-Петербург, набережная Обводного канала...\n44194    г.Санкт-Петербург, набережная Обводного канала...\n2929     г.Санкт-Петербург, набережная Обводного канала...\n59784    г.Санкт-Петербург, набережная Обводного канала...\n7        г.Санкт-Петербург, набережная Обводного канала...\nName: full_address, dtype: object"
     },
     "execution_count": 71,
     "metadata": {},
     "output_type": "execute_result"
    }
   ],
   "source": [
    "sentences.loc[list(best), 'full_address']"
   ],
   "metadata": {
    "collapsed": false,
    "ExecuteTime": {
     "end_time": "2023-08-26T07:28:37.003037Z",
     "start_time": "2023-08-26T07:28:37.000892Z"
    }
   },
   "id": "ebe1715f380ace4e"
  },
  {
   "cell_type": "code",
   "execution_count": 76,
   "outputs": [
    {
     "data": {
      "text/plain": "                                            full_address  lev_distance     1\n2929   г.Санкт-Петербург, набережная Обводного канала...          59.0  59.0\n37720  г.Санкт-Петербург, набережная Обводного канала...          69.0  69.0\n44194  г.Санкт-Петербург, набережная Обводного канала...          69.0  69.0\n59784  г.Санкт-Петербург, набережная Обводного канала...          69.0  69.0\n7      г.Санкт-Петербург, набережная Обводного канала...          69.0  69.0",
      "text/html": "<div>\n<style scoped>\n    .dataframe tbody tr th:only-of-type {\n        vertical-align: middle;\n    }\n\n    .dataframe tbody tr th {\n        vertical-align: top;\n    }\n\n    .dataframe thead th {\n        text-align: right;\n    }\n</style>\n<table border=\"1\" class=\"dataframe\">\n  <thead>\n    <tr style=\"text-align: right;\">\n      <th></th>\n      <th>full_address</th>\n      <th>lev_distance</th>\n      <th>1</th>\n    </tr>\n  </thead>\n  <tbody>\n    <tr>\n      <th>2929</th>\n      <td>г.Санкт-Петербург, набережная Обводного канала...</td>\n      <td>59.0</td>\n      <td>59.0</td>\n    </tr>\n    <tr>\n      <th>37720</th>\n      <td>г.Санкт-Петербург, набережная Обводного канала...</td>\n      <td>69.0</td>\n      <td>69.0</td>\n    </tr>\n    <tr>\n      <th>44194</th>\n      <td>г.Санкт-Петербург, набережная Обводного канала...</td>\n      <td>69.0</td>\n      <td>69.0</td>\n    </tr>\n    <tr>\n      <th>59784</th>\n      <td>г.Санкт-Петербург, набережная Обводного канала...</td>\n      <td>69.0</td>\n      <td>69.0</td>\n    </tr>\n    <tr>\n      <th>7</th>\n      <td>г.Санкт-Петербург, набережная Обводного канала...</td>\n      <td>69.0</td>\n      <td>69.0</td>\n    </tr>\n  </tbody>\n</table>\n</div>"
     },
     "execution_count": 76,
     "metadata": {},
     "output_type": "execute_result"
    }
   ],
   "source": [
    "sentences.loc[list(best)].sort_values(by='lev_distance')"
   ],
   "metadata": {
    "collapsed": false,
    "ExecuteTime": {
     "end_time": "2023-08-26T07:29:42.431782Z",
     "start_time": "2023-08-26T07:29:42.427063Z"
    }
   },
   "id": "c550171bd3c8bcfa"
  },
  {
   "cell_type": "markdown",
   "source": [
    "test:\n",
    "г.Санкт-Петербург, дом 223-225, наб. Обводного канала\n",
    "г.Санкт-Петербург, дом 223-225\n",
    "посёлок Солнечное, Комсомольская улица"
   ],
   "metadata": {
    "collapsed": false
   },
   "id": "bca0938c7bac802c"
  }
 ],
 "metadata": {
  "kernelspec": {
   "display_name": "Python 3",
   "language": "python",
   "name": "python3"
  },
  "language_info": {
   "codemirror_mode": {
    "name": "ipython",
    "version": 2
   },
   "file_extension": ".py",
   "mimetype": "text/x-python",
   "name": "python",
   "nbconvert_exporter": "python",
   "pygments_lexer": "ipython2",
   "version": "2.7.6"
  }
 },
 "nbformat": 4,
 "nbformat_minor": 5
}
