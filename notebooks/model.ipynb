{
 "cells": [
  {
   "cell_type": "code",
   "execution_count": 1,
   "outputs": [
    {
     "name": "stdout",
     "output_type": "stream",
     "text": [
      "INFO: Pandarallel will run on 12 workers.\n",
      "INFO: Pandarallel will use standard multiprocessing data transfer (pipe) to transfer data between the main process and workers.\n"
     ]
    }
   ],
   "source": [
    "import pandas as pd\n",
    "from pandarallel import pandarallel\n",
    "import numpy as np\n",
    "import seaborn as sns\n",
    "import plotly.express as px\n",
    "import torch\n",
    "import os\n",
    "from tqdm import tqdm\n",
    "import pickle\n",
    "import warnings\n",
    "from Levenshtein import distance as lev_distance\n",
    "from sentence_transformers import SentenceTransformer\n",
    "\n",
    "from pullenti_wrapper.langs import set_langs, RU\n",
    "from pullenti_wrapper.processor import Processor, GEO, ADDRESS\n",
    "from pullenti_wrapper.referent import Referent\n",
    "\n",
    "set_langs([RU])\n",
    "warnings.filterwarnings('ignore')\n",
    "sns.set(rc={'figure.figsize': (20, 10), 'figure.facecolor': 'white'})\n",
    "sns.set_palette(\"viridis\")\n",
    "pd.set_option('display.max_colwidth', -1)\n",
    "pd.set_option('display.max_rows', 500)\n",
    "pd.set_option('display.max_columns', 500)\n",
    "pandarallel.initialize(progress_bar=True)\n",
    "os.environ[\"TOKENIZERS_PARALLELISM\"] = \"true\"  # activate parallelism\n",
    "processor = Processor([GEO, ADDRESS])"
   ],
   "metadata": {
    "collapsed": false,
    "ExecuteTime": {
     "end_time": "2023-08-27T04:47:21.601384Z",
     "start_time": "2023-08-27T04:47:15.091937Z"
    }
   },
   "id": "f95e7de9e4f398d6"
  },
  {
   "cell_type": "markdown",
   "source": [
    "# Stage 1 - Get and preprocess Data"
   ],
   "metadata": {
    "collapsed": false
   },
   "id": "8facf2e21185d039"
  },
  {
   "cell_type": "code",
   "execution_count": 2,
   "outputs": [],
   "source": [
    "def join_non_null_values(l):\n",
    "    res = [str(x) for x in l if str(x) != 'nan']\n",
    "    return ', '.join(res)"
   ],
   "metadata": {
    "collapsed": false,
    "ExecuteTime": {
     "end_time": "2023-08-27T04:47:21.601733Z",
     "start_time": "2023-08-27T04:47:21.587073Z"
    }
   },
   "id": "8c0d2e143decd86d"
  },
  {
   "cell_type": "code",
   "execution_count": 3,
   "outputs": [],
   "source": [
    "def coalesce(s: pd.Series, *series):\n",
    "    \"\"\"coalesce the column information like a SQL coalesce.\"\"\"\n",
    "    for other in series:\n",
    "        s = s.mask(pd.isnull, other)\n",
    "    return s"
   ],
   "metadata": {
    "collapsed": false,
    "ExecuteTime": {
     "end_time": "2023-08-27T04:47:21.601860Z",
     "start_time": "2023-08-27T04:47:21.590504Z"
    }
   },
   "id": "7017fab16b87d35f"
  },
  {
   "cell_type": "code",
   "execution_count": 4,
   "outputs": [],
   "source": [
    "# recursive function\n",
    "def get_ner_elements(referent, level=0):\n",
    "    tmp = {}\n",
    "    a = \"\"\n",
    "    b = \"\"\n",
    "    for key in referent.__shortcuts__:\n",
    "        value = getattr(referent, key)\n",
    "        if value in (None, 0, -1):\n",
    "            continue\n",
    "        if isinstance(value, Referent):\n",
    "            get_ner_elements(value, level + 1)\n",
    "        else:\n",
    "            if key == 'type':\n",
    "                a = value\n",
    "            if key == 'name':\n",
    "                b = value\n",
    "                # print('ok', value)\n",
    "            if key == 'house':\n",
    "                a = \"дом\"\n",
    "                b = value\n",
    "                tmp[a] = b\n",
    "            if key == 'flat':\n",
    "                a = \"квартира\"\n",
    "                b = value\n",
    "                # print('ok', value)\n",
    "                tmp[a] = b\n",
    "            if key == 'building':\n",
    "                a = \"Литера\"\n",
    "                b = value\n",
    "                tmp[a] = b\n",
    "        if key == 'corpus':\n",
    "            a = \"корпус\"\n",
    "            b = value\n",
    "            tmp[a] = b\n",
    "    tmp[a] = b\n",
    "    addr.append(tmp)\n",
    "    return addr"
   ],
   "metadata": {
    "collapsed": false,
    "ExecuteTime": {
     "end_time": "2023-08-27T04:47:21.601961Z",
     "start_time": "2023-08-27T04:47:21.595877Z"
    }
   },
   "id": "1f872acbbec704d0"
  },
  {
   "cell_type": "code",
   "execution_count": 5,
   "outputs": [],
   "source": [
    "def get_address_ner_objects(address: str):\n",
    "    global addr  # we need to declare global variable to change it\n",
    "    processor = Processor([GEO, ADDRESS])\n",
    "    addr = []\n",
    "    try:\n",
    "        result = processor(address)\n",
    "        referent = result.matches[0].referent\n",
    "        ner_model_res = get_ner_elements(referent)\n",
    "        merged_data = {k: v for d in ner_model_res for k, v in d.items()}\n",
    "        data = pd.DataFrame([merged_data])\n",
    "        return merged_data\n",
    "    except:\n",
    "        return []"
   ],
   "metadata": {
    "collapsed": false,
    "ExecuteTime": {
     "end_time": "2023-08-27T04:47:21.602143Z",
     "start_time": "2023-08-27T04:47:21.598238Z"
    }
   },
   "id": "161e1e2e7270c364"
  },
  {
   "cell_type": "code",
   "execution_count": 12,
   "outputs": [
    {
     "data": {
      "text/plain": "VBox(children=(HBox(children=(IntProgress(value=0, description='0.00%', max=13888), Label(value='0 / 13888')))…",
      "application/vnd.jupyter.widget-view+json": {
       "version_major": 2,
       "version_minor": 0,
       "model_id": "2dfcafd67efa4df78870c173ad519753"
      }
     },
     "metadata": {},
     "output_type": "display_data"
    },
    {
     "data": {
      "text/plain": "        id_building  prefix_id_building  district_id_building house_building  \\\n0       56343        11132               35                    12              \n1       595          6987                38                    4Б              \n2       7134         6469                15                    30              \n3       124415       7838                38                    5               \n4       185368       4224                38                    28              \n...        ...        ...                ..                    ..              \n166640  18941        5289                32                    3               \n166641  18942        5031                35                    34/3            \n166642  18943        5623                38                    39              \n166643  18944        5787                34                    25              \n166644  18945        6124                32                    16              \n\n       corpus_building liter_building villa_building parcel_building  \\\n0       NaN             А              NaN            NaN              \n1       NaN             NaN            NaN            NaN              \n2       2               Е              NaN            NaN              \n3       2               А              NaN            NaN              \n4       NaN             Б              NaN            NaN              \n...     ...            ..              ...            ...              \n166640  NaN             В              NaN            NaN              \n166641  NaN             А              NaN            NaN              \n166642  NaN             NaN            NaN            NaN              \n166643  NaN             Б              NaN            NaN              \n166644  NaN             А              NaN            NaN              \n\n                                                         full_address_building  \\\n0       город Пушкин, Кедринская улица, дом 12                                   \n1       поселок Ушково, Пляжевая улица, дом 4Б                                   \n2       г.Санкт-Петербург, проспект Маршала Жукова, дом 30, корпус 2, литера Е   \n3       поселок Белоостров, Дюны, Центральная улица, дом 5, корпус 2             \n4       поселок Песочный, Речная улица, дом 28, литера Б                         \n...                                                  ...                         \n166640  г.Санкт-Петербург, Бородинская улица, дом 3, литера В                    \n166641  посёлок Александровская, 2-я линия, дом 34/3, литера А                   \n166642  посёлок Ушково, Детская улица, дом 39                                    \n166643  г.Санкт-Петербург, Заусадебная улица, дом 25, литера Б                   \n166644  г.Санкт-Петербург, 8-я Красноармейская улица, дом 16, литера А           \n\n        is_updated_building  is_actual_building type_building  \\\n0       True                 False               NaN            \n1       True                 False               NaN            \n2       True                 False               Нежилое        \n3       True                 False               Нежилое        \n4       True                 False               NaN            \n...      ...                   ...               ...            \n166640  True                 True                Нежилое        \n166641  True                 True                Жилое          \n166642  True                 False               NaN            \n166643  True                 False               Нежилое        \n166644  True                 True                Нежилое        \n\n        municipality_id_building  \\\n0       107.0                      \n1       128.0                      \n2       30.0                       \n3       110.0                      \n4       118.0                      \n...       ...                      \n166640  4.0                        \n166641  109.0                      \n166642  128.0                      \n166643  68.0                       \n166644  5.0                        \n\n                                          short_address_building  \\\n0       г.Пушкин, Кедринская ул., д. 12                            \n1       пос. Ушково, Пляжевая ул., д. 4Б                           \n2       г.Санкт-Петербург, пр. Маршала Жукова, д. 30, к. 2, л. Е   \n3       пос. Белоостров, Дюны, Центральная ул., д. 5, к. 2         \n4       пос. Песочный, Речная ул., д. 28, л. Б                     \n...                                        ...                     \n166640  г.Санкт-Петербург, Бородинская ул., д. 3, л. В             \n166641  пос. Александровская, 2-я линия, д. 34/3, л. А             \n166642  пос. Ушково, Детская ул., д. 39                            \n166643  г.Санкт-Петербург, Заусадебная ул., д. 25, л. Б            \n166644  г.Санкт-Петербург, 8-я Красноармейская ул., д. 16, л. А    \n\n       post_prefix_building build_number_building  id_district  \\\n0       NaN                  NaN                   35            \n1       NaN                  NaN                   38            \n2       198303               NaN                   15            \n3       NaN                  NaN                   38            \n4       NaN                  NaN                   38            \n...     ...                  ...                   ..            \n166640  190000.0             NaN                   32            \n166641  196631.0             NaN                   35            \n166642  NaN                  NaN                   38            \n166643  NaN                  NaN                   34            \n166644  198103.0             NaN                   32            \n\n         name_district  is_updated_district  is_actual_district  id_prefix  \\\n0       Пушкинский      True                 True                11132       \n1       Курортный       True                 True                6987        \n2       Кировский       True                 True                6469        \n3       Курортный       True                 True                7838        \n4       Курортный       True                 True                4224        \n...           ...        ...                  ...                 ...        \n166640  Адмиралтейский  True                 True                5289        \n166641  Пушкинский      True                 True                5031        \n166642  Курортный       True                 True                5623        \n166643  Приморский      True                 True                5787        \n166644  Адмиралтейский  True                 True                6124        \n\n        town_id_prefix  geonim_id_prefix  area_id_prefix  toponim_id_prefix  \\\n0       28.0            4801.0           NaN             NaN                  \n1       46.0            3.0              NaN             NaN                  \n2       36.0            2194.0           NaN             NaN                  \n3       37.0            319.0            NaN              161.0               \n4       41.0            477.0            NaN             NaN                  \n...      ...              ...             ..              ..                  \n166640  36.0            1748.0           NaN             NaN                  \n166641  22.0            2861.0           NaN             NaN                  \n166642  46.0            4.0              NaN             NaN                  \n166643  36.0            1316.0           NaN             NaN                  \n166644  36.0            2059.0           NaN             NaN                  \n\n                                         name_prefix  \\\n0       город Пушкин, Кедринская улица                 \n1       посёлок Ушково, Пляжевая улица                 \n2       г.Санкт-Петербург, проспект Маршала Жукова     \n3       посёлок Белоостров, Дюны, Центральная улица    \n4       посёлок Песочный, Речная улица                 \n...                                ...                 \n166640  г.Санкт-Петербург, Бородинская улица           \n166641  посёлок Александровская, 2-я линия             \n166642  посёлок Ушково, Детская улица                  \n166643  г.Санкт-Петербург, Заусадебная улица           \n166644  г.Санкт-Петербург, 8-я Красноармейская улица   \n\n                                 short_name_prefix  \\\n0       г.Пушкин, Кедринская ул.                     \n1       пос. Ушково, Пляжевая ул.                    \n2       г.Санкт-Петербург, пр. Маршала Жукова        \n3       пос. Белоостров, Дюны, Центральная ул.       \n4       пос. Песочный, Речная ул.                    \n...                           ...                    \n166640  г.Санкт-Петербург, Бородинская ул.           \n166641  пос. Александровская, 2-я линия              \n166642  пос. Ушково, Детская ул.                     \n166643  г.Санкт-Петербург, Заусадебная ул.           \n166644  г.Санкт-Петербург, 8-я Красноармейская ул.   \n\n                                                                                                                           search_index_prefix  \\\n0       'город':1,5 'кедринск':7 'кедринская':3 'пушкин':2,6 'улиц':8 'улица':4                                                                  \n1       'пляжев':7 'пляжевая':3 'поселок':5 'посёлок':1 'улиц':8 'улица':4 'ушков':6 'ушково':2                                                  \n2       'г':1,8 'жуков':14 'жукова':7 'марша':13 'маршала':6 'петербург':4,11 'проспект':5,12 'санкт':3,10 'санкт-петербург':2,9                 \n3       'белоостр':7 'белоостров':2 'дюн':8 'дюны':3 'поселок':6 'посёлок':1 'улиц':10 'улица':5 'центральн':9 'центральная':4                   \n4       'песочн':6 'песочный':2 'поселок':5 'посёлок':1 'речн':7 'речная':3 'улиц':8 'улица':4                                                   \n...                                                                                        ...                                                   \n166640  'бородинск':11 'бородинская':5 'г':1,7 'петербург':4,10 'санкт':3,9 'санкт-петербург':2,8 'улиц':12 'улица':6                            \n166641  '2':3,8 'александровск':7 'александровская':2 'лин':10 'линия':5 'поселок':6 'посёлок':1 'я':4                                           \n166642  'детск':7 'детская':3 'поселок':5 'посёлок':1 'улиц':8 'улица':4 'ушков':6 'ушково':2                                                    \n166643  'г':1,7 'заусадебн':11 'заусадебная':5 'петербург':4,10 'санкт':3,9 'санкт-петербург':2,8 'улиц':12 'улица':6                            \n166644  '8':5,13 'г':1,9 'красноармейск':15 'красноармейская':7 'петербург':4,12 'санкт':3,11 'санкт-петербург':2,10 'улиц':16 'улица':8 'я':6   \n\n        is_updated_prefix  is_actual_prefix  sub_rf_id_prefix  \\\n0       True               True              15.0               \n1       True               True              15.0               \n2       True               True              15.0               \n3       True               True              15.0               \n4       True               True              15.0               \n...      ...                ...               ...               \n166640  True               True              15.0               \n166641  True               True              15.0               \n166642  True               True              15.0               \n166643  True               True              15.0               \n166644  True               True              15.0               \n\n        has_buildings_prefix  id_town                name_town  \\\n0       True                  28.0     город Пушкин              \n1       True                  46.0     посёлок Ушково            \n2       True                  36.0     г.Санкт-Петербург         \n3       True                  37.0     посёлок Белоостров        \n4       True                  41.0     посёлок Песочный          \n...      ...                   ...                  ...          \n166640  True                  36.0     г.Санкт-Петербург         \n166641  True                  22.0     посёлок Александровская   \n166642  True                  46.0     посёлок Ушково            \n166643  True                  36.0     г.Санкт-Петербург         \n166644  True                  36.0     г.Санкт-Петербург         \n\n             short_name_town  \\\n0       г.Пушкин               \n1       пос. Ушково            \n2       г.Санкт-Петербург      \n3       пос. Белоостров        \n4       пос. Песочный          \n...               ...          \n166640  г.Санкт-Петербург      \n166641  пос. Александровская   \n166642  пос. Ушково            \n166643  г.Санкт-Петербург      \n166644  г.Санкт-Петербург      \n\n                                                    search_index_town  \\\n0       'город':1,3 'пушкин':2,4                                        \n1       'поселок':3 'посёлок':1 'ушков':4 'ушково':2                    \n2       'г':1,5 'петербург':4,8 'санкт':3,7 'санкт-петербург':2,6       \n3       'белоостр':4 'белоостров':2 'поселок':3 'посёлок':1             \n4       'песочн':4 'песочный':2 'поселок':3 'посёлок':1                 \n...                                                 ...                 \n166640  'г':1,5 'петербург':4,8 'санкт':3,7 'санкт-петербург':2,6       \n166641  'александровск':4 'александровская':2 'поселок':3 'посёлок':1   \n166642  'поселок':3 'посёлок':1 'ушков':4 'ушково':2                    \n166643  'г':1,5 'петербург':4,8 'санкт':3,7 'санкт-петербург':2,6       \n166644  'г':1,5 'петербург':4,8 'санкт':3,7 'санкт-петербург':2,6       \n\n       is_updated_town is_actual_town has_buildings_town  id_geonim  \\\n0       True            True           True               4801.0      \n1       True            True           True               3.0         \n2       True            True           True               2194.0      \n3       True            True           True               319.0       \n4       True            True           True               477.0       \n...      ...             ...            ...                 ...       \n166640  True            True           True               1748.0      \n166641  True            True           True               2861.0      \n166642  True            True           True               4.0         \n166643  True            True           True               1316.0      \n166644  True            True           True               2059.0      \n\n        type_id_geonim                name_geonim        short_name_geonim  \\\n0       12.0            Кедринская улица           Кедринская ул.            \n1       12.0            Пляжевая улица             Пляжевая ул.              \n2       10.0            проспект Маршала Жукова    пр. Маршала Жукова        \n3       12.0            Центральная улица          Центральная ул.           \n4       12.0            Речная улица               Речная ул.                \n...      ...                     ...                      ...                \n166640  12.0            Бородинская улица          Бородинская ул.           \n166641  6.0             2-я линия                  2-я линия                 \n166642  12.0            Детская улица              Детская ул.               \n166643  12.0            Заусадебная улица          Заусадебная ул.           \n166644  12.0            8-я Красноармейская улица  8-я Красноармейская ул.   \n\n       is_updated_geonim is_actual_geonim     only_name_geonim  id_geonimtype  \\\n0       True              True             Кедринская           12.0            \n1       True              True             Пляжевая             12.0            \n2       True              True             Маршала Жукова       10.0            \n3       True              True             Центральная          12.0            \n4       True              True             Речная               12.0            \n...      ...               ...                ...                ...            \n166640  True              True             Бородинская          12.0            \n166641  True              True             2-я                  6.0             \n166642  True              True             Детская              12.0            \n166643  True              True             Заусадебная          12.0            \n166644  True              True             8-я Красноармейская  12.0            \n\n       name_geonimtype short_name_geonimtype is_updated_geonimtype  \\\n0       улица           ул.                   True                   \n1       улица           ул.                   True                   \n2       проспект        пр.                   True                   \n3       улица           ул.                   True                   \n4       улица           ул.                   True                   \n...       ...           ...                    ...                   \n166640  улица           ул.                   True                   \n166641  линия           линия                 True                   \n166642  улица           ул.                   True                   \n166643  улица           ул.                   True                   \n166644  улица           ул.                   True                   \n\n       is_actual_geonimtype  id_area  type_id_area name_area short_name_area  \\\n0       True                NaN      NaN            NaN       NaN              \n1       True                NaN      NaN            NaN       NaN              \n2       True                NaN      NaN            NaN       NaN              \n3       True                NaN      NaN            NaN       NaN              \n4       True                NaN      NaN            NaN       NaN              \n...      ...                 ..       ..            ...       ...              \n166640  True                NaN      NaN            NaN       NaN              \n166641  True                NaN      NaN            NaN       NaN              \n166642  True                NaN      NaN            NaN       NaN              \n166643  True                NaN      NaN            NaN       NaN              \n166644  True                NaN      NaN            NaN       NaN              \n\n       is_updated_area is_actual_area only_name_area  id_areatype  \\\n0       NaN             NaN            NaN           NaN            \n1       NaN             NaN            NaN           NaN            \n2       NaN             NaN            NaN           NaN            \n3       NaN             NaN            NaN           NaN            \n4       NaN             NaN            NaN           NaN            \n...     ...             ...            ...            ..            \n166640  NaN             NaN            NaN           NaN            \n166641  NaN             NaN            NaN           NaN            \n166642  NaN             NaN            NaN           NaN            \n166643  NaN             NaN            NaN           NaN            \n166644  NaN             NaN            NaN           NaN            \n\n       name_areatype short_name_areatype is_updated_areatype  \\\n0       NaN           NaN                 NaN                  \n1       NaN           NaN                 NaN                  \n2       NaN           NaN                 NaN                  \n3       NaN           NaN                 NaN                  \n4       NaN           NaN                 NaN                  \n...     ...           ...                 ...                  \n166640  NaN           NaN                 NaN                  \n166641  NaN           NaN                 NaN                  \n166642  NaN           NaN                 NaN                  \n166643  NaN           NaN                 NaN                  \n166644  NaN           NaN                 NaN                  \n\n       is_actual_areatype    name_district_full  \\\n0       NaN                Пушкинский район       \n1       NaN                Курортный район        \n2       NaN                Кировский район        \n3       NaN                Курортный район        \n4       NaN                Курортный район        \n...     ...                            ...        \n166640  NaN                Адмиралтейский район   \n166641  NaN                Пушкинский район       \n166642  NaN                Курортный район        \n166643  NaN                Приморский район       \n166644  NaN                Адмиралтейский район   \n\n                                                                                            all_in_field  \\\n0       город Пушкин, Кедринская улица, дом 12, Пушкинский район                                           \n1       поселок Ушково, Пляжевая улица, дом 4Б, Курортный район                                            \n2       г.Санкт-Петербург, проспект Маршала Жукова, дом 30, корпус 2, литера Е, Нежилое, Кировский район   \n3       поселок Белоостров, Дюны, Центральная улица, дом 5, корпус 2, Нежилое, Курортный район             \n4       поселок Песочный, Речная улица, дом 28, литера Б, Курортный район                                  \n...                                                                   ...                                  \n166640  г.Санкт-Петербург, Бородинская улица, дом 3, литера В, Нежилое, Адмиралтейский район               \n166641  посёлок Александровская, 2-я линия, дом 34/3, литера А, Жилое, Пушкинский район                    \n166642  посёлок Ушково, Детская улица, дом 39, Курортный район                                             \n166643  г.Санкт-Петербург, Заусадебная улица, дом 25, литера Б, Нежилое, Приморский район                  \n166644  г.Санкт-Петербург, 8-я Красноармейская улица, дом 16, литера А, Нежилое, Адмиралтейский район      \n\n                  город            улица   дом          поселок  \\\n0       ПУШКИН           КЕДРИНСКАЯ       12    NaN               \n1       NaN              ПЛЯЖЕВАЯ         4Б    УШКОВО            \n2       САНКТ-ПЕТЕРБУРГ  NaN              30    NaN               \n3       NaN              ЦЕНТРАЛЬНАЯ      5     БЕЛООСТРОВ        \n4       NaN              РЕЧНАЯ           28    ПЕСОЧНЫЙ          \n...     ...                 ...           ..         ...          \n166640  САНКТ-ПЕТЕРБУРГ  БОРОДИНСКАЯ      3     NaN               \n166641  NaN              NaN              34/3  АЛЕКСАНДРОВСКАЯ   \n166642  NaN              ДЕТСКАЯ          39    УШКОВО            \n166643  САНКТ-ПЕТЕРБУРГ  ЗАУСАДЕБНАЯ      25    NaN               \n166644  САНКТ-ПЕТЕРБУРГ  КРАСНОАРМЕЙСКАЯ  16    NaN               \n\n              проспект корпус Литера муниципальный район набережная шоссе  \\\n0       NaN             NaN    NaN    NaN                 NaN        NaN    \n1       NaN             NaN    NaN    NaN                 NaN        NaN    \n2       МАРШАЛА ЖУКОВА  2      Е      NaN                 NaN        NaN    \n3       NaN             2      NaN    ДЮНЫ                NaN        NaN    \n4       NaN             NaN    Б      NaN                 NaN        NaN    \n...     ...             ...   ..      ...                 ...        ...    \n166640  NaN             NaN    В      NaN                 NaN        NaN    \n166641  NaN             NaN    А      NaN                 NaN        NaN    \n166642  NaN             NaN    NaN    NaN                 NaN        NaN    \n166643  NaN             NaN    Б      NaN                 NaN        NaN    \n166644  NaN             NaN    А      NaN                 NaN        NaN    \n\n       парк переулок площадь аллея      линия автодорога микрорайон деревня  \\\n0       NaN  NaN      NaN     NaN   NaN  NaN   NaN        NaN        NaN      \n1       NaN  NaN      NaN     NaN   NaN  NaN   NaN        NaN        NaN      \n2       NaN  NaN      NaN     NaN   NaN  NaN   NaN        NaN        NaN      \n3       NaN  NaN      NaN     NaN   NaN  NaN   NaN        NaN        NaN      \n4       NaN  NaN      NaN     NaN   NaN  NaN   NaN        NaN        NaN      \n...     ...  ...      ...     ...   ...  ...   ...        ...        ...      \n166640  NaN  NaN      NaN     NaN   NaN  NaN   NaN        NaN        NaN      \n166641  NaN  NaN      NaN     NaN   NaN        NaN        NaN        NaN      \n166642  NaN  NaN      NaN     NaN   NaN  NaN   NaN        NaN        NaN      \n166643  NaN  NaN      NaN     NaN   NaN  NaN   NaN        NaN        NaN      \n166644  NaN  NaN      NaN     NaN   NaN  NaN   NaN        NaN        NaN      \n\n       проезд квартал бульвар станция район территория муниципальный округ  \\\n0       NaN    NaN     NaN     NaN     NaN   NaN        NaN                  \n1       NaN    NaN     NaN     NaN     NaN   NaN        NaN                  \n2       NaN    NaN     NaN     NaN     NaN   NaN        NaN                  \n3       NaN    NaN     NaN     NaN     NaN   NaN        NaN                  \n4       NaN    NaN     NaN     NaN     NaN   NaN        NaN                  \n...     ...    ...     ...     ...     ...   ...        ...                  \n166640  NaN    NaN     NaN     NaN     NaN   NaN        NaN                  \n166641  NaN    NaN     NaN     NaN     NaN   NaN        NaN                  \n166642  NaN    NaN     NaN     NaN     NaN   NaN        NaN                  \n166643  NaN    NaN     NaN     NaN     NaN   NaN        NaN                  \n166644  NaN    NaN     NaN     NaN     NaN   NaN        NaN                  \n\n       мост тупик область село поселок городского типа округ волость  \\\n0       NaN  NaN   NaN     NaN  NaN                     NaN   NaN      \n1       NaN  NaN   NaN     NaN  NaN                     NaN   NaN      \n2       NaN  NaN   NaN     NaN  NaN                     NaN   NaN      \n3       NaN  NaN   NaN     NaN  NaN                     NaN   NaN      \n4       NaN  NaN   NaN     NaN  NaN                     NaN   NaN      \n...     ...  ...   ...     ...  ...                     ...   ...      \n166640  NaN  NaN   NaN     NaN  NaN                     NaN   NaN      \n166641  NaN  NaN   NaN     NaN  NaN                     NaN   NaN      \n166642  NaN  NaN   NaN     NaN  NaN                     NaN   NaN      \n166643  NaN  NaN   NaN     NaN  NaN                     NaN   NaN      \n166644  NaN  NaN   NaN     NaN  NaN                     NaN   NaN      \n\n                    ner_city           ner_street ner_house ner_corpus  \\\n0       г.Пушкин              Кедринская           12        NaN         \n1       пос. Ушково           Пляжевая             4Б        NaN         \n2       г.Санкт-Петербург     Маршала Жукова       30        2           \n3       пос. Белоостров       Центральная          5         2           \n4       пос. Песочный         Речная               28        NaN         \n...               ...            ...               ..        ...         \n166640  г.Санкт-Петербург     Бородинская          3         NaN         \n166641  пос. Александровская  2-я                  34/3      NaN         \n166642  пос. Ушково           Детская              39        NaN         \n166643  г.Санкт-Петербург     Заусадебная          25        NaN         \n166644  г.Санкт-Петербург     8-я Красноармейская  16        NaN         \n\n       ner_liter    ner_district ner_area ner_subject  \n0       А         Пушкинский      NaN      NaN         \n1       NaN       Курортный       NaN      NaN         \n2       Е         Кировский       NaN      NaN         \n3       А         Курортный       NaN      NaN         \n4       Б         Курортный       NaN      NaN         \n...    ..               ...       ...      ...         \n166640  В         Адмиралтейский  NaN      NaN         \n166641  А         Пушкинский      NaN      NaN         \n166642  NaN       Курортный       NaN      NaN         \n166643  Б         Приморский      NaN      NaN         \n166644  А         Адмиралтейский  NaN      NaN         \n\n[166645 rows x 106 columns]",
      "text/html": "<div>\n<style scoped>\n    .dataframe tbody tr th:only-of-type {\n        vertical-align: middle;\n    }\n\n    .dataframe tbody tr th {\n        vertical-align: top;\n    }\n\n    .dataframe thead th {\n        text-align: right;\n    }\n</style>\n<table border=\"1\" class=\"dataframe\">\n  <thead>\n    <tr style=\"text-align: right;\">\n      <th></th>\n      <th>id_building</th>\n      <th>prefix_id_building</th>\n      <th>district_id_building</th>\n      <th>house_building</th>\n      <th>corpus_building</th>\n      <th>liter_building</th>\n      <th>villa_building</th>\n      <th>parcel_building</th>\n      <th>full_address_building</th>\n      <th>is_updated_building</th>\n      <th>is_actual_building</th>\n      <th>type_building</th>\n      <th>municipality_id_building</th>\n      <th>short_address_building</th>\n      <th>post_prefix_building</th>\n      <th>build_number_building</th>\n      <th>id_district</th>\n      <th>name_district</th>\n      <th>is_updated_district</th>\n      <th>is_actual_district</th>\n      <th>id_prefix</th>\n      <th>town_id_prefix</th>\n      <th>geonim_id_prefix</th>\n      <th>area_id_prefix</th>\n      <th>toponim_id_prefix</th>\n      <th>name_prefix</th>\n      <th>short_name_prefix</th>\n      <th>search_index_prefix</th>\n      <th>is_updated_prefix</th>\n      <th>is_actual_prefix</th>\n      <th>sub_rf_id_prefix</th>\n      <th>has_buildings_prefix</th>\n      <th>id_town</th>\n      <th>name_town</th>\n      <th>short_name_town</th>\n      <th>search_index_town</th>\n      <th>is_updated_town</th>\n      <th>is_actual_town</th>\n      <th>has_buildings_town</th>\n      <th>id_geonim</th>\n      <th>type_id_geonim</th>\n      <th>name_geonim</th>\n      <th>short_name_geonim</th>\n      <th>is_updated_geonim</th>\n      <th>is_actual_geonim</th>\n      <th>only_name_geonim</th>\n      <th>id_geonimtype</th>\n      <th>name_geonimtype</th>\n      <th>short_name_geonimtype</th>\n      <th>is_updated_geonimtype</th>\n      <th>is_actual_geonimtype</th>\n      <th>id_area</th>\n      <th>type_id_area</th>\n      <th>name_area</th>\n      <th>short_name_area</th>\n      <th>is_updated_area</th>\n      <th>is_actual_area</th>\n      <th>only_name_area</th>\n      <th>id_areatype</th>\n      <th>name_areatype</th>\n      <th>short_name_areatype</th>\n      <th>is_updated_areatype</th>\n      <th>is_actual_areatype</th>\n      <th>name_district_full</th>\n      <th>all_in_field</th>\n      <th>город</th>\n      <th>улица</th>\n      <th>дом</th>\n      <th>поселок</th>\n      <th>проспект</th>\n      <th>корпус</th>\n      <th>Литера</th>\n      <th>муниципальный район</th>\n      <th>набережная</th>\n      <th>шоссе</th>\n      <th>парк</th>\n      <th>переулок</th>\n      <th>площадь</th>\n      <th>аллея</th>\n      <th></th>\n      <th>линия</th>\n      <th>автодорога</th>\n      <th>микрорайон</th>\n      <th>деревня</th>\n      <th>проезд</th>\n      <th>квартал</th>\n      <th>бульвар</th>\n      <th>станция</th>\n      <th>район</th>\n      <th>территория</th>\n      <th>муниципальный округ</th>\n      <th>мост</th>\n      <th>тупик</th>\n      <th>область</th>\n      <th>село</th>\n      <th>поселок городского типа</th>\n      <th>округ</th>\n      <th>волость</th>\n      <th>ner_city</th>\n      <th>ner_street</th>\n      <th>ner_house</th>\n      <th>ner_corpus</th>\n      <th>ner_liter</th>\n      <th>ner_district</th>\n      <th>ner_area</th>\n      <th>ner_subject</th>\n    </tr>\n  </thead>\n  <tbody>\n    <tr>\n      <th>0</th>\n      <td>56343</td>\n      <td>11132</td>\n      <td>35</td>\n      <td>12</td>\n      <td>NaN</td>\n      <td>А</td>\n      <td>NaN</td>\n      <td>NaN</td>\n      <td>город Пушкин, Кедринская улица, дом 12</td>\n      <td>True</td>\n      <td>False</td>\n      <td>NaN</td>\n      <td>107.0</td>\n      <td>г.Пушкин, Кедринская ул., д. 12</td>\n      <td>NaN</td>\n      <td>NaN</td>\n      <td>35</td>\n      <td>Пушкинский</td>\n      <td>True</td>\n      <td>True</td>\n      <td>11132</td>\n      <td>28.0</td>\n      <td>4801.0</td>\n      <td>NaN</td>\n      <td>NaN</td>\n      <td>город Пушкин, Кедринская улица</td>\n      <td>г.Пушкин, Кедринская ул.</td>\n      <td>'город':1,5 'кедринск':7 'кедринская':3 'пушкин':2,6 'улиц':8 'улица':4</td>\n      <td>True</td>\n      <td>True</td>\n      <td>15.0</td>\n      <td>True</td>\n      <td>28.0</td>\n      <td>город Пушкин</td>\n      <td>г.Пушкин</td>\n      <td>'город':1,3 'пушкин':2,4</td>\n      <td>True</td>\n      <td>True</td>\n      <td>True</td>\n      <td>4801.0</td>\n      <td>12.0</td>\n      <td>Кедринская улица</td>\n      <td>Кедринская ул.</td>\n      <td>True</td>\n      <td>True</td>\n      <td>Кедринская</td>\n      <td>12.0</td>\n      <td>улица</td>\n      <td>ул.</td>\n      <td>True</td>\n      <td>True</td>\n      <td>NaN</td>\n      <td>NaN</td>\n      <td>NaN</td>\n      <td>NaN</td>\n      <td>NaN</td>\n      <td>NaN</td>\n      <td>NaN</td>\n      <td>NaN</td>\n      <td>NaN</td>\n      <td>NaN</td>\n      <td>NaN</td>\n      <td>NaN</td>\n      <td>Пушкинский район</td>\n      <td>город Пушкин, Кедринская улица, дом 12, Пушкинский район</td>\n      <td>ПУШКИН</td>\n      <td>КЕДРИНСКАЯ</td>\n      <td>12</td>\n      <td>NaN</td>\n      <td>NaN</td>\n      <td>NaN</td>\n      <td>NaN</td>\n      <td>NaN</td>\n      <td>NaN</td>\n      <td>NaN</td>\n      <td>NaN</td>\n      <td>NaN</td>\n      <td>NaN</td>\n      <td>NaN</td>\n      <td>NaN</td>\n      <td>NaN</td>\n      <td>NaN</td>\n      <td>NaN</td>\n      <td>NaN</td>\n      <td>NaN</td>\n      <td>NaN</td>\n      <td>NaN</td>\n      <td>NaN</td>\n      <td>NaN</td>\n      <td>NaN</td>\n      <td>NaN</td>\n      <td>NaN</td>\n      <td>NaN</td>\n      <td>NaN</td>\n      <td>NaN</td>\n      <td>NaN</td>\n      <td>NaN</td>\n      <td>NaN</td>\n      <td>г.Пушкин</td>\n      <td>Кедринская</td>\n      <td>12</td>\n      <td>NaN</td>\n      <td>А</td>\n      <td>Пушкинский</td>\n      <td>NaN</td>\n      <td>NaN</td>\n    </tr>\n    <tr>\n      <th>1</th>\n      <td>595</td>\n      <td>6987</td>\n      <td>38</td>\n      <td>4Б</td>\n      <td>NaN</td>\n      <td>NaN</td>\n      <td>NaN</td>\n      <td>NaN</td>\n      <td>поселок Ушково, Пляжевая улица, дом 4Б</td>\n      <td>True</td>\n      <td>False</td>\n      <td>NaN</td>\n      <td>128.0</td>\n      <td>пос. Ушково, Пляжевая ул., д. 4Б</td>\n      <td>NaN</td>\n      <td>NaN</td>\n      <td>38</td>\n      <td>Курортный</td>\n      <td>True</td>\n      <td>True</td>\n      <td>6987</td>\n      <td>46.0</td>\n      <td>3.0</td>\n      <td>NaN</td>\n      <td>NaN</td>\n      <td>посёлок Ушково, Пляжевая улица</td>\n      <td>пос. Ушково, Пляжевая ул.</td>\n      <td>'пляжев':7 'пляжевая':3 'поселок':5 'посёлок':1 'улиц':8 'улица':4 'ушков':6 'ушково':2</td>\n      <td>True</td>\n      <td>True</td>\n      <td>15.0</td>\n      <td>True</td>\n      <td>46.0</td>\n      <td>посёлок Ушково</td>\n      <td>пос. Ушково</td>\n      <td>'поселок':3 'посёлок':1 'ушков':4 'ушково':2</td>\n      <td>True</td>\n      <td>True</td>\n      <td>True</td>\n      <td>3.0</td>\n      <td>12.0</td>\n      <td>Пляжевая улица</td>\n      <td>Пляжевая ул.</td>\n      <td>True</td>\n      <td>True</td>\n      <td>Пляжевая</td>\n      <td>12.0</td>\n      <td>улица</td>\n      <td>ул.</td>\n      <td>True</td>\n      <td>True</td>\n      <td>NaN</td>\n      <td>NaN</td>\n      <td>NaN</td>\n      <td>NaN</td>\n      <td>NaN</td>\n      <td>NaN</td>\n      <td>NaN</td>\n      <td>NaN</td>\n      <td>NaN</td>\n      <td>NaN</td>\n      <td>NaN</td>\n      <td>NaN</td>\n      <td>Курортный район</td>\n      <td>поселок Ушково, Пляжевая улица, дом 4Б, Курортный район</td>\n      <td>NaN</td>\n      <td>ПЛЯЖЕВАЯ</td>\n      <td>4Б</td>\n      <td>УШКОВО</td>\n      <td>NaN</td>\n      <td>NaN</td>\n      <td>NaN</td>\n      <td>NaN</td>\n      <td>NaN</td>\n      <td>NaN</td>\n      <td>NaN</td>\n      <td>NaN</td>\n      <td>NaN</td>\n      <td>NaN</td>\n      <td>NaN</td>\n      <td>NaN</td>\n      <td>NaN</td>\n      <td>NaN</td>\n      <td>NaN</td>\n      <td>NaN</td>\n      <td>NaN</td>\n      <td>NaN</td>\n      <td>NaN</td>\n      <td>NaN</td>\n      <td>NaN</td>\n      <td>NaN</td>\n      <td>NaN</td>\n      <td>NaN</td>\n      <td>NaN</td>\n      <td>NaN</td>\n      <td>NaN</td>\n      <td>NaN</td>\n      <td>NaN</td>\n      <td>пос. Ушково</td>\n      <td>Пляжевая</td>\n      <td>4Б</td>\n      <td>NaN</td>\n      <td>NaN</td>\n      <td>Курортный</td>\n      <td>NaN</td>\n      <td>NaN</td>\n    </tr>\n    <tr>\n      <th>2</th>\n      <td>7134</td>\n      <td>6469</td>\n      <td>15</td>\n      <td>30</td>\n      <td>2</td>\n      <td>Е</td>\n      <td>NaN</td>\n      <td>NaN</td>\n      <td>г.Санкт-Петербург, проспект Маршала Жукова, дом 30, корпус 2, литера Е</td>\n      <td>True</td>\n      <td>False</td>\n      <td>Нежилое</td>\n      <td>30.0</td>\n      <td>г.Санкт-Петербург, пр. Маршала Жукова, д. 30, к. 2, л. Е</td>\n      <td>198303</td>\n      <td>NaN</td>\n      <td>15</td>\n      <td>Кировский</td>\n      <td>True</td>\n      <td>True</td>\n      <td>6469</td>\n      <td>36.0</td>\n      <td>2194.0</td>\n      <td>NaN</td>\n      <td>NaN</td>\n      <td>г.Санкт-Петербург, проспект Маршала Жукова</td>\n      <td>г.Санкт-Петербург, пр. Маршала Жукова</td>\n      <td>'г':1,8 'жуков':14 'жукова':7 'марша':13 'маршала':6 'петербург':4,11 'проспект':5,12 'санкт':3,10 'санкт-петербург':2,9</td>\n      <td>True</td>\n      <td>True</td>\n      <td>15.0</td>\n      <td>True</td>\n      <td>36.0</td>\n      <td>г.Санкт-Петербург</td>\n      <td>г.Санкт-Петербург</td>\n      <td>'г':1,5 'петербург':4,8 'санкт':3,7 'санкт-петербург':2,6</td>\n      <td>True</td>\n      <td>True</td>\n      <td>True</td>\n      <td>2194.0</td>\n      <td>10.0</td>\n      <td>проспект Маршала Жукова</td>\n      <td>пр. Маршала Жукова</td>\n      <td>True</td>\n      <td>True</td>\n      <td>Маршала Жукова</td>\n      <td>10.0</td>\n      <td>проспект</td>\n      <td>пр.</td>\n      <td>True</td>\n      <td>True</td>\n      <td>NaN</td>\n      <td>NaN</td>\n      <td>NaN</td>\n      <td>NaN</td>\n      <td>NaN</td>\n      <td>NaN</td>\n      <td>NaN</td>\n      <td>NaN</td>\n      <td>NaN</td>\n      <td>NaN</td>\n      <td>NaN</td>\n      <td>NaN</td>\n      <td>Кировский район</td>\n      <td>г.Санкт-Петербург, проспект Маршала Жукова, дом 30, корпус 2, литера Е, Нежилое, Кировский район</td>\n      <td>САНКТ-ПЕТЕРБУРГ</td>\n      <td>NaN</td>\n      <td>30</td>\n      <td>NaN</td>\n      <td>МАРШАЛА ЖУКОВА</td>\n      <td>2</td>\n      <td>Е</td>\n      <td>NaN</td>\n      <td>NaN</td>\n      <td>NaN</td>\n      <td>NaN</td>\n      <td>NaN</td>\n      <td>NaN</td>\n      <td>NaN</td>\n      <td>NaN</td>\n      <td>NaN</td>\n      <td>NaN</td>\n      <td>NaN</td>\n      <td>NaN</td>\n      <td>NaN</td>\n      <td>NaN</td>\n      <td>NaN</td>\n      <td>NaN</td>\n      <td>NaN</td>\n      <td>NaN</td>\n      <td>NaN</td>\n      <td>NaN</td>\n      <td>NaN</td>\n      <td>NaN</td>\n      <td>NaN</td>\n      <td>NaN</td>\n      <td>NaN</td>\n      <td>NaN</td>\n      <td>г.Санкт-Петербург</td>\n      <td>Маршала Жукова</td>\n      <td>30</td>\n      <td>2</td>\n      <td>Е</td>\n      <td>Кировский</td>\n      <td>NaN</td>\n      <td>NaN</td>\n    </tr>\n    <tr>\n      <th>3</th>\n      <td>124415</td>\n      <td>7838</td>\n      <td>38</td>\n      <td>5</td>\n      <td>2</td>\n      <td>А</td>\n      <td>NaN</td>\n      <td>NaN</td>\n      <td>поселок Белоостров, Дюны, Центральная улица, дом 5, корпус 2</td>\n      <td>True</td>\n      <td>False</td>\n      <td>Нежилое</td>\n      <td>110.0</td>\n      <td>пос. Белоостров, Дюны, Центральная ул., д. 5, к. 2</td>\n      <td>NaN</td>\n      <td>NaN</td>\n      <td>38</td>\n      <td>Курортный</td>\n      <td>True</td>\n      <td>True</td>\n      <td>7838</td>\n      <td>37.0</td>\n      <td>319.0</td>\n      <td>NaN</td>\n      <td>161.0</td>\n      <td>посёлок Белоостров, Дюны, Центральная улица</td>\n      <td>пос. Белоостров, Дюны, Центральная ул.</td>\n      <td>'белоостр':7 'белоостров':2 'дюн':8 'дюны':3 'поселок':6 'посёлок':1 'улиц':10 'улица':5 'центральн':9 'центральная':4</td>\n      <td>True</td>\n      <td>True</td>\n      <td>15.0</td>\n      <td>True</td>\n      <td>37.0</td>\n      <td>посёлок Белоостров</td>\n      <td>пос. Белоостров</td>\n      <td>'белоостр':4 'белоостров':2 'поселок':3 'посёлок':1</td>\n      <td>True</td>\n      <td>True</td>\n      <td>True</td>\n      <td>319.0</td>\n      <td>12.0</td>\n      <td>Центральная улица</td>\n      <td>Центральная ул.</td>\n      <td>True</td>\n      <td>True</td>\n      <td>Центральная</td>\n      <td>12.0</td>\n      <td>улица</td>\n      <td>ул.</td>\n      <td>True</td>\n      <td>True</td>\n      <td>NaN</td>\n      <td>NaN</td>\n      <td>NaN</td>\n      <td>NaN</td>\n      <td>NaN</td>\n      <td>NaN</td>\n      <td>NaN</td>\n      <td>NaN</td>\n      <td>NaN</td>\n      <td>NaN</td>\n      <td>NaN</td>\n      <td>NaN</td>\n      <td>Курортный район</td>\n      <td>поселок Белоостров, Дюны, Центральная улица, дом 5, корпус 2, Нежилое, Курортный район</td>\n      <td>NaN</td>\n      <td>ЦЕНТРАЛЬНАЯ</td>\n      <td>5</td>\n      <td>БЕЛООСТРОВ</td>\n      <td>NaN</td>\n      <td>2</td>\n      <td>NaN</td>\n      <td>ДЮНЫ</td>\n      <td>NaN</td>\n      <td>NaN</td>\n      <td>NaN</td>\n      <td>NaN</td>\n      <td>NaN</td>\n      <td>NaN</td>\n      <td>NaN</td>\n      <td>NaN</td>\n      <td>NaN</td>\n      <td>NaN</td>\n      <td>NaN</td>\n      <td>NaN</td>\n      <td>NaN</td>\n      <td>NaN</td>\n      <td>NaN</td>\n      <td>NaN</td>\n      <td>NaN</td>\n      <td>NaN</td>\n      <td>NaN</td>\n      <td>NaN</td>\n      <td>NaN</td>\n      <td>NaN</td>\n      <td>NaN</td>\n      <td>NaN</td>\n      <td>NaN</td>\n      <td>пос. Белоостров</td>\n      <td>Центральная</td>\n      <td>5</td>\n      <td>2</td>\n      <td>А</td>\n      <td>Курортный</td>\n      <td>NaN</td>\n      <td>NaN</td>\n    </tr>\n    <tr>\n      <th>4</th>\n      <td>185368</td>\n      <td>4224</td>\n      <td>38</td>\n      <td>28</td>\n      <td>NaN</td>\n      <td>Б</td>\n      <td>NaN</td>\n      <td>NaN</td>\n      <td>поселок Песочный, Речная улица, дом 28, литера Б</td>\n      <td>True</td>\n      <td>False</td>\n      <td>NaN</td>\n      <td>118.0</td>\n      <td>пос. Песочный, Речная ул., д. 28, л. Б</td>\n      <td>NaN</td>\n      <td>NaN</td>\n      <td>38</td>\n      <td>Курортный</td>\n      <td>True</td>\n      <td>True</td>\n      <td>4224</td>\n      <td>41.0</td>\n      <td>477.0</td>\n      <td>NaN</td>\n      <td>NaN</td>\n      <td>посёлок Песочный, Речная улица</td>\n      <td>пос. Песочный, Речная ул.</td>\n      <td>'песочн':6 'песочный':2 'поселок':5 'посёлок':1 'речн':7 'речная':3 'улиц':8 'улица':4</td>\n      <td>True</td>\n      <td>True</td>\n      <td>15.0</td>\n      <td>True</td>\n      <td>41.0</td>\n      <td>посёлок Песочный</td>\n      <td>пос. Песочный</td>\n      <td>'песочн':4 'песочный':2 'поселок':3 'посёлок':1</td>\n      <td>True</td>\n      <td>True</td>\n      <td>True</td>\n      <td>477.0</td>\n      <td>12.0</td>\n      <td>Речная улица</td>\n      <td>Речная ул.</td>\n      <td>True</td>\n      <td>True</td>\n      <td>Речная</td>\n      <td>12.0</td>\n      <td>улица</td>\n      <td>ул.</td>\n      <td>True</td>\n      <td>True</td>\n      <td>NaN</td>\n      <td>NaN</td>\n      <td>NaN</td>\n      <td>NaN</td>\n      <td>NaN</td>\n      <td>NaN</td>\n      <td>NaN</td>\n      <td>NaN</td>\n      <td>NaN</td>\n      <td>NaN</td>\n      <td>NaN</td>\n      <td>NaN</td>\n      <td>Курортный район</td>\n      <td>поселок Песочный, Речная улица, дом 28, литера Б, Курортный район</td>\n      <td>NaN</td>\n      <td>РЕЧНАЯ</td>\n      <td>28</td>\n      <td>ПЕСОЧНЫЙ</td>\n      <td>NaN</td>\n      <td>NaN</td>\n      <td>Б</td>\n      <td>NaN</td>\n      <td>NaN</td>\n      <td>NaN</td>\n      <td>NaN</td>\n      <td>NaN</td>\n      <td>NaN</td>\n      <td>NaN</td>\n      <td>NaN</td>\n      <td>NaN</td>\n      <td>NaN</td>\n      <td>NaN</td>\n      <td>NaN</td>\n      <td>NaN</td>\n      <td>NaN</td>\n      <td>NaN</td>\n      <td>NaN</td>\n      <td>NaN</td>\n      <td>NaN</td>\n      <td>NaN</td>\n      <td>NaN</td>\n      <td>NaN</td>\n      <td>NaN</td>\n      <td>NaN</td>\n      <td>NaN</td>\n      <td>NaN</td>\n      <td>NaN</td>\n      <td>пос. Песочный</td>\n      <td>Речная</td>\n      <td>28</td>\n      <td>NaN</td>\n      <td>Б</td>\n      <td>Курортный</td>\n      <td>NaN</td>\n      <td>NaN</td>\n    </tr>\n    <tr>\n      <th>...</th>\n      <td>...</td>\n      <td>...</td>\n      <td>...</td>\n      <td>...</td>\n      <td>...</td>\n      <td>...</td>\n      <td>...</td>\n      <td>...</td>\n      <td>...</td>\n      <td>...</td>\n      <td>...</td>\n      <td>...</td>\n      <td>...</td>\n      <td>...</td>\n      <td>...</td>\n      <td>...</td>\n      <td>...</td>\n      <td>...</td>\n      <td>...</td>\n      <td>...</td>\n      <td>...</td>\n      <td>...</td>\n      <td>...</td>\n      <td>...</td>\n      <td>...</td>\n      <td>...</td>\n      <td>...</td>\n      <td>...</td>\n      <td>...</td>\n      <td>...</td>\n      <td>...</td>\n      <td>...</td>\n      <td>...</td>\n      <td>...</td>\n      <td>...</td>\n      <td>...</td>\n      <td>...</td>\n      <td>...</td>\n      <td>...</td>\n      <td>...</td>\n      <td>...</td>\n      <td>...</td>\n      <td>...</td>\n      <td>...</td>\n      <td>...</td>\n      <td>...</td>\n      <td>...</td>\n      <td>...</td>\n      <td>...</td>\n      <td>...</td>\n      <td>...</td>\n      <td>...</td>\n      <td>...</td>\n      <td>...</td>\n      <td>...</td>\n      <td>...</td>\n      <td>...</td>\n      <td>...</td>\n      <td>...</td>\n      <td>...</td>\n      <td>...</td>\n      <td>...</td>\n      <td>...</td>\n      <td>...</td>\n      <td>...</td>\n      <td>...</td>\n      <td>...</td>\n      <td>...</td>\n      <td>...</td>\n      <td>...</td>\n      <td>...</td>\n      <td>...</td>\n      <td>...</td>\n      <td>...</td>\n      <td>...</td>\n      <td>...</td>\n      <td>...</td>\n      <td>...</td>\n      <td>...</td>\n      <td>...</td>\n      <td>...</td>\n      <td>...</td>\n      <td>...</td>\n      <td>...</td>\n      <td>...</td>\n      <td>...</td>\n      <td>...</td>\n      <td>...</td>\n      <td>...</td>\n      <td>...</td>\n      <td>...</td>\n      <td>...</td>\n      <td>...</td>\n      <td>...</td>\n      <td>...</td>\n      <td>...</td>\n      <td>...</td>\n      <td>...</td>\n      <td>...</td>\n      <td>...</td>\n      <td>...</td>\n      <td>...</td>\n      <td>...</td>\n      <td>...</td>\n      <td>...</td>\n      <td>...</td>\n    </tr>\n    <tr>\n      <th>166640</th>\n      <td>18941</td>\n      <td>5289</td>\n      <td>32</td>\n      <td>3</td>\n      <td>NaN</td>\n      <td>В</td>\n      <td>NaN</td>\n      <td>NaN</td>\n      <td>г.Санкт-Петербург, Бородинская улица, дом 3, литера В</td>\n      <td>True</td>\n      <td>True</td>\n      <td>Нежилое</td>\n      <td>4.0</td>\n      <td>г.Санкт-Петербург, Бородинская ул., д. 3, л. В</td>\n      <td>190000.0</td>\n      <td>NaN</td>\n      <td>32</td>\n      <td>Адмиралтейский</td>\n      <td>True</td>\n      <td>True</td>\n      <td>5289</td>\n      <td>36.0</td>\n      <td>1748.0</td>\n      <td>NaN</td>\n      <td>NaN</td>\n      <td>г.Санкт-Петербург, Бородинская улица</td>\n      <td>г.Санкт-Петербург, Бородинская ул.</td>\n      <td>'бородинск':11 'бородинская':5 'г':1,7 'петербург':4,10 'санкт':3,9 'санкт-петербург':2,8 'улиц':12 'улица':6</td>\n      <td>True</td>\n      <td>True</td>\n      <td>15.0</td>\n      <td>True</td>\n      <td>36.0</td>\n      <td>г.Санкт-Петербург</td>\n      <td>г.Санкт-Петербург</td>\n      <td>'г':1,5 'петербург':4,8 'санкт':3,7 'санкт-петербург':2,6</td>\n      <td>True</td>\n      <td>True</td>\n      <td>True</td>\n      <td>1748.0</td>\n      <td>12.0</td>\n      <td>Бородинская улица</td>\n      <td>Бородинская ул.</td>\n      <td>True</td>\n      <td>True</td>\n      <td>Бородинская</td>\n      <td>12.0</td>\n      <td>улица</td>\n      <td>ул.</td>\n      <td>True</td>\n      <td>True</td>\n      <td>NaN</td>\n      <td>NaN</td>\n      <td>NaN</td>\n      <td>NaN</td>\n      <td>NaN</td>\n      <td>NaN</td>\n      <td>NaN</td>\n      <td>NaN</td>\n      <td>NaN</td>\n      <td>NaN</td>\n      <td>NaN</td>\n      <td>NaN</td>\n      <td>Адмиралтейский район</td>\n      <td>г.Санкт-Петербург, Бородинская улица, дом 3, литера В, Нежилое, Адмиралтейский район</td>\n      <td>САНКТ-ПЕТЕРБУРГ</td>\n      <td>БОРОДИНСКАЯ</td>\n      <td>3</td>\n      <td>NaN</td>\n      <td>NaN</td>\n      <td>NaN</td>\n      <td>В</td>\n      <td>NaN</td>\n      <td>NaN</td>\n      <td>NaN</td>\n      <td>NaN</td>\n      <td>NaN</td>\n      <td>NaN</td>\n      <td>NaN</td>\n      <td>NaN</td>\n      <td>NaN</td>\n      <td>NaN</td>\n      <td>NaN</td>\n      <td>NaN</td>\n      <td>NaN</td>\n      <td>NaN</td>\n      <td>NaN</td>\n      <td>NaN</td>\n      <td>NaN</td>\n      <td>NaN</td>\n      <td>NaN</td>\n      <td>NaN</td>\n      <td>NaN</td>\n      <td>NaN</td>\n      <td>NaN</td>\n      <td>NaN</td>\n      <td>NaN</td>\n      <td>NaN</td>\n      <td>г.Санкт-Петербург</td>\n      <td>Бородинская</td>\n      <td>3</td>\n      <td>NaN</td>\n      <td>В</td>\n      <td>Адмиралтейский</td>\n      <td>NaN</td>\n      <td>NaN</td>\n    </tr>\n    <tr>\n      <th>166641</th>\n      <td>18942</td>\n      <td>5031</td>\n      <td>35</td>\n      <td>34/3</td>\n      <td>NaN</td>\n      <td>А</td>\n      <td>NaN</td>\n      <td>NaN</td>\n      <td>посёлок Александровская, 2-я линия, дом 34/3, литера А</td>\n      <td>True</td>\n      <td>True</td>\n      <td>Жилое</td>\n      <td>109.0</td>\n      <td>пос. Александровская, 2-я линия, д. 34/3, л. А</td>\n      <td>196631.0</td>\n      <td>NaN</td>\n      <td>35</td>\n      <td>Пушкинский</td>\n      <td>True</td>\n      <td>True</td>\n      <td>5031</td>\n      <td>22.0</td>\n      <td>2861.0</td>\n      <td>NaN</td>\n      <td>NaN</td>\n      <td>посёлок Александровская, 2-я линия</td>\n      <td>пос. Александровская, 2-я линия</td>\n      <td>'2':3,8 'александровск':7 'александровская':2 'лин':10 'линия':5 'поселок':6 'посёлок':1 'я':4</td>\n      <td>True</td>\n      <td>True</td>\n      <td>15.0</td>\n      <td>True</td>\n      <td>22.0</td>\n      <td>посёлок Александровская</td>\n      <td>пос. Александровская</td>\n      <td>'александровск':4 'александровская':2 'поселок':3 'посёлок':1</td>\n      <td>True</td>\n      <td>True</td>\n      <td>True</td>\n      <td>2861.0</td>\n      <td>6.0</td>\n      <td>2-я линия</td>\n      <td>2-я линия</td>\n      <td>True</td>\n      <td>True</td>\n      <td>2-я</td>\n      <td>6.0</td>\n      <td>линия</td>\n      <td>линия</td>\n      <td>True</td>\n      <td>True</td>\n      <td>NaN</td>\n      <td>NaN</td>\n      <td>NaN</td>\n      <td>NaN</td>\n      <td>NaN</td>\n      <td>NaN</td>\n      <td>NaN</td>\n      <td>NaN</td>\n      <td>NaN</td>\n      <td>NaN</td>\n      <td>NaN</td>\n      <td>NaN</td>\n      <td>Пушкинский район</td>\n      <td>посёлок Александровская, 2-я линия, дом 34/3, литера А, Жилое, Пушкинский район</td>\n      <td>NaN</td>\n      <td>NaN</td>\n      <td>34/3</td>\n      <td>АЛЕКСАНДРОВСКАЯ</td>\n      <td>NaN</td>\n      <td>NaN</td>\n      <td>А</td>\n      <td>NaN</td>\n      <td>NaN</td>\n      <td>NaN</td>\n      <td>NaN</td>\n      <td>NaN</td>\n      <td>NaN</td>\n      <td>NaN</td>\n      <td>NaN</td>\n      <td></td>\n      <td>NaN</td>\n      <td>NaN</td>\n      <td>NaN</td>\n      <td>NaN</td>\n      <td>NaN</td>\n      <td>NaN</td>\n      <td>NaN</td>\n      <td>NaN</td>\n      <td>NaN</td>\n      <td>NaN</td>\n      <td>NaN</td>\n      <td>NaN</td>\n      <td>NaN</td>\n      <td>NaN</td>\n      <td>NaN</td>\n      <td>NaN</td>\n      <td>NaN</td>\n      <td>пос. Александровская</td>\n      <td>2-я</td>\n      <td>34/3</td>\n      <td>NaN</td>\n      <td>А</td>\n      <td>Пушкинский</td>\n      <td>NaN</td>\n      <td>NaN</td>\n    </tr>\n    <tr>\n      <th>166642</th>\n      <td>18943</td>\n      <td>5623</td>\n      <td>38</td>\n      <td>39</td>\n      <td>NaN</td>\n      <td>NaN</td>\n      <td>NaN</td>\n      <td>NaN</td>\n      <td>посёлок Ушково, Детская улица, дом 39</td>\n      <td>True</td>\n      <td>False</td>\n      <td>NaN</td>\n      <td>128.0</td>\n      <td>пос. Ушково, Детская ул., д. 39</td>\n      <td>NaN</td>\n      <td>NaN</td>\n      <td>38</td>\n      <td>Курортный</td>\n      <td>True</td>\n      <td>True</td>\n      <td>5623</td>\n      <td>46.0</td>\n      <td>4.0</td>\n      <td>NaN</td>\n      <td>NaN</td>\n      <td>посёлок Ушково, Детская улица</td>\n      <td>пос. Ушково, Детская ул.</td>\n      <td>'детск':7 'детская':3 'поселок':5 'посёлок':1 'улиц':8 'улица':4 'ушков':6 'ушково':2</td>\n      <td>True</td>\n      <td>True</td>\n      <td>15.0</td>\n      <td>True</td>\n      <td>46.0</td>\n      <td>посёлок Ушково</td>\n      <td>пос. Ушково</td>\n      <td>'поселок':3 'посёлок':1 'ушков':4 'ушково':2</td>\n      <td>True</td>\n      <td>True</td>\n      <td>True</td>\n      <td>4.0</td>\n      <td>12.0</td>\n      <td>Детская улица</td>\n      <td>Детская ул.</td>\n      <td>True</td>\n      <td>True</td>\n      <td>Детская</td>\n      <td>12.0</td>\n      <td>улица</td>\n      <td>ул.</td>\n      <td>True</td>\n      <td>True</td>\n      <td>NaN</td>\n      <td>NaN</td>\n      <td>NaN</td>\n      <td>NaN</td>\n      <td>NaN</td>\n      <td>NaN</td>\n      <td>NaN</td>\n      <td>NaN</td>\n      <td>NaN</td>\n      <td>NaN</td>\n      <td>NaN</td>\n      <td>NaN</td>\n      <td>Курортный район</td>\n      <td>посёлок Ушково, Детская улица, дом 39, Курортный район</td>\n      <td>NaN</td>\n      <td>ДЕТСКАЯ</td>\n      <td>39</td>\n      <td>УШКОВО</td>\n      <td>NaN</td>\n      <td>NaN</td>\n      <td>NaN</td>\n      <td>NaN</td>\n      <td>NaN</td>\n      <td>NaN</td>\n      <td>NaN</td>\n      <td>NaN</td>\n      <td>NaN</td>\n      <td>NaN</td>\n      <td>NaN</td>\n      <td>NaN</td>\n      <td>NaN</td>\n      <td>NaN</td>\n      <td>NaN</td>\n      <td>NaN</td>\n      <td>NaN</td>\n      <td>NaN</td>\n      <td>NaN</td>\n      <td>NaN</td>\n      <td>NaN</td>\n      <td>NaN</td>\n      <td>NaN</td>\n      <td>NaN</td>\n      <td>NaN</td>\n      <td>NaN</td>\n      <td>NaN</td>\n      <td>NaN</td>\n      <td>NaN</td>\n      <td>пос. Ушково</td>\n      <td>Детская</td>\n      <td>39</td>\n      <td>NaN</td>\n      <td>NaN</td>\n      <td>Курортный</td>\n      <td>NaN</td>\n      <td>NaN</td>\n    </tr>\n    <tr>\n      <th>166643</th>\n      <td>18944</td>\n      <td>5787</td>\n      <td>34</td>\n      <td>25</td>\n      <td>NaN</td>\n      <td>Б</td>\n      <td>NaN</td>\n      <td>NaN</td>\n      <td>г.Санкт-Петербург, Заусадебная улица, дом 25, литера Б</td>\n      <td>True</td>\n      <td>False</td>\n      <td>Нежилое</td>\n      <td>68.0</td>\n      <td>г.Санкт-Петербург, Заусадебная ул., д. 25, л. Б</td>\n      <td>NaN</td>\n      <td>NaN</td>\n      <td>34</td>\n      <td>Приморский</td>\n      <td>True</td>\n      <td>True</td>\n      <td>5787</td>\n      <td>36.0</td>\n      <td>1316.0</td>\n      <td>NaN</td>\n      <td>NaN</td>\n      <td>г.Санкт-Петербург, Заусадебная улица</td>\n      <td>г.Санкт-Петербург, Заусадебная ул.</td>\n      <td>'г':1,7 'заусадебн':11 'заусадебная':5 'петербург':4,10 'санкт':3,9 'санкт-петербург':2,8 'улиц':12 'улица':6</td>\n      <td>True</td>\n      <td>True</td>\n      <td>15.0</td>\n      <td>True</td>\n      <td>36.0</td>\n      <td>г.Санкт-Петербург</td>\n      <td>г.Санкт-Петербург</td>\n      <td>'г':1,5 'петербург':4,8 'санкт':3,7 'санкт-петербург':2,6</td>\n      <td>True</td>\n      <td>True</td>\n      <td>True</td>\n      <td>1316.0</td>\n      <td>12.0</td>\n      <td>Заусадебная улица</td>\n      <td>Заусадебная ул.</td>\n      <td>True</td>\n      <td>True</td>\n      <td>Заусадебная</td>\n      <td>12.0</td>\n      <td>улица</td>\n      <td>ул.</td>\n      <td>True</td>\n      <td>True</td>\n      <td>NaN</td>\n      <td>NaN</td>\n      <td>NaN</td>\n      <td>NaN</td>\n      <td>NaN</td>\n      <td>NaN</td>\n      <td>NaN</td>\n      <td>NaN</td>\n      <td>NaN</td>\n      <td>NaN</td>\n      <td>NaN</td>\n      <td>NaN</td>\n      <td>Приморский район</td>\n      <td>г.Санкт-Петербург, Заусадебная улица, дом 25, литера Б, Нежилое, Приморский район</td>\n      <td>САНКТ-ПЕТЕРБУРГ</td>\n      <td>ЗАУСАДЕБНАЯ</td>\n      <td>25</td>\n      <td>NaN</td>\n      <td>NaN</td>\n      <td>NaN</td>\n      <td>Б</td>\n      <td>NaN</td>\n      <td>NaN</td>\n      <td>NaN</td>\n      <td>NaN</td>\n      <td>NaN</td>\n      <td>NaN</td>\n      <td>NaN</td>\n      <td>NaN</td>\n      <td>NaN</td>\n      <td>NaN</td>\n      <td>NaN</td>\n      <td>NaN</td>\n      <td>NaN</td>\n      <td>NaN</td>\n      <td>NaN</td>\n      <td>NaN</td>\n      <td>NaN</td>\n      <td>NaN</td>\n      <td>NaN</td>\n      <td>NaN</td>\n      <td>NaN</td>\n      <td>NaN</td>\n      <td>NaN</td>\n      <td>NaN</td>\n      <td>NaN</td>\n      <td>NaN</td>\n      <td>г.Санкт-Петербург</td>\n      <td>Заусадебная</td>\n      <td>25</td>\n      <td>NaN</td>\n      <td>Б</td>\n      <td>Приморский</td>\n      <td>NaN</td>\n      <td>NaN</td>\n    </tr>\n    <tr>\n      <th>166644</th>\n      <td>18945</td>\n      <td>6124</td>\n      <td>32</td>\n      <td>16</td>\n      <td>NaN</td>\n      <td>А</td>\n      <td>NaN</td>\n      <td>NaN</td>\n      <td>г.Санкт-Петербург, 8-я Красноармейская улица, дом 16, литера А</td>\n      <td>True</td>\n      <td>True</td>\n      <td>Нежилое</td>\n      <td>5.0</td>\n      <td>г.Санкт-Петербург, 8-я Красноармейская ул., д. 16, л. А</td>\n      <td>198103.0</td>\n      <td>NaN</td>\n      <td>32</td>\n      <td>Адмиралтейский</td>\n      <td>True</td>\n      <td>True</td>\n      <td>6124</td>\n      <td>36.0</td>\n      <td>2059.0</td>\n      <td>NaN</td>\n      <td>NaN</td>\n      <td>г.Санкт-Петербург, 8-я Красноармейская улица</td>\n      <td>г.Санкт-Петербург, 8-я Красноармейская ул.</td>\n      <td>'8':5,13 'г':1,9 'красноармейск':15 'красноармейская':7 'петербург':4,12 'санкт':3,11 'санкт-петербург':2,10 'улиц':16 'улица':8 'я':6</td>\n      <td>True</td>\n      <td>True</td>\n      <td>15.0</td>\n      <td>True</td>\n      <td>36.0</td>\n      <td>г.Санкт-Петербург</td>\n      <td>г.Санкт-Петербург</td>\n      <td>'г':1,5 'петербург':4,8 'санкт':3,7 'санкт-петербург':2,6</td>\n      <td>True</td>\n      <td>True</td>\n      <td>True</td>\n      <td>2059.0</td>\n      <td>12.0</td>\n      <td>8-я Красноармейская улица</td>\n      <td>8-я Красноармейская ул.</td>\n      <td>True</td>\n      <td>True</td>\n      <td>8-я Красноармейская</td>\n      <td>12.0</td>\n      <td>улица</td>\n      <td>ул.</td>\n      <td>True</td>\n      <td>True</td>\n      <td>NaN</td>\n      <td>NaN</td>\n      <td>NaN</td>\n      <td>NaN</td>\n      <td>NaN</td>\n      <td>NaN</td>\n      <td>NaN</td>\n      <td>NaN</td>\n      <td>NaN</td>\n      <td>NaN</td>\n      <td>NaN</td>\n      <td>NaN</td>\n      <td>Адмиралтейский район</td>\n      <td>г.Санкт-Петербург, 8-я Красноармейская улица, дом 16, литера А, Нежилое, Адмиралтейский район</td>\n      <td>САНКТ-ПЕТЕРБУРГ</td>\n      <td>КРАСНОАРМЕЙСКАЯ</td>\n      <td>16</td>\n      <td>NaN</td>\n      <td>NaN</td>\n      <td>NaN</td>\n      <td>А</td>\n      <td>NaN</td>\n      <td>NaN</td>\n      <td>NaN</td>\n      <td>NaN</td>\n      <td>NaN</td>\n      <td>NaN</td>\n      <td>NaN</td>\n      <td>NaN</td>\n      <td>NaN</td>\n      <td>NaN</td>\n      <td>NaN</td>\n      <td>NaN</td>\n      <td>NaN</td>\n      <td>NaN</td>\n      <td>NaN</td>\n      <td>NaN</td>\n      <td>NaN</td>\n      <td>NaN</td>\n      <td>NaN</td>\n      <td>NaN</td>\n      <td>NaN</td>\n      <td>NaN</td>\n      <td>NaN</td>\n      <td>NaN</td>\n      <td>NaN</td>\n      <td>NaN</td>\n      <td>г.Санкт-Петербург</td>\n      <td>8-я Красноармейская</td>\n      <td>16</td>\n      <td>NaN</td>\n      <td>А</td>\n      <td>Адмиралтейский</td>\n      <td>NaN</td>\n      <td>NaN</td>\n    </tr>\n  </tbody>\n</table>\n<p>166645 rows × 106 columns</p>\n</div>"
     },
     "execution_count": 12,
     "metadata": {},
     "output_type": "execute_result"
    }
   ],
   "source": [
    "train = (\n",
    "    pd.read_csv('../data/raw/additional_data/building_20230808.csv').add_suffix('_building')\n",
    "    .merge(\n",
    "        pd.read_csv('../data/raw/additional_data/district_20230808.csv').add_suffix('_district'),\n",
    "        left_on='district_id_building',\n",
    "        right_on='id_district',\n",
    "        how='left',\n",
    "    )\n",
    "    .merge(\n",
    "        pd.read_csv('../data/raw/additional_data/prefix_20230808.csv').add_suffix('_prefix'),\n",
    "        left_on='prefix_id_building',\n",
    "        right_on='id_prefix',\n",
    "        how='left',\n",
    "    )\n",
    "    .merge(\n",
    "        pd.read_csv('../data/raw/additional_data/town_20230808.csv').add_suffix('_town'),\n",
    "        left_on='town_id_prefix',\n",
    "        right_on='id_town',\n",
    "        how='left',\n",
    "    )\n",
    "    .merge(\n",
    "        pd.read_csv('../data/raw/additional_data/geonim_20230808.csv').add_suffix('_geonim'),\n",
    "        left_on='geonim_id_prefix',\n",
    "        right_on='id_geonim',\n",
    "        how='left',\n",
    "    )\n",
    "    .merge(\n",
    "        pd.read_csv('../data/raw/additional_data/geonimtype_20230808.csv').add_suffix('_geonimtype'),\n",
    "        left_on='type_id_geonim',\n",
    "        right_on='id_geonimtype',\n",
    "        how='left',\n",
    "    )\n",
    "    .merge(\n",
    "        pd.read_csv('../data/raw/additional_data/area_20230808.csv').add_suffix('_area'),\n",
    "        left_on='area_id_prefix',\n",
    "        right_on='id_area',\n",
    "        how='left',\n",
    "    )\n",
    "    .merge(\n",
    "        pd.read_csv('../data/raw/additional_data/areatype_20230808.csv').add_suffix('_areatype'),\n",
    "        left_on='type_id_area',\n",
    "        right_on='id_areatype',\n",
    "        how='left',\n",
    "    )\n",
    "    .assign(name_district_full=lambda df_: df_.name_district + ' район')\n",
    "    .assign(\n",
    "        all_in_field=lambda df_: df_[['full_address_building', 'type_building',\n",
    "                                      'name_district_full', 'name_area', 'name_areatype']]\n",
    "        .apply(lambda x: join_non_null_values(x), axis=1)\n",
    "    )\n",
    "    .assign(miscellaneous_objects = lambda df_: df_.parallel_apply(lambda x: get_address_ner_objects(x['full_address_building']), axis=1))\n",
    "    \n",
    ")\n",
    "train = pd.concat([train.drop(['miscellaneous_objects'], axis=1), train['miscellaneous_objects'].apply(pd.Series)], axis=1)\n",
    "\n",
    "train['ner_city'] = coalesce(train['short_name_town'], train['город'], train['поселок'], train['деревня'], train['село'],\n",
    "                             train['поселок городского типа'])\n",
    "train['ner_street'] = coalesce(train['only_name_geonim'], train['улица'], train['проспект'], train['набережная'], train['шоссе'], train['парк'],\n",
    "                               train['переулок'], train['площадь'], train['аллея'], train['линия'], train['автодорога'],\n",
    "                               train['проезд'], train['бульвар'])\n",
    "train['ner_house'] = coalesce(train['house_building'], train['дом'])\n",
    "train['ner_corpus'] = coalesce(train['corpus_building'], train['корпус'])\n",
    "train['ner_liter'] = coalesce(train['liter_building'], train['Литера'])\n",
    "train['ner_district'] = coalesce(train['name_district'], train['муниципальный район'], train['микрорайон'], train['квартал'], train['район'],\n",
    "                                 train['муниципальный округ'])\n",
    "train['ner_area'] = coalesce(train['name_area'], train['станция'], train['территория'], train['мост'], train['тупик'])\n",
    "train['ner_subject'] = coalesce(train['область'], train['округ'], train['волость'])\n",
    "\n",
    "train.to_pickle(\"../data/processed/main_data.pkl\")\n",
    "train"
   ],
   "metadata": {
    "collapsed": false,
    "ExecuteTime": {
     "end_time": "2023-08-26T23:14:09.177437Z",
     "start_time": "2023-08-26T23:09:22.069365Z"
    }
   },
   "id": "bdf8c0d3a8fb2bd0"
  },
  {
   "cell_type": "code",
   "execution_count": 13,
   "outputs": [],
   "source": [
    "# id_building are not the same as indices! Therefor we have to map in at some points \n",
    "train[['id_building']].to_pickle(\"../data/processed/mapping_id_building_index.pkl\")"
   ],
   "metadata": {
    "collapsed": false,
    "ExecuteTime": {
     "end_time": "2023-08-26T23:14:09.322280Z",
     "start_time": "2023-08-26T23:14:09.176401Z"
    }
   },
   "id": "b9daf257d8306f1e"
  },
  {
   "cell_type": "code",
   "execution_count": 6,
   "outputs": [],
   "source": [
    "train = pd.read_pickle(\"../data/processed/main_data.pkl\")"
   ],
   "metadata": {
    "collapsed": false,
    "ExecuteTime": {
     "end_time": "2023-08-27T04:47:45.487001Z",
     "start_time": "2023-08-27T04:47:45.085226Z"
    }
   },
   "id": "a06a524a8df19786"
  },
  {
   "cell_type": "code",
   "execution_count": 17,
   "outputs": [],
   "source": [
    "for_embeddings = (\n",
    "    pd.DataFrame(\n",
    "        np.concatenate([\n",
    "            train[['id_building', 'full_address_building']].values,\n",
    "            # train[['id_building', 'all_in_field']].values,\n",
    "            # train[['id_building', 'short_address_building']].values,\n",
    "            # train[['id_building', 'name_prefix']].values,\n",
    "            # train[['id_building', 'short_name_prefix']].values,\n",
    "            # train[['id_building', 'name_town']].values,\n",
    "            # train[['id_building', 'short_name_town']].values,\n",
    "            # train[['id_building', 'name_geonim']].values,\n",
    "            # train[['id_building', 'short_name_geonim']].values,\n",
    "            # train[['id_building', 'only_name_geonim']].values,\n",
    "            # train[['id_building', 'name_prefix']].values,\n",
    "            # train[['id_building', 'short_name_prefix']].values,\n",
    "            # train[['id_building', 'name_geonimtype']].values,\n",
    "            # train[['id_building', 'only_name_area']].values,\n",
    "            # train[['id_building', 'name_areatype']].values,\n",
    "            # train[['id_building', 'short_name_areatype']].values,\n",
    "            # train[['id_building', 'name_district']].values,\n",
    "            # train[['id_building', 'name_district_full']].values,\n",
    "        ], axis=0),\n",
    "        columns=['id_building', 'address']\n",
    "    )\n",
    "    .dropna()\n",
    "    .reset_index(drop=True)\n",
    ")"
   ],
   "metadata": {
    "collapsed": false,
    "ExecuteTime": {
     "end_time": "2023-08-27T05:06:27.551891Z",
     "start_time": "2023-08-27T05:06:27.501083Z"
    }
   },
   "id": "472631310b377693"
  },
  {
   "cell_type": "code",
   "execution_count": 18,
   "outputs": [
    {
     "data": {
      "text/plain": "       id_building  \\\n0       56343        \n1       595          \n2       7134         \n3       124415       \n4       185368       \n...        ...       \n166640  18941        \n166641  18942        \n166642  18943        \n166643  18944        \n166644  18945        \n\n                                                                       address  \n0       город Пушкин, Кедринская улица, дом 12                                  \n1       поселок Ушково, Пляжевая улица, дом 4Б                                  \n2       г.Санкт-Петербург, проспект Маршала Жукова, дом 30, корпус 2, литера Е  \n3       поселок Белоостров, Дюны, Центральная улица, дом 5, корпус 2            \n4       поселок Песочный, Речная улица, дом 28, литера Б                        \n...                                                  ...                        \n166640  г.Санкт-Петербург, Бородинская улица, дом 3, литера В                   \n166641  посёлок Александровская, 2-я линия, дом 34/3, литера А                  \n166642  посёлок Ушково, Детская улица, дом 39                                   \n166643  г.Санкт-Петербург, Заусадебная улица, дом 25, литера Б                  \n166644  г.Санкт-Петербург, 8-я Красноармейская улица, дом 16, литера А          \n\n[166645 rows x 2 columns]",
      "text/html": "<div>\n<style scoped>\n    .dataframe tbody tr th:only-of-type {\n        vertical-align: middle;\n    }\n\n    .dataframe tbody tr th {\n        vertical-align: top;\n    }\n\n    .dataframe thead th {\n        text-align: right;\n    }\n</style>\n<table border=\"1\" class=\"dataframe\">\n  <thead>\n    <tr style=\"text-align: right;\">\n      <th></th>\n      <th>id_building</th>\n      <th>address</th>\n    </tr>\n  </thead>\n  <tbody>\n    <tr>\n      <th>0</th>\n      <td>56343</td>\n      <td>город Пушкин, Кедринская улица, дом 12</td>\n    </tr>\n    <tr>\n      <th>1</th>\n      <td>595</td>\n      <td>поселок Ушково, Пляжевая улица, дом 4Б</td>\n    </tr>\n    <tr>\n      <th>2</th>\n      <td>7134</td>\n      <td>г.Санкт-Петербург, проспект Маршала Жукова, дом 30, корпус 2, литера Е</td>\n    </tr>\n    <tr>\n      <th>3</th>\n      <td>124415</td>\n      <td>поселок Белоостров, Дюны, Центральная улица, дом 5, корпус 2</td>\n    </tr>\n    <tr>\n      <th>4</th>\n      <td>185368</td>\n      <td>поселок Песочный, Речная улица, дом 28, литера Б</td>\n    </tr>\n    <tr>\n      <th>...</th>\n      <td>...</td>\n      <td>...</td>\n    </tr>\n    <tr>\n      <th>166640</th>\n      <td>18941</td>\n      <td>г.Санкт-Петербург, Бородинская улица, дом 3, литера В</td>\n    </tr>\n    <tr>\n      <th>166641</th>\n      <td>18942</td>\n      <td>посёлок Александровская, 2-я линия, дом 34/3, литера А</td>\n    </tr>\n    <tr>\n      <th>166642</th>\n      <td>18943</td>\n      <td>посёлок Ушково, Детская улица, дом 39</td>\n    </tr>\n    <tr>\n      <th>166643</th>\n      <td>18944</td>\n      <td>г.Санкт-Петербург, Заусадебная улица, дом 25, литера Б</td>\n    </tr>\n    <tr>\n      <th>166644</th>\n      <td>18945</td>\n      <td>г.Санкт-Петербург, 8-я Красноармейская улица, дом 16, литера А</td>\n    </tr>\n  </tbody>\n</table>\n<p>166645 rows × 2 columns</p>\n</div>"
     },
     "execution_count": 18,
     "metadata": {},
     "output_type": "execute_result"
    }
   ],
   "source": [
    "for_embeddings.to_pickle('../data/processed/for_embeddings_with_names.pkl')\n",
    "for_embeddings"
   ],
   "metadata": {
    "collapsed": false,
    "ExecuteTime": {
     "end_time": "2023-08-27T05:06:27.952597Z",
     "start_time": "2023-08-27T05:06:27.915805Z"
    }
   },
   "id": "bef76d66edbcdcd3"
  },
  {
   "cell_type": "markdown",
   "source": [
    "# Step 2 - Get Embeddings"
   ],
   "metadata": {
    "collapsed": false
   },
   "id": "d27836b2a97fcf46"
  },
  {
   "cell_type": "code",
   "execution_count": null,
   "outputs": [],
   "source": [
    "model = SentenceTransformer('sentence-transformers/all-MiniLM-L6-v2')"
   ],
   "metadata": {
    "collapsed": false
   },
   "id": "597213d996ef4750"
  },
  {
   "cell_type": "code",
   "execution_count": null,
   "outputs": [
    {
     "name": "stderr",
     "output_type": "stream",
     "text": [
      "  0%|          | 0/8 [00:00<?, ?it/s]"
     ]
    },
    {
     "data": {
      "text/plain": "Batches:   0%|          | 0/166645 [00:00<?, ?it/s]",
      "application/vnd.jupyter.widget-view+json": {
       "version_major": 2,
       "version_minor": 0,
       "model_id": "85940d57fb8144349f28e201f8d91468"
      }
     },
     "metadata": {},
     "output_type": "display_data"
    },
    {
     "name": "stderr",
     "output_type": "stream",
     "text": [
      " 12%|█▎        | 1/8 [21:33<2:30:55, 1293.59s/it]"
     ]
    },
    {
     "data": {
      "text/plain": "Batches:   0%|          | 0/166645 [00:00<?, ?it/s]",
      "application/vnd.jupyter.widget-view+json": {
       "version_major": 2,
       "version_minor": 0,
       "model_id": "266481afbc0a43589012c4f9a7ee9f9a"
      }
     },
     "metadata": {},
     "output_type": "display_data"
    },
    {
     "name": "stderr",
     "output_type": "stream",
     "text": [
      " 25%|██▌       | 2/8 [42:04<2:05:39, 1256.63s/it]"
     ]
    },
    {
     "data": {
      "text/plain": "Batches:   0%|          | 0/166645 [00:00<?, ?it/s]",
      "application/vnd.jupyter.widget-view+json": {
       "version_major": 2,
       "version_minor": 0,
       "model_id": "1e7b70bb0e3e47c4a38dc106b6a7df25"
      }
     },
     "metadata": {},
     "output_type": "display_data"
    },
    {
     "name": "stderr",
     "output_type": "stream",
     "text": [
      " 38%|███▊      | 3/8 [57:19<1:31:43, 1100.65s/it]"
     ]
    },
    {
     "data": {
      "text/plain": "Batches:   0%|          | 0/166645 [00:00<?, ?it/s]",
      "application/vnd.jupyter.widget-view+json": {
       "version_major": 2,
       "version_minor": 0,
       "model_id": "a29f1b0e5c29419f9768dbc25f36716e"
      }
     },
     "metadata": {},
     "output_type": "display_data"
    },
    {
     "name": "stderr",
     "output_type": "stream",
     "text": [
      " 50%|█████     | 4/8 [1:12:06<1:07:46, 1016.50s/it]"
     ]
    },
    {
     "data": {
      "text/plain": "Batches:   0%|          | 0/166645 [00:00<?, ?it/s]",
      "application/vnd.jupyter.widget-view+json": {
       "version_major": 2,
       "version_minor": 0,
       "model_id": "d7796c1840364f158196b73694ca6425"
      }
     },
     "metadata": {},
     "output_type": "display_data"
    }
   ],
   "source": [
    "# for col in tqdm([col for col in train if col.startswith('ner')]):\n",
    "l = ['ner_city',\n",
    "'ner_street',\n",
    "'ner_house',\n",
    "'ner_corpus',\n",
    "'ner_liter',\n",
    "'ner_district',\n",
    "'ner_area',\n",
    "'ner_subject']\n",
    "# for col in tqdm([col for col in train if col.startswith('ner')]):\n",
    "for col in tqdm(l):\n",
    "    data = train[col]\n",
    "    col_embeddings = model.encode(data.astype('str'),\n",
    "                              convert_to_tensor=True,\n",
    "                              show_progress_bar=True,\n",
    "                              batch_size=1)  # when batch_size > 1 the results are being shuffled\n",
    "    save_to = '../data/processed/embeddings_{}.pkl'.format(col)\n",
    "    with open(save_to, 'wb') as fp:\n",
    "        pickle.dump(col_embeddings, fp)"
   ],
   "metadata": {
    "collapsed": false,
    "is_executing": true,
    "ExecuteTime": {
     "start_time": "2023-08-27T06:36:40.048928Z"
    }
   },
   "id": "3361bdd8ab275c41"
  },
  {
   "cell_type": "code",
   "execution_count": 70,
   "outputs": [
    {
     "data": {
      "text/plain": "Batches:   0%|          | 0/1 [00:00<?, ?it/s]",
      "application/vnd.jupyter.widget-view+json": {
       "version_major": 2,
       "version_minor": 0,
       "model_id": "79480a0c0915472baf99da87c0351d78"
      }
     },
     "metadata": {},
     "output_type": "display_data"
    },
    {
     "data": {
      "text/plain": "tensor([True, True, True, True, True, True, True, True, True, True, True, True,\n        True, True, True, True, True, True, True, True, True, True, True, True,\n        True, True, True, True, True, True, True, True, True, True, True, True,\n        True, True, True, True, True, True, True, True, True, True, True, True,\n        True, True, True, True, True, True, True, True, True, True, True, True,\n        True, True, True, True, True, True, True, True, True, True, True, True,\n        True, True, True, True, True, True, True, True, True, True, True, True,\n        True, True, True, True, True, True, True, True, True, True, True, True,\n        True, True, True, True, True, True, True, True, True, True, True, True,\n        True, True, True, True, True, True, True, True, True, True, True, True,\n        True, True, True, True, True, True, True, True, True, True, True, True,\n        True, True, True, True, True, True, True, True, True, True, True, True,\n        True, True, True, True, True, True, True, True, True, True, True, True,\n        True, True, True, True, True, True, True, True, True, True, True, True,\n        True, True, True, True, True, True, True, True, True, True, True, True,\n        True, True, True, True, True, True, True, True, True, True, True, True,\n        True, True, True, True, True, True, True, True, True, True, True, True,\n        True, True, True, True, True, True, True, True, True, True, True, True,\n        True, True, True, True, True, True, True, True, True, True, True, True,\n        True, True, True, True, True, True, True, True, True, True, True, True,\n        True, True, True, True, True, True, True, True, True, True, True, True,\n        True, True, True, True, True, True, True, True, True, True, True, True,\n        True, True, True, True, True, True, True, True, True, True, True, True,\n        True, True, True, True, True, True, True, True, True, True, True, True,\n        True, True, True, True, True, True, True, True, True, True, True, True,\n        True, True, True, True, True, True, True, True, True, True, True, True,\n        True, True, True, True, True, True, True, True, True, True, True, True,\n        True, True, True, True, True, True, True, True, True, True, True, True,\n        True, True, True, True, True, True, True, True, True, True, True, True,\n        True, True, True, True, True, True, True, True, True, True, True, True,\n        True, True, True, True, True, True, True, True, True, True, True, True,\n        True, True, True, True, True, True, True, True, True, True, True, True])"
     },
     "execution_count": 70,
     "metadata": {},
     "output_type": "execute_result"
    }
   ],
   "source": [
    "n = 140\n",
    "emb_v1 = model.encode(train['ner_street'].iloc[n], convert_to_tensor=True, show_progress_bar=True, batch_size=128)\n",
    "# emb_v1 = model.encode(np.array(train.query(\"id_building == 76055\").ner_street), convert_to_tensor=True, show_progress_bar=True, batch_size=128)\n",
    "# emb_v2 = embeddings_ner_street[train.query(\"id_building == 76055\").index]\n",
    "with open('../data/processed/embeddings_ner_street.pkl', 'rb') as f:\n",
    "    embeddings_ner_street = pickle.load(f)\n",
    "emb_v2 = embeddings_ner_street[n]\n",
    "emb_v1 == emb_v2"
   ],
   "metadata": {
    "collapsed": false,
    "ExecuteTime": {
     "end_time": "2023-08-27T05:53:26.678974Z",
     "start_time": "2023-08-27T05:53:26.606787Z"
    }
   },
   "id": "4d1c454e592a4d25"
  },
  {
   "cell_type": "code",
   "execution_count": 76,
   "outputs": [
    {
     "data": {
      "text/plain": "Batches:   0%|          | 0/166645 [00:00<?, ?it/s]",
      "application/vnd.jupyter.widget-view+json": {
       "version_major": 2,
       "version_minor": 0,
       "model_id": "476783422eb34bfdad2bebf1bb7c8081"
      }
     },
     "metadata": {},
     "output_type": "display_data"
    }
   ],
   "source": [
    "embeddings = model.encode(for_embeddings['address'].astype('str'), convert_to_tensor=True, show_progress_bar=True,\n",
    "                          batch_size=1)"
   ],
   "metadata": {
    "collapsed": false,
    "ExecuteTime": {
     "end_time": "2023-08-27T06:20:57.803613Z",
     "start_time": "2023-08-27T05:56:19.818849Z"
    }
   },
   "id": "e49e2472fbde3570"
  },
  {
   "cell_type": "code",
   "execution_count": 21,
   "outputs": [],
   "source": [
    "with open('../data/processed/embeddings.pkl', 'wb') as fp:\n",
    "    pickle.dump(embeddings, fp)"
   ],
   "metadata": {
    "collapsed": false,
    "ExecuteTime": {
     "end_time": "2023-08-27T05:12:15.107301Z",
     "start_time": "2023-08-27T05:12:15.046745Z"
    }
   },
   "id": "3b2296d9903f36a7"
  },
  {
   "cell_type": "markdown",
   "source": [
    "# Step 3 - Similarity Matcher"
   ],
   "metadata": {
    "collapsed": false
   },
   "id": "66ac32a7fa7578da"
  },
  {
   "cell_type": "code",
   "execution_count": 25,
   "outputs": [],
   "source": [
    "with open('../data/processed/embeddings.pkl', 'rb') as f:\n",
    "    embeddings = pickle.load(f)\n",
    "\n",
    "for_embeddings = pd.read_pickle(\"../data/processed/for_embeddings_with_names.pkl\")"
   ],
   "metadata": {
    "collapsed": false,
    "ExecuteTime": {
     "end_time": "2023-08-27T05:14:38.597286Z",
     "start_time": "2023-08-27T05:14:38.497974Z"
    }
   },
   "id": "9ba804e7c8ae986e"
  },
  {
   "cell_type": "code",
   "execution_count": 26,
   "outputs": [],
   "source": [
    "QUERY = [\"г.Санкт-Петербург, набережная Обводного канала, дом 205, литера М\"]"
   ],
   "metadata": {
    "collapsed": false,
    "ExecuteTime": {
     "end_time": "2023-08-27T05:14:38.988831Z",
     "start_time": "2023-08-27T05:14:38.982659Z"
    }
   },
   "id": "8da4912dba164d67"
  },
  {
   "cell_type": "code",
   "execution_count": 27,
   "outputs": [],
   "source": [
    "def get_best_matches(query, top_n, embeddings: np.array, sentences):\n",
    "    model = SentenceTransformer('sentence-transformers/all-MiniLM-L6-v2')\n",
    "    query_embedding = model.encode(query, convert_to_tensor=True)\n",
    "    scores = embeddings.dot(query_embedding.T).ravel()\n",
    "    best = np.argpartition(scores, -top_n)[-top_n:]\n",
    "    # mapping = pd.read_pickle(\"../data/processed/mapping_id_building_index.pkl\")\n",
    "    # raw_ranking_indices = mapping.query(\"id_building in @raw_ranking_ids\").index\n",
    "    sentences['scores'] = scores\n",
    "    sentences.loc[list(best), 'lev_distance'] = sentences.loc[list(best), 'address'].apply(\n",
    "        lambda x: lev_distance(query, x))\n",
    "    best_matches = sentences[['id_building', 'address', 'scores', 'lev_distance']].loc[list(best)]\n",
    "    best_matches_within_id_indices = best_matches.groupby(['id_building']).scores.transform(max) == best_matches.scores\n",
    "    best_matches = best_matches.loc[best_matches_within_id_indices]#.sort_values(by='scores',\n",
    "                                                                                # ascending=False).reset_index(drop=True)\n",
    "    if len(best_matches[best_matches['scores'] >= 0.99]):\n",
    "        return best_matches[best_matches['scores'] >= 0.99]\n",
    "    elif len(best_matches[best_matches['scores'] >= 0.90]):\n",
    "        return best_matches[best_matches['scores'] >= 0.90]\n",
    "    elif len(best_matches[best_matches['scores'] >= 0.90]):\n",
    "        return best_matches[best_matches['scores'] >= 0.90]\n",
    "    else:\n",
    "        return best_matches"
   ],
   "metadata": {
    "collapsed": false,
    "ExecuteTime": {
     "end_time": "2023-08-27T05:14:39.354780Z",
     "start_time": "2023-08-27T05:14:39.350473Z"
    }
   },
   "id": "e9199af6df780b1e"
  },
  {
   "cell_type": "code",
   "execution_count": 28,
   "outputs": [
    {
     "data": {
      "text/plain": "       id_building                                           address  \\\n101331  99808       г.Санкт-Петербург, Лиговский проспект, дом 60-62   \n14582   9262        г.Санкт-Петербург, Лиговский проспект, дом 60-62   \n107944  106759      г.Санкт-Петербург, Лиговский проспект, дом 60-62   \n70971   68247       г.Санкт-Петербург, Лиговский проспект, дом 60-62   \n19112   13994       г.Санкт-Петербург, Лиговский проспект, дом 60-62   \n78451   76055       г.Санкт-Петербург, Школьная улица, дом 77          \n166144  40334       г.Санкт-Петербург, Лиговский проспект, дом 60-62   \n91078   89171       г.Санкт-Петербург, Школьная улица, дом 76          \n61150   57875       г.Санкт-Петербург, Шуваловский проспект, дом 61    \n9578    4040        г.Санкт-Петербург, Лиговский проспект, дом 60-62   \n\n          scores  lev_distance  \n101331  0.813415  33.0          \n14582   0.813415  33.0          \n107944  0.813415  33.0          \n70971   0.813415  33.0          \n19112   0.813415  33.0          \n78451   0.831581  18.0          \n166144  0.813415  33.0          \n91078   0.816349  18.0          \n61150   0.820311  32.0          \n9578    0.813415  33.0          ",
      "text/html": "<div>\n<style scoped>\n    .dataframe tbody tr th:only-of-type {\n        vertical-align: middle;\n    }\n\n    .dataframe tbody tr th {\n        vertical-align: top;\n    }\n\n    .dataframe thead th {\n        text-align: right;\n    }\n</style>\n<table border=\"1\" class=\"dataframe\">\n  <thead>\n    <tr style=\"text-align: right;\">\n      <th></th>\n      <th>id_building</th>\n      <th>address</th>\n      <th>scores</th>\n      <th>lev_distance</th>\n    </tr>\n  </thead>\n  <tbody>\n    <tr>\n      <th>101331</th>\n      <td>99808</td>\n      <td>г.Санкт-Петербург, Лиговский проспект, дом 60-62</td>\n      <td>0.813415</td>\n      <td>33.0</td>\n    </tr>\n    <tr>\n      <th>14582</th>\n      <td>9262</td>\n      <td>г.Санкт-Петербург, Лиговский проспект, дом 60-62</td>\n      <td>0.813415</td>\n      <td>33.0</td>\n    </tr>\n    <tr>\n      <th>107944</th>\n      <td>106759</td>\n      <td>г.Санкт-Петербург, Лиговский проспект, дом 60-62</td>\n      <td>0.813415</td>\n      <td>33.0</td>\n    </tr>\n    <tr>\n      <th>70971</th>\n      <td>68247</td>\n      <td>г.Санкт-Петербург, Лиговский проспект, дом 60-62</td>\n      <td>0.813415</td>\n      <td>33.0</td>\n    </tr>\n    <tr>\n      <th>19112</th>\n      <td>13994</td>\n      <td>г.Санкт-Петербург, Лиговский проспект, дом 60-62</td>\n      <td>0.813415</td>\n      <td>33.0</td>\n    </tr>\n    <tr>\n      <th>78451</th>\n      <td>76055</td>\n      <td>г.Санкт-Петербург, Школьная улица, дом 77</td>\n      <td>0.831581</td>\n      <td>18.0</td>\n    </tr>\n    <tr>\n      <th>166144</th>\n      <td>40334</td>\n      <td>г.Санкт-Петербург, Лиговский проспект, дом 60-62</td>\n      <td>0.813415</td>\n      <td>33.0</td>\n    </tr>\n    <tr>\n      <th>91078</th>\n      <td>89171</td>\n      <td>г.Санкт-Петербург, Школьная улица, дом 76</td>\n      <td>0.816349</td>\n      <td>18.0</td>\n    </tr>\n    <tr>\n      <th>61150</th>\n      <td>57875</td>\n      <td>г.Санкт-Петербург, Шуваловский проспект, дом 61</td>\n      <td>0.820311</td>\n      <td>32.0</td>\n    </tr>\n    <tr>\n      <th>9578</th>\n      <td>4040</td>\n      <td>г.Санкт-Петербург, Лиговский проспект, дом 60-62</td>\n      <td>0.813415</td>\n      <td>33.0</td>\n    </tr>\n  </tbody>\n</table>\n</div>"
     },
     "execution_count": 28,
     "metadata": {},
     "output_type": "execute_result"
    }
   ],
   "source": [
    "QUERY = \"196641, Санкт-Петербург г, Школьная ул, д.5\"\n",
    "get_best_matches(QUERY, 10, np.array(embeddings), for_embeddings)"
   ],
   "metadata": {
    "collapsed": false,
    "ExecuteTime": {
     "end_time": "2023-08-27T05:14:40.456404Z",
     "start_time": "2023-08-27T05:14:40.226090Z"
    }
   },
   "id": "ec4a3fe0d14251f8"
  },
  {
   "cell_type": "code",
   "execution_count": 30,
   "outputs": [
    {
     "data": {
      "text/plain": "tensor([0.8134])"
     },
     "execution_count": 30,
     "metadata": {},
     "output_type": "execute_result"
    }
   ],
   "source": [
    "query1=\"196641, Санкт-Петербург г, Школьная ул, д.5\"\n",
    "query2=\"г.Санкт-Петербург, Лиговский проспект, дом 60-62\"\n",
    "model = SentenceTransformer('sentence-transformers/all-MiniLM-L6-v2')\n",
    "query_embedding1 = model.encode(query1, convert_to_tensor=True)\n",
    "query_embedding2 = model.encode(query2, convert_to_tensor=True)\n",
    "query_embedding1.dot(query_embedding2.T).ravel()\n",
    "# transformer required fine-tuning"
   ],
   "metadata": {
    "collapsed": false,
    "ExecuteTime": {
     "end_time": "2023-08-27T05:14:48.910508Z",
     "start_time": "2023-08-27T05:14:48.704591Z"
    }
   },
   "id": "35c581f8288ee4b8"
  },
  {
   "cell_type": "code",
   "execution_count": 31,
   "outputs": [],
   "source": [
    "QUERY = [\"г.Санкт-Петербург, набережная Обводного канала, дом 205, литера М\",\n",
    "         'г.Санкт-Петербург, набережная Обводного канала, дом 205, литера А']\n",
    "\n",
    "def multiple_best_matches(file, top_n, embeddings: np.array, sentences):\n",
    "    res = pd.DataFrame()\n",
    "    for el in file:\n",
    "        res = pd.concat([res, get_best_matches(el, top_n, embeddings, sentences)])\n",
    "    return res.reset_index(drop=True)\n",
    "    "
   ],
   "metadata": {
    "collapsed": false,
    "ExecuteTime": {
     "end_time": "2023-08-27T05:14:49.647080Z",
     "start_time": "2023-08-27T05:14:49.643419Z"
    }
   },
   "id": "e8010501dba0cc0a"
  },
  {
   "cell_type": "code",
   "execution_count": 32,
   "outputs": [
    {
     "data": {
      "text/plain": "   id_building  \\\n0   56343        \n1   595          \n2   4649         \n3   199215       \n4   61406        \n5   39404        \n6   7134         \n7   39211        \n8   124415       \n9   100211       \n10  185368       \n11  2459         \n12  163249       \n13  112309       \n14  186361       \n15  39523        \n16  90175        \n17  1603         \n18  2528         \n19  40214        \n20  33462        \n21  187158       \n22  50281        \n23  56448        \n24  59821        \n25  16759        \n26  24236        \n27  174201       \n28  126228       \n29  106544       \n30  174203       \n31  174200       \n32  124827       \n\n                                                                   address  \\\n0   город Пушкин, Кедринская улица, дом 12                                   \n1   поселок Ушково, Пляжевая улица, дом 4Б                                   \n2   г.Санкт-Петербург, проспект Маршала Жукова, дом 30, корпус 2, литера А   \n3   г.Санкт-Петербург, проспект Маршала Жукова, дом 30, корпус 2, литера Е   \n4   г.Санкт-Петербург, проспект Маршала Жукова, дом 30, корпус 2, литера В   \n5   г.Санкт-Петербург, проспект Маршала Жукова, дом 30, корпус 2, литера И   \n6   г.Санкт-Петербург, проспект Маршала Жукова, дом 30, корпус 2, литера Е   \n7   г.Санкт-Петербург, проспект Маршала Жукова, дом 30, корпус 2, литера Д   \n8   поселок Белоостров, Дюны, Центральная улица, дом 5, корпус 2             \n9   посёлок Песочный, Речная улица, дом 28, литера Б                         \n10  поселок Песочный, Речная улица, дом 28, литера Б                         \n11  г.Санкт-Петербург, Большой проспект П.С., дом 49/18, литера Д            \n12  г.Санкт-Петербург, Большой проспект П.С., дом 49/18, литера Д            \n13  поселок Солнечное, Комсомольская улица, дом 15, литера Б                 \n14  посёлок Солнечное, Комсомольская улица, дом 15а, литера Б                \n15  г.Санкт-Петербург, набережная Обводного канала, дом 223-225, литера Д    \n16  г.Санкт-Петербург, набережная Обводного канала, дом 223-225, литера Я    \n17  г.Санкт-Петербург, набережная Обводного канала, дом 223-225, литера У    \n18  г.Санкт-Петербург, набережная Обводного канала, дом 223-225, литера С    \n19  г.Санкт-Петербург, набережная Обводного канала, дом 223-225, литера О    \n20  г.Санкт-Петербург, набережная Обводного канала, дом 223-225, литера К    \n21  г.Санкт-Петербург, набережная Обводного канала, дом 223-225, литера П    \n22  г.Санкт-Петербург, набережная Обводного канала, дом 223-225, литера Н    \n23  г.Санкт-Петербург, набережная Обводного канала, дом 223-225, литера П    \n24  г.Санкт-Петербург, набережная Обводного канала, дом 223-225, литера Т    \n25  поселок Александровская, Беличья улица, дом 7                            \n26  поселок Парголово, Осиновая Роща, Вокзальное шоссе, дом 55, корпус 2     \n27  г.Санкт-Петербург, Малоохтинский проспект, дом 64, литера Д              \n28  г.Санкт-Петербург, Малоохтинский проспект, дом 64, литера В              \n29  г.Санкт-Петербург, Малоохтинский проспект, дом 64, литера В              \n30  г.Санкт-Петербург, Малоохтинский проспект, дом 64, литера В              \n31  г.Санкт-Петербург, Малоохтинский проспект, дом 64, литера А              \n32  г.Санкт-Петербург, Малоохтинский проспект, дом 64, литера Д              \n\n      scores  lev_distance  \n0   1.000000  0.0           \n1   1.000000  0.0           \n2   0.990053  1.0           \n3   1.000000  0.0           \n4   0.990869  1.0           \n5   0.991955  1.0           \n6   1.000000  0.0           \n7   0.991091  1.0           \n8   1.000000  0.0           \n9   1.000000  1.0           \n10  1.000000  0.0           \n11  1.000000  0.0           \n12  1.000000  0.0           \n13  1.000000  0.0           \n14  0.992979  2.0           \n15  0.993179  1.0           \n16  0.993627  1.0           \n17  0.993722  1.0           \n18  0.994477  1.0           \n19  0.995607  1.0           \n20  0.994403  1.0           \n21  1.000000  0.0           \n22  0.994873  1.0           \n23  1.000000  0.0           \n24  0.994181  1.0           \n25  1.000000  0.0           \n26  1.000000  0.0           \n27  0.993228  1.0           \n28  1.000000  0.0           \n29  1.000000  0.0           \n30  1.000000  0.0           \n31  0.990272  1.0           \n32  0.993228  1.0           ",
      "text/html": "<div>\n<style scoped>\n    .dataframe tbody tr th:only-of-type {\n        vertical-align: middle;\n    }\n\n    .dataframe tbody tr th {\n        vertical-align: top;\n    }\n\n    .dataframe thead th {\n        text-align: right;\n    }\n</style>\n<table border=\"1\" class=\"dataframe\">\n  <thead>\n    <tr style=\"text-align: right;\">\n      <th></th>\n      <th>id_building</th>\n      <th>address</th>\n      <th>scores</th>\n      <th>lev_distance</th>\n    </tr>\n  </thead>\n  <tbody>\n    <tr>\n      <th>0</th>\n      <td>56343</td>\n      <td>город Пушкин, Кедринская улица, дом 12</td>\n      <td>1.000000</td>\n      <td>0.0</td>\n    </tr>\n    <tr>\n      <th>1</th>\n      <td>595</td>\n      <td>поселок Ушково, Пляжевая улица, дом 4Б</td>\n      <td>1.000000</td>\n      <td>0.0</td>\n    </tr>\n    <tr>\n      <th>2</th>\n      <td>4649</td>\n      <td>г.Санкт-Петербург, проспект Маршала Жукова, дом 30, корпус 2, литера А</td>\n      <td>0.990053</td>\n      <td>1.0</td>\n    </tr>\n    <tr>\n      <th>3</th>\n      <td>199215</td>\n      <td>г.Санкт-Петербург, проспект Маршала Жукова, дом 30, корпус 2, литера Е</td>\n      <td>1.000000</td>\n      <td>0.0</td>\n    </tr>\n    <tr>\n      <th>4</th>\n      <td>61406</td>\n      <td>г.Санкт-Петербург, проспект Маршала Жукова, дом 30, корпус 2, литера В</td>\n      <td>0.990869</td>\n      <td>1.0</td>\n    </tr>\n    <tr>\n      <th>5</th>\n      <td>39404</td>\n      <td>г.Санкт-Петербург, проспект Маршала Жукова, дом 30, корпус 2, литера И</td>\n      <td>0.991955</td>\n      <td>1.0</td>\n    </tr>\n    <tr>\n      <th>6</th>\n      <td>7134</td>\n      <td>г.Санкт-Петербург, проспект Маршала Жукова, дом 30, корпус 2, литера Е</td>\n      <td>1.000000</td>\n      <td>0.0</td>\n    </tr>\n    <tr>\n      <th>7</th>\n      <td>39211</td>\n      <td>г.Санкт-Петербург, проспект Маршала Жукова, дом 30, корпус 2, литера Д</td>\n      <td>0.991091</td>\n      <td>1.0</td>\n    </tr>\n    <tr>\n      <th>8</th>\n      <td>124415</td>\n      <td>поселок Белоостров, Дюны, Центральная улица, дом 5, корпус 2</td>\n      <td>1.000000</td>\n      <td>0.0</td>\n    </tr>\n    <tr>\n      <th>9</th>\n      <td>100211</td>\n      <td>посёлок Песочный, Речная улица, дом 28, литера Б</td>\n      <td>1.000000</td>\n      <td>1.0</td>\n    </tr>\n    <tr>\n      <th>10</th>\n      <td>185368</td>\n      <td>поселок Песочный, Речная улица, дом 28, литера Б</td>\n      <td>1.000000</td>\n      <td>0.0</td>\n    </tr>\n    <tr>\n      <th>11</th>\n      <td>2459</td>\n      <td>г.Санкт-Петербург, Большой проспект П.С., дом 49/18, литера Д</td>\n      <td>1.000000</td>\n      <td>0.0</td>\n    </tr>\n    <tr>\n      <th>12</th>\n      <td>163249</td>\n      <td>г.Санкт-Петербург, Большой проспект П.С., дом 49/18, литера Д</td>\n      <td>1.000000</td>\n      <td>0.0</td>\n    </tr>\n    <tr>\n      <th>13</th>\n      <td>112309</td>\n      <td>поселок Солнечное, Комсомольская улица, дом 15, литера Б</td>\n      <td>1.000000</td>\n      <td>0.0</td>\n    </tr>\n    <tr>\n      <th>14</th>\n      <td>186361</td>\n      <td>посёлок Солнечное, Комсомольская улица, дом 15а, литера Б</td>\n      <td>0.992979</td>\n      <td>2.0</td>\n    </tr>\n    <tr>\n      <th>15</th>\n      <td>39523</td>\n      <td>г.Санкт-Петербург, набережная Обводного канала, дом 223-225, литера Д</td>\n      <td>0.993179</td>\n      <td>1.0</td>\n    </tr>\n    <tr>\n      <th>16</th>\n      <td>90175</td>\n      <td>г.Санкт-Петербург, набережная Обводного канала, дом 223-225, литера Я</td>\n      <td>0.993627</td>\n      <td>1.0</td>\n    </tr>\n    <tr>\n      <th>17</th>\n      <td>1603</td>\n      <td>г.Санкт-Петербург, набережная Обводного канала, дом 223-225, литера У</td>\n      <td>0.993722</td>\n      <td>1.0</td>\n    </tr>\n    <tr>\n      <th>18</th>\n      <td>2528</td>\n      <td>г.Санкт-Петербург, набережная Обводного канала, дом 223-225, литера С</td>\n      <td>0.994477</td>\n      <td>1.0</td>\n    </tr>\n    <tr>\n      <th>19</th>\n      <td>40214</td>\n      <td>г.Санкт-Петербург, набережная Обводного канала, дом 223-225, литера О</td>\n      <td>0.995607</td>\n      <td>1.0</td>\n    </tr>\n    <tr>\n      <th>20</th>\n      <td>33462</td>\n      <td>г.Санкт-Петербург, набережная Обводного канала, дом 223-225, литера К</td>\n      <td>0.994403</td>\n      <td>1.0</td>\n    </tr>\n    <tr>\n      <th>21</th>\n      <td>187158</td>\n      <td>г.Санкт-Петербург, набережная Обводного канала, дом 223-225, литера П</td>\n      <td>1.000000</td>\n      <td>0.0</td>\n    </tr>\n    <tr>\n      <th>22</th>\n      <td>50281</td>\n      <td>г.Санкт-Петербург, набережная Обводного канала, дом 223-225, литера Н</td>\n      <td>0.994873</td>\n      <td>1.0</td>\n    </tr>\n    <tr>\n      <th>23</th>\n      <td>56448</td>\n      <td>г.Санкт-Петербург, набережная Обводного канала, дом 223-225, литера П</td>\n      <td>1.000000</td>\n      <td>0.0</td>\n    </tr>\n    <tr>\n      <th>24</th>\n      <td>59821</td>\n      <td>г.Санкт-Петербург, набережная Обводного канала, дом 223-225, литера Т</td>\n      <td>0.994181</td>\n      <td>1.0</td>\n    </tr>\n    <tr>\n      <th>25</th>\n      <td>16759</td>\n      <td>поселок Александровская, Беличья улица, дом 7</td>\n      <td>1.000000</td>\n      <td>0.0</td>\n    </tr>\n    <tr>\n      <th>26</th>\n      <td>24236</td>\n      <td>поселок Парголово, Осиновая Роща, Вокзальное шоссе, дом 55, корпус 2</td>\n      <td>1.000000</td>\n      <td>0.0</td>\n    </tr>\n    <tr>\n      <th>27</th>\n      <td>174201</td>\n      <td>г.Санкт-Петербург, Малоохтинский проспект, дом 64, литера Д</td>\n      <td>0.993228</td>\n      <td>1.0</td>\n    </tr>\n    <tr>\n      <th>28</th>\n      <td>126228</td>\n      <td>г.Санкт-Петербург, Малоохтинский проспект, дом 64, литера В</td>\n      <td>1.000000</td>\n      <td>0.0</td>\n    </tr>\n    <tr>\n      <th>29</th>\n      <td>106544</td>\n      <td>г.Санкт-Петербург, Малоохтинский проспект, дом 64, литера В</td>\n      <td>1.000000</td>\n      <td>0.0</td>\n    </tr>\n    <tr>\n      <th>30</th>\n      <td>174203</td>\n      <td>г.Санкт-Петербург, Малоохтинский проспект, дом 64, литера В</td>\n      <td>1.000000</td>\n      <td>0.0</td>\n    </tr>\n    <tr>\n      <th>31</th>\n      <td>174200</td>\n      <td>г.Санкт-Петербург, Малоохтинский проспект, дом 64, литера А</td>\n      <td>0.990272</td>\n      <td>1.0</td>\n    </tr>\n    <tr>\n      <th>32</th>\n      <td>124827</td>\n      <td>г.Санкт-Петербург, Малоохтинский проспект, дом 64, литера Д</td>\n      <td>0.993228</td>\n      <td>1.0</td>\n    </tr>\n  </tbody>\n</table>\n</div>"
     },
     "execution_count": 32,
     "metadata": {},
     "output_type": "execute_result"
    }
   ],
   "source": [
    "multiple_best_matches(train['full_address_building'].loc[:10].values, 10, np.array(embeddings), for_embeddings)"
   ],
   "metadata": {
    "collapsed": false,
    "ExecuteTime": {
     "end_time": "2023-08-27T05:14:55.128883Z",
     "start_time": "2023-08-27T05:14:51.215643Z"
    }
   },
   "id": "eea8d40a6c77b23d"
  },
  {
   "cell_type": "code",
   "execution_count": 119,
   "outputs": [],
   "source": [
    "# def slow_get_best_matches(query, top_n, embeddings: np.array, sentences):\n",
    "#     model = SentenceTransformer('sentence-transformers/all-MiniLM-L6-v2')\n",
    "#     query_embedding = model.encode(query, convert_to_tensor=True)\n",
    "#     scores = embeddings.dot(query_embedding.T).ravel()\n",
    "#     best = np.argpartition(scores, -top_n)[-top_n:]\n",
    "#     sentences['scores'] = scores\n",
    "#     sentences.loc[list(best), 'lev_distance'] = sentences.loc[list(best), 'address'].apply(\n",
    "#         lambda x: lev_distance(query, x))\n",
    "#     best_matches = sentences[['id_building', 'address', 'scores', 'lev_distance']].loc[list(best)]\n",
    "#     add_data = pd.read_pickle(\"../data/processed/main_data.pkl\")\n",
    "#     best_matches = best_matches.merge(add_data[['id_building', 'liter_building', 'name_district_full', 'name_town']])\n",
    "#     best_matches_within_id_indices = best_matches.groupby(['id_building']).scores.transform(max) == best_matches.scores\n",
    "#     best_matches = best_matches.loc[best_matches_within_id_indices]#.sort_values(by='scores',\n",
    "#                                                                                 # ascending=False).reset_index(drop=True)\n",
    "# \n",
    "#     # add logic to topn selection\n",
    "#     # add catboost here to ass probabilities\n",
    "#     if len(best_matches[best_matches['scores'] >= 0.98]):\n",
    "#         return best_matches[best_matches['scores'] >= 0.98]\n",
    "#     elif len(best_matches[best_matches['scores'] >= 0.90]):\n",
    "#         return best_matches[best_matches['scores'] >= 0.90]\n",
    "#     else:\n",
    "#         return best_matches\n",
    "\n",
    "# slow_get_best_matches(QUERY, 10, np.array(embeddings), for_embeddings)"
   ],
   "metadata": {
    "collapsed": false,
    "ExecuteTime": {
     "end_time": "2023-08-26T13:16:20.025820Z",
     "start_time": "2023-08-26T13:16:20.009729Z"
    }
   },
   "id": "191c278f0ec58f60"
  },
  {
   "cell_type": "markdown",
   "source": [
    "# Step 4 NER + 1 one ML ALgo"
   ],
   "metadata": {
    "collapsed": false
   },
   "id": "37a630f24f3f730d"
  },
  {
   "cell_type": "code",
   "execution_count": 33,
   "outputs": [
    {
     "name": "stdout",
     "output_type": "stream",
     "text": [
      "[{'город': 'ПУШКИН'}, {'парк': 'ЕКАТЕРИНИНСКИЙ'}, {'дом': '0', 'Литера': 'Ц'}]\n",
      "[{'город': 'ПУШКИН'}, {'парк': 'ЕКАТЕРИНИНСКИЙ'}, {'дом': '0', 'Литера': 'Ц'}]\n"
     ]
    }
   ],
   "source": [
    "addr = []\n",
    "result = processor('город Пушкин, Екатерининский парк, дом б/н, литера Ц')\n",
    "referent = result.matches[0].referent\n",
    "x = get_ner_elements(referent)\n",
    "print(addr)\n",
    "print(x)"
   ],
   "metadata": {
    "collapsed": false,
    "ExecuteTime": {
     "end_time": "2023-08-27T05:14:55.555475Z",
     "start_time": "2023-08-27T05:14:55.551526Z"
    }
   },
   "id": "461cc4be2a7a27b"
  },
  {
   "cell_type": "code",
   "execution_count": 34,
   "outputs": [
    {
     "data": {
      "text/plain": "{'город': 'САНКТ-ПЕТЕРБУРГ', 'улица': 'ВЕРНОСТИ', 'дом': '28', 'Литера': '2'}"
     },
     "execution_count": 34,
     "metadata": {},
     "output_type": "execute_result"
    }
   ],
   "source": [
    "get_address_ner_objects('195256, Санкт-Петербург г., Верности ул., д.28, Строение 2') #город Москва, Екатерининский парк, дом б/н, литера Ц"
   ],
   "metadata": {
    "collapsed": false,
    "ExecuteTime": {
     "end_time": "2023-08-27T05:14:56.339992Z",
     "start_time": "2023-08-27T05:14:56.334800Z"
    }
   },
   "id": "98d8d0750d56d4a9"
  },
  {
   "cell_type": "markdown",
   "source": [
    "test:\n",
    "г.Санкт-Петербург, дом 223-225, наб. Обводного канала\n",
    "г.Санкт-Петербург, дом 223-225\n",
    "посёлок Солнечное, Комсомольская улица\n",
    "г.Санкт-Петербург, проспект Динамо, дом 12"
   ],
   "metadata": {
    "collapsed": false
   },
   "id": "bca0938c7bac802c"
  },
  {
   "cell_type": "markdown",
   "source": [
    "# Step 5. Finalization with NER and Catboost"
   ],
   "metadata": {
    "collapsed": false
   },
   "id": "25dd7cc278e3aee4"
  },
  {
   "cell_type": "code",
   "execution_count": 35,
   "outputs": [],
   "source": [
    "def input_transformation(user_input):\n",
    "    user_input = pd.DataFrame(columns=['город', 'улица', 'дом', 'поселок', 'проспект',\n",
    "                          'корпус', 'Литера', 'муниципальный район', 'набережная', 'шоссе',\n",
    "                          'парк', 'переулок', 'площадь', 'аллея', '', 'линия', 'автодорога',\n",
    "                          'микрорайон', 'деревня', 'проезд', 'квартал', 'бульвар', 'станция',\n",
    "                          'район', 'территория', 'муниципальный округ', 'мост', 'тупик',\n",
    "                          'область', 'село', 'поселок городского типа', 'округ', 'волость'])  # rewrite\n",
    "    user_res = pd.concat([user_input, pd.DataFrame(get_address_ner_objects(QUERY), index=[0])])\n",
    "    user_res['ner_city'] = coalesce(user_res['город'], user_res['поселок'], user_res['деревня'], user_res['село'],\n",
    "                                    user_res['поселок городского типа'])\n",
    "    user_res['ner_street'] = coalesce(user_res['улица'], user_res['проспект'], user_res['набережная'], user_res['шоссе'], user_res['парк'],\n",
    "                                      user_res['переулок'], user_res['площадь'], user_res['аллея'], user_res['линия'], user_res['автодорога'],\n",
    "                                      user_res['проезд'], user_res['бульвар'])\n",
    "    user_res['ner_house'] = user_res['дом']\n",
    "    user_res['ner_corpus'] = user_res['корпус']\n",
    "    user_res['ner_liter'] = user_res['Литера']\n",
    "    user_res['ner_district'] = coalesce(user_res['муниципальный район'], user_res['микрорайон'], user_res['квартал'], user_res['район'],\n",
    "                                        user_res['муниципальный округ'])\n",
    "    user_res['ner_area'] = coalesce(user_res['станция'], user_res['территория'], user_res['мост'], user_res['тупик'])\n",
    "    user_res['ner_subject'] = coalesce(user_res['область'], user_res['округ'], user_res['волость'])\n",
    "    user_res = user_res[[col for col in user_res if col.startswith('ner')]]\n",
    "    return user_res"
   ],
   "metadata": {
    "collapsed": false,
    "ExecuteTime": {
     "end_time": "2023-08-27T05:14:59.515905Z",
     "start_time": "2023-08-27T05:14:59.508803Z"
    }
   },
   "id": "548288fd2a0e7dd4"
  },
  {
   "cell_type": "code",
   "execution_count": 37,
   "outputs": [
    {
     "data": {
      "text/plain": "          ner_city        ner_street ner_house ner_corpus ner_liter  \\\n0  САНКТ-ПЕТЕРБУРГ  ОБВОДНОГО КАНАЛА  205       NaN        М          \n\n  ner_district ner_area ner_subject  \n0  NaN          NaN      NaN         ",
      "text/html": "<div>\n<style scoped>\n    .dataframe tbody tr th:only-of-type {\n        vertical-align: middle;\n    }\n\n    .dataframe tbody tr th {\n        vertical-align: top;\n    }\n\n    .dataframe thead th {\n        text-align: right;\n    }\n</style>\n<table border=\"1\" class=\"dataframe\">\n  <thead>\n    <tr style=\"text-align: right;\">\n      <th></th>\n      <th>ner_city</th>\n      <th>ner_street</th>\n      <th>ner_house</th>\n      <th>ner_corpus</th>\n      <th>ner_liter</th>\n      <th>ner_district</th>\n      <th>ner_area</th>\n      <th>ner_subject</th>\n    </tr>\n  </thead>\n  <tbody>\n    <tr>\n      <th>0</th>\n      <td>САНКТ-ПЕТЕРБУРГ</td>\n      <td>ОБВОДНОГО КАНАЛА</td>\n      <td>205</td>\n      <td>NaN</td>\n      <td>М</td>\n      <td>NaN</td>\n      <td>NaN</td>\n      <td>NaN</td>\n    </tr>\n  </tbody>\n</table>\n</div>"
     },
     "execution_count": 37,
     "metadata": {},
     "output_type": "execute_result"
    }
   ],
   "source": [
    "QUERY = \"г.Санкт-Петербург, набережная Обводного канала, дом 205, литера М\"\n",
    "input_transformation(QUERY)"
   ],
   "metadata": {
    "collapsed": false,
    "ExecuteTime": {
     "end_time": "2023-08-27T05:15:01.597382Z",
     "start_time": "2023-08-27T05:15:01.587788Z"
    }
   },
   "id": "67ec845e1469f15f"
  },
  {
   "cell_type": "code",
   "execution_count": 38,
   "outputs": [],
   "source": [
    "model = SentenceTransformer('sentence-transformers/all-MiniLM-L6-v2')\n",
    "query_embedding = model.encode('ОБВОДНОГО КАНАЛА', convert_to_tensor=True, normalize_embeddings=True)"
   ],
   "metadata": {
    "collapsed": false,
    "ExecuteTime": {
     "end_time": "2023-08-27T05:15:02.107460Z",
     "start_time": "2023-08-27T05:15:01.908603Z"
    }
   },
   "id": "899f34bd808ed938"
  },
  {
   "cell_type": "code",
   "execution_count": 39,
   "outputs": [
    {
     "data": {
      "text/plain": "      id_building  \\\n86977  84908        \n35884  31542        \n\n                                                                 address  \\\n86977  г.Санкт-Петербург, набережная Обводного канала, дом 205, литера М   \n35884  г.Санкт-Петербург, набережная Обводного канала, дом 205, литера А   \n\n         scores  lev_distance  \n86977  1.000000  0.0           \n35884  0.990537  1.0           ",
      "text/html": "<div>\n<style scoped>\n    .dataframe tbody tr th:only-of-type {\n        vertical-align: middle;\n    }\n\n    .dataframe tbody tr th {\n        vertical-align: top;\n    }\n\n    .dataframe thead th {\n        text-align: right;\n    }\n</style>\n<table border=\"1\" class=\"dataframe\">\n  <thead>\n    <tr style=\"text-align: right;\">\n      <th></th>\n      <th>id_building</th>\n      <th>address</th>\n      <th>scores</th>\n      <th>lev_distance</th>\n    </tr>\n  </thead>\n  <tbody>\n    <tr>\n      <th>86977</th>\n      <td>84908</td>\n      <td>г.Санкт-Петербург, набережная Обводного канала, дом 205, литера М</td>\n      <td>1.000000</td>\n      <td>0.0</td>\n    </tr>\n    <tr>\n      <th>35884</th>\n      <td>31542</td>\n      <td>г.Санкт-Петербург, набережная Обводного канала, дом 205, литера А</td>\n      <td>0.990537</td>\n      <td>1.0</td>\n    </tr>\n  </tbody>\n</table>\n</div>"
     },
     "execution_count": 39,
     "metadata": {},
     "output_type": "execute_result"
    }
   ],
   "source": [
    "get_best_matches(QUERY, 10, np.array(embeddings), for_embeddings)"
   ],
   "metadata": {
    "collapsed": false,
    "ExecuteTime": {
     "end_time": "2023-08-27T05:15:02.849774Z",
     "start_time": "2023-08-27T05:15:02.612368Z"
    }
   },
   "id": "4937ae792fa5928e"
  },
  {
   "cell_type": "code",
   "execution_count": 40,
   "outputs": [],
   "source": [
    "with open('../data/processed/embeddings.pkl', 'rb') as f:\n",
    "    embeddings = pickle.load(f)"
   ],
   "metadata": {
    "collapsed": false,
    "ExecuteTime": {
     "end_time": "2023-08-27T05:15:04.344439Z",
     "start_time": "2023-08-27T05:15:04.294195Z"
    }
   },
   "id": "12a9722eab5361b2"
  },
  {
   "cell_type": "code",
   "execution_count": 41,
   "outputs": [],
   "source": [
    "with open('../data/processed/embeddings_ner_street.pkl', 'rb') as f:\n",
    "    embeddings_ner_street = pickle.load(f)"
   ],
   "metadata": {
    "collapsed": false,
    "ExecuteTime": {
     "end_time": "2023-08-27T05:15:05.875376Z",
     "start_time": "2023-08-27T05:15:05.831698Z"
    }
   },
   "id": "3031c1fcd4e31f7"
  },
  {
   "cell_type": "code",
   "execution_count": 42,
   "outputs": [],
   "source": [
    "# embeddings_ner_street"
   ],
   "metadata": {
    "collapsed": false,
    "ExecuteTime": {
     "end_time": "2023-08-27T05:15:07.640682Z",
     "start_time": "2023-08-27T05:15:07.632006Z"
    }
   },
   "id": "4ef3d5df5b77a6af"
  },
  {
   "cell_type": "code",
   "execution_count": 72,
   "outputs": [],
   "source": [
    "# emb_v1 = model.encode(np.array(train.query(\"id_building == 76055\").ner_street), convert_to_tensor=True, show_progress_bar=True, batch_size=128)\n",
    "# emb_v2 = embeddings_ner_street[train.query(\"id_building == 76055\").index]\n",
    "# emb_v1 == emb_v2"
   ],
   "metadata": {
    "collapsed": false,
    "ExecuteTime": {
     "end_time": "2023-08-27T05:53:44.909974Z",
     "start_time": "2023-08-27T05:53:44.901043Z"
    }
   },
   "id": "c2ca94bab9ceeef2"
  },
  {
   "cell_type": "code",
   "execution_count": 232,
   "outputs": [
    {
     "data": {
      "text/plain": "Batches:   0%|          | 0/1 [00:00<?, ?it/s]",
      "application/vnd.jupyter.widget-view+json": {
       "version_major": 2,
       "version_minor": 0,
       "model_id": "9c1666265bbc49309d830a015b7a3d6b"
      }
     },
     "metadata": {},
     "output_type": "display_data"
    },
    {
     "data": {
      "text/plain": "array([1.], dtype=float32)"
     },
     "execution_count": 232,
     "metadata": {},
     "output_type": "execute_result"
    }
   ],
   "source": [
    "# with open('../data/processed/embeddings_ner_street.pkl'.format(col), 'rb') as f:\n",
    "#     db_col_embedding = np.array(pickle.load(f)[78451])\n",
    "# \n",
    "# query_col_embedding = model.encode('ШКОЛЬНАЯ', convert_to_tensor=True, show_progress_bar=True,\n",
    "#                                    batch_size=128)\n",
    "# db_col_embedding.dot(query_col_embedding.T).ravel()"
   ],
   "metadata": {
    "collapsed": false,
    "ExecuteTime": {
     "end_time": "2023-08-26T22:13:34.668207Z",
     "start_time": "2023-08-26T22:13:34.587422Z"
    }
   },
   "id": "a113c645882044c0"
  },
  {
   "cell_type": "code",
   "execution_count": 75,
   "outputs": [
    {
     "data": {
      "text/plain": "      id_building                                          address    scores  \\\n91078  89171       г.Санкт-Петербург, Школьная улица, дом 76        0.816349   \n61150  57875       г.Санкт-Петербург, Шуваловский проспект, дом 61  0.820311   \n78451  76055       г.Санкт-Петербург, Школьная улица, дом 77        0.831581   \n\n       lev_distance  score_ner_city  score_ner_street  score_ner_house  \\\n91078  18.0          0.918204        0.764108          0.478460          \n61150  32.0          0.918204        1.000000          0.483058          \n78451  18.0          0.918204        1.000000          0.532029          \n\n                                    original_query  \n91078  196641, Санкт-Петербург г, Школьная ул, д.5  \n61150  196641, Санкт-Петербург г, Школьная ул, д.5  \n78451  196641, Санкт-Петербург г, Школьная ул, д.5  ",
      "text/html": "<div>\n<style scoped>\n    .dataframe tbody tr th:only-of-type {\n        vertical-align: middle;\n    }\n\n    .dataframe tbody tr th {\n        vertical-align: top;\n    }\n\n    .dataframe thead th {\n        text-align: right;\n    }\n</style>\n<table border=\"1\" class=\"dataframe\">\n  <thead>\n    <tr style=\"text-align: right;\">\n      <th></th>\n      <th>id_building</th>\n      <th>address</th>\n      <th>scores</th>\n      <th>lev_distance</th>\n      <th>score_ner_city</th>\n      <th>score_ner_street</th>\n      <th>score_ner_house</th>\n      <th>original_query</th>\n    </tr>\n  </thead>\n  <tbody>\n    <tr>\n      <th>91078</th>\n      <td>89171</td>\n      <td>г.Санкт-Петербург, Школьная улица, дом 76</td>\n      <td>0.816349</td>\n      <td>18.0</td>\n      <td>0.918204</td>\n      <td>0.764108</td>\n      <td>0.478460</td>\n      <td>196641, Санкт-Петербург г, Школьная ул, д.5</td>\n    </tr>\n    <tr>\n      <th>61150</th>\n      <td>57875</td>\n      <td>г.Санкт-Петербург, Шуваловский проспект, дом 61</td>\n      <td>0.820311</td>\n      <td>32.0</td>\n      <td>0.918204</td>\n      <td>1.000000</td>\n      <td>0.483058</td>\n      <td>196641, Санкт-Петербург г, Школьная ул, д.5</td>\n    </tr>\n    <tr>\n      <th>78451</th>\n      <td>76055</td>\n      <td>г.Санкт-Петербург, Школьная улица, дом 77</td>\n      <td>0.831581</td>\n      <td>18.0</td>\n      <td>0.918204</td>\n      <td>1.000000</td>\n      <td>0.532029</td>\n      <td>196641, Санкт-Петербург г, Школьная ул, д.5</td>\n    </tr>\n  </tbody>\n</table>\n</div>"
     },
     "execution_count": 75,
     "metadata": {},
     "output_type": "execute_result"
    }
   ],
   "source": [
    "bin = []\n",
    "def get_advanced_matching_scores(input_query, embeddings: np.array, sentences):\n",
    "    model = SentenceTransformer('sentence-transformers/all-MiniLM-L6-v2')\n",
    "    raw_ranking = get_best_matches(input_query, 3, embeddings, sentences)\n",
    "    # display(raw_ranking)\n",
    "    raw_ranking_ids = raw_ranking.id_building\n",
    "    query = input_transformation(input_query).dropna(axis=1)\n",
    "    mapping = pd.read_pickle(\"../data/processed/mapping_id_building_index.pkl\")\n",
    "    raw_ranking_indices = mapping.query(\"id_building in @raw_ranking_ids\").index\n",
    "    global bin\n",
    "    bin.append(raw_ranking_indices)\n",
    "    # input_transformation(QUERY)\n",
    "    # for indx, row in train.iloc[raw_ranking_indices].iterrows():\n",
    "    #     query_col_embedding = model.encode(col_value, convert_to_tensor=True, normalize_embeddings=True)\n",
    "    #     db_col_embedding = input_transformation(row.full_address_building).dropna(axis=1)\n",
    "    #     raw_ranking.loc[:, 'score_'+col] = db_col_embedding.dot(query_col_embedding.T).ravel()\n",
    "    for col in query.columns:\n",
    "        col_value = query[col].values[0]\n",
    "        query_col_embedding = model.encode(col_value, convert_to_tensor=True, normalize_embeddings=True)\n",
    "        # db_col_embedding = train.loc[list(raw_ranking_indices), col]\n",
    "        # db_col_embedding = np.array(model.encode(train.loc[list(raw_ranking_indices), col].astype('str').str.upper().values,\n",
    "        #                                 convert_to_tensor=True,\n",
    "        #                                 # show_progress_bar=True,\n",
    "        #                                 batch_size=128))\n",
    "        with open('../data/processed/embeddings_{}.pkl'.format(col), 'rb') as f:\n",
    "            db_col_embedding = np.array(pickle.load(f)[list(raw_ranking_indices)])\n",
    "        raw_ranking.loc[:, 'score_'+col] = db_col_embedding.dot(query_col_embedding.T).ravel()\n",
    "    raw_ranking.loc[:, 'original_query'] = input_query\n",
    "    return raw_ranking\n",
    "\n",
    "QUERY = \"196641, Санкт-Петербург г, Школьная ул, д.5\"\n",
    "get_advanced_matching_scores(QUERY, np.array(embeddings), for_embeddings)"
   ],
   "metadata": {
    "collapsed": false,
    "ExecuteTime": {
     "end_time": "2023-08-27T05:56:02.575727Z",
     "start_time": "2023-08-27T05:56:01.811856Z"
    }
   },
   "id": "3b9a76f1c114b1e9"
  },
  {
   "cell_type": "code",
   "execution_count": 262,
   "outputs": [
    {
     "data": {
      "text/plain": "       id_building  prefix_id_building  district_id_building house_building  \\\n61150  57875        15941               34                    61              \n78451  76055        7907                34                    77              \n91078  89171        7907                34                    76              \n\n      corpus_building liter_building villa_building parcel_building  \\\n61150  NaN             NaN            NaN            NaN              \n78451  NaN             NaN            NaN            NaN              \n91078  NaN             NaN            NaN            NaN              \n\n                                 full_address_building  is_updated_building  \\\n61150  г.Санкт-Петербург, Шуваловский проспект, дом 61  True                  \n78451  г.Санкт-Петербург, Школьная улица, дом 77        True                  \n91078  г.Санкт-Петербург, Школьная улица, дом 76        True                  \n\n       is_actual_building type_building  municipality_id_building  \\\n61150  True                Жилое         69.0                       \n78451  True                Неизвестно    65.0                       \n91078  True                Неизвестно    66.0                       \n\n                          short_address_building post_prefix_building  \\\n61150  г.Санкт-Петербург, Шуваловский пр., д. 61  NaN                   \n78451  г.Санкт-Петербург, Школьная ул., д. 77     197187.0              \n91078  г.Санкт-Петербург, Школьная ул., д. 76     197183.0              \n\n      build_number_building  id_district name_district  is_updated_district  \\\n61150  NaN                   34           Приморский    True                  \n78451  NaN                   34           Приморский    True                  \n91078  NaN                   34           Приморский    True                  \n\n       is_actual_district  id_prefix  town_id_prefix  geonim_id_prefix  \\\n61150  True                15941      36.0            763.0              \n78451  True                7907       36.0            1319.0             \n91078  True                7907       36.0            1319.0             \n\n       area_id_prefix  toponim_id_prefix  \\\n61150 NaN             NaN                  \n78451 NaN             NaN                  \n91078 NaN             NaN                  \n\n                                   name_prefix  \\\n61150  г.Санкт-Петербург, Шуваловский проспект   \n78451  г.Санкт-Петербург, Школьная улица         \n91078  г.Санкт-Петербург, Школьная улица         \n\n                        short_name_prefix  \\\n61150  г.Санкт-Петербург, Шуваловский пр.   \n78451  г.Санкт-Петербург, Школьная ул.      \n91078  г.Санкт-Петербург, Школьная ул.      \n\n                                                                                             search_index_prefix  \\\n61150  'г':1,7 'петербург':4,10 'проспект':6,12 'санкт':3,9 'санкт-петербург':2,8 'шуваловск':11 'шуваловский':5   \n78451  'г':1,7 'петербург':4,10 'санкт':3,9 'санкт-петербург':2,8 'улиц':12 'улица':6 'школьн':11 'школьная':5     \n91078  'г':1,7 'петербург':4,10 'санкт':3,9 'санкт-петербург':2,8 'улиц':12 'улица':6 'школьн':11 'школьная':5     \n\n       is_updated_prefix  is_actual_prefix  sub_rf_id_prefix  \\\n61150  True               True              15.0               \n78451  True               True              15.0               \n91078  True               True              15.0               \n\n       has_buildings_prefix  id_town          name_town    short_name_town  \\\n61150  True                  36.0     г.Санкт-Петербург  г.Санкт-Петербург   \n78451  True                  36.0     г.Санкт-Петербург  г.Санкт-Петербург   \n91078  True                  36.0     г.Санкт-Петербург  г.Санкт-Петербург   \n\n                                               search_index_town  \\\n61150  'г':1,5 'петербург':4,8 'санкт':3,7 'санкт-петербург':2,6   \n78451  'г':1,5 'петербург':4,8 'санкт':3,7 'санкт-петербург':2,6   \n91078  'г':1,5 'петербург':4,8 'санкт':3,7 'санкт-петербург':2,6   \n\n      is_updated_town is_actual_town has_buildings_town  id_geonim  \\\n61150  True            True           True               763.0       \n78451  True            True           True               1319.0      \n91078  True            True           True               1319.0      \n\n       type_id_geonim           name_geonim short_name_geonim  \\\n61150  10.0            Шуваловский проспект  Шуваловский пр.    \n78451  12.0            Школьная улица        Школьная ул.       \n91078  12.0            Школьная улица        Школьная ул.       \n\n      is_updated_geonim is_actual_geonim only_name_geonim  id_geonimtype  \\\n61150  True              True             Шуваловский      10.0            \n78451  True              True             Школьная         12.0            \n91078  True              True             Школьная         12.0            \n\n      name_geonimtype short_name_geonimtype is_updated_geonimtype  \\\n61150  проспект        пр.                   True                   \n78451  улица           ул.                   True                   \n91078  улица           ул.                   True                   \n\n      is_actual_geonimtype  id_area  type_id_area name_area short_name_area  \\\n61150  True                NaN      NaN            NaN       NaN              \n78451  True                NaN      NaN            NaN       NaN              \n91078  True                NaN      NaN            NaN       NaN              \n\n      is_updated_area is_actual_area only_name_area  id_areatype  \\\n61150  NaN             NaN            NaN           NaN            \n78451  NaN             NaN            NaN           NaN            \n91078  NaN             NaN            NaN           NaN            \n\n      name_areatype short_name_areatype is_updated_areatype  \\\n61150  NaN           NaN                 NaN                  \n78451  NaN           NaN                 NaN                  \n91078  NaN           NaN                 NaN                  \n\n      is_actual_areatype name_district_full  \\\n61150  NaN                Приморский район    \n78451  NaN                Приморский район    \n91078  NaN                Приморский район    \n\n                                                                   all_in_field  \\\n61150  г.Санкт-Петербург, Шуваловский проспект, дом 61, Жилое, Приморский район   \n78451  г.Санкт-Петербург, Школьная улица, дом 77, Неизвестно, Приморский район    \n91078  г.Санкт-Петербург, Школьная улица, дом 76, Неизвестно, Приморский район    \n\n                 город     улица дом поселок     проспект корпус Литера  \\\n61150  САНКТ-ПЕТЕРБУРГ  NaN       61  NaN     ШУВАЛОВСКИЙ  NaN    NaN     \n78451  САНКТ-ПЕТЕРБУРГ  ШКОЛЬНАЯ  77  NaN     NaN          NaN    NaN     \n91078  САНКТ-ПЕТЕРБУРГ  ШКОЛЬНАЯ  76  NaN     NaN          NaN    NaN     \n\n      муниципальный район набережная шоссе парк переулок площадь аллея       \\\n61150  NaN                 NaN        NaN   NaN  NaN      NaN     NaN   NaN   \n78451  NaN                 NaN        NaN   NaN  NaN      NaN     NaN   NaN   \n91078  NaN                 NaN        NaN   NaN  NaN      NaN     NaN   NaN   \n\n      линия автодорога микрорайон деревня проезд квартал бульвар станция  \\\n61150  NaN   NaN        NaN        NaN     NaN    NaN     NaN     NaN      \n78451  NaN   NaN        NaN        NaN     NaN    NaN     NaN     NaN      \n91078  NaN   NaN        NaN        NaN     NaN    NaN     NaN     NaN      \n\n      район территория муниципальный округ мост тупик область село  \\\n61150  NaN   NaN        NaN                 NaN  NaN   NaN     NaN   \n78451  NaN   NaN        NaN                 NaN  NaN   NaN     NaN   \n91078  NaN   NaN        NaN                 NaN  NaN   NaN     NaN   \n\n      поселок городского типа округ волость           ner_city   ner_street  \\\n61150  NaN                     NaN   NaN     г.Санкт-Петербург  Шуваловский   \n78451  NaN                     NaN   NaN     г.Санкт-Петербург  Школьная      \n91078  NaN                     NaN   NaN     г.Санкт-Петербург  Школьная      \n\n      ner_house ner_corpus ner_liter ner_district ner_area ner_subject  \n61150  61        NaN        NaN       Приморский   NaN      NaN         \n78451  77        NaN        NaN       Приморский   NaN      NaN         \n91078  76        NaN        NaN       Приморский   NaN      NaN         ",
      "text/html": "<div>\n<style scoped>\n    .dataframe tbody tr th:only-of-type {\n        vertical-align: middle;\n    }\n\n    .dataframe tbody tr th {\n        vertical-align: top;\n    }\n\n    .dataframe thead th {\n        text-align: right;\n    }\n</style>\n<table border=\"1\" class=\"dataframe\">\n  <thead>\n    <tr style=\"text-align: right;\">\n      <th></th>\n      <th>id_building</th>\n      <th>prefix_id_building</th>\n      <th>district_id_building</th>\n      <th>house_building</th>\n      <th>corpus_building</th>\n      <th>liter_building</th>\n      <th>villa_building</th>\n      <th>parcel_building</th>\n      <th>full_address_building</th>\n      <th>is_updated_building</th>\n      <th>is_actual_building</th>\n      <th>type_building</th>\n      <th>municipality_id_building</th>\n      <th>short_address_building</th>\n      <th>post_prefix_building</th>\n      <th>build_number_building</th>\n      <th>id_district</th>\n      <th>name_district</th>\n      <th>is_updated_district</th>\n      <th>is_actual_district</th>\n      <th>id_prefix</th>\n      <th>town_id_prefix</th>\n      <th>geonim_id_prefix</th>\n      <th>area_id_prefix</th>\n      <th>toponim_id_prefix</th>\n      <th>name_prefix</th>\n      <th>short_name_prefix</th>\n      <th>search_index_prefix</th>\n      <th>is_updated_prefix</th>\n      <th>is_actual_prefix</th>\n      <th>sub_rf_id_prefix</th>\n      <th>has_buildings_prefix</th>\n      <th>id_town</th>\n      <th>name_town</th>\n      <th>short_name_town</th>\n      <th>search_index_town</th>\n      <th>is_updated_town</th>\n      <th>is_actual_town</th>\n      <th>has_buildings_town</th>\n      <th>id_geonim</th>\n      <th>type_id_geonim</th>\n      <th>name_geonim</th>\n      <th>short_name_geonim</th>\n      <th>is_updated_geonim</th>\n      <th>is_actual_geonim</th>\n      <th>only_name_geonim</th>\n      <th>id_geonimtype</th>\n      <th>name_geonimtype</th>\n      <th>short_name_geonimtype</th>\n      <th>is_updated_geonimtype</th>\n      <th>is_actual_geonimtype</th>\n      <th>id_area</th>\n      <th>type_id_area</th>\n      <th>name_area</th>\n      <th>short_name_area</th>\n      <th>is_updated_area</th>\n      <th>is_actual_area</th>\n      <th>only_name_area</th>\n      <th>id_areatype</th>\n      <th>name_areatype</th>\n      <th>short_name_areatype</th>\n      <th>is_updated_areatype</th>\n      <th>is_actual_areatype</th>\n      <th>name_district_full</th>\n      <th>all_in_field</th>\n      <th>город</th>\n      <th>улица</th>\n      <th>дом</th>\n      <th>поселок</th>\n      <th>проспект</th>\n      <th>корпус</th>\n      <th>Литера</th>\n      <th>муниципальный район</th>\n      <th>набережная</th>\n      <th>шоссе</th>\n      <th>парк</th>\n      <th>переулок</th>\n      <th>площадь</th>\n      <th>аллея</th>\n      <th></th>\n      <th>линия</th>\n      <th>автодорога</th>\n      <th>микрорайон</th>\n      <th>деревня</th>\n      <th>проезд</th>\n      <th>квартал</th>\n      <th>бульвар</th>\n      <th>станция</th>\n      <th>район</th>\n      <th>территория</th>\n      <th>муниципальный округ</th>\n      <th>мост</th>\n      <th>тупик</th>\n      <th>область</th>\n      <th>село</th>\n      <th>поселок городского типа</th>\n      <th>округ</th>\n      <th>волость</th>\n      <th>ner_city</th>\n      <th>ner_street</th>\n      <th>ner_house</th>\n      <th>ner_corpus</th>\n      <th>ner_liter</th>\n      <th>ner_district</th>\n      <th>ner_area</th>\n      <th>ner_subject</th>\n    </tr>\n  </thead>\n  <tbody>\n    <tr>\n      <th>61150</th>\n      <td>57875</td>\n      <td>15941</td>\n      <td>34</td>\n      <td>61</td>\n      <td>NaN</td>\n      <td>NaN</td>\n      <td>NaN</td>\n      <td>NaN</td>\n      <td>г.Санкт-Петербург, Шуваловский проспект, дом 61</td>\n      <td>True</td>\n      <td>True</td>\n      <td>Жилое</td>\n      <td>69.0</td>\n      <td>г.Санкт-Петербург, Шуваловский пр., д. 61</td>\n      <td>NaN</td>\n      <td>NaN</td>\n      <td>34</td>\n      <td>Приморский</td>\n      <td>True</td>\n      <td>True</td>\n      <td>15941</td>\n      <td>36.0</td>\n      <td>763.0</td>\n      <td>NaN</td>\n      <td>NaN</td>\n      <td>г.Санкт-Петербург, Шуваловский проспект</td>\n      <td>г.Санкт-Петербург, Шуваловский пр.</td>\n      <td>'г':1,7 'петербург':4,10 'проспект':6,12 'санкт':3,9 'санкт-петербург':2,8 'шуваловск':11 'шуваловский':5</td>\n      <td>True</td>\n      <td>True</td>\n      <td>15.0</td>\n      <td>True</td>\n      <td>36.0</td>\n      <td>г.Санкт-Петербург</td>\n      <td>г.Санкт-Петербург</td>\n      <td>'г':1,5 'петербург':4,8 'санкт':3,7 'санкт-петербург':2,6</td>\n      <td>True</td>\n      <td>True</td>\n      <td>True</td>\n      <td>763.0</td>\n      <td>10.0</td>\n      <td>Шуваловский проспект</td>\n      <td>Шуваловский пр.</td>\n      <td>True</td>\n      <td>True</td>\n      <td>Шуваловский</td>\n      <td>10.0</td>\n      <td>проспект</td>\n      <td>пр.</td>\n      <td>True</td>\n      <td>True</td>\n      <td>NaN</td>\n      <td>NaN</td>\n      <td>NaN</td>\n      <td>NaN</td>\n      <td>NaN</td>\n      <td>NaN</td>\n      <td>NaN</td>\n      <td>NaN</td>\n      <td>NaN</td>\n      <td>NaN</td>\n      <td>NaN</td>\n      <td>NaN</td>\n      <td>Приморский район</td>\n      <td>г.Санкт-Петербург, Шуваловский проспект, дом 61, Жилое, Приморский район</td>\n      <td>САНКТ-ПЕТЕРБУРГ</td>\n      <td>NaN</td>\n      <td>61</td>\n      <td>NaN</td>\n      <td>ШУВАЛОВСКИЙ</td>\n      <td>NaN</td>\n      <td>NaN</td>\n      <td>NaN</td>\n      <td>NaN</td>\n      <td>NaN</td>\n      <td>NaN</td>\n      <td>NaN</td>\n      <td>NaN</td>\n      <td>NaN</td>\n      <td>NaN</td>\n      <td>NaN</td>\n      <td>NaN</td>\n      <td>NaN</td>\n      <td>NaN</td>\n      <td>NaN</td>\n      <td>NaN</td>\n      <td>NaN</td>\n      <td>NaN</td>\n      <td>NaN</td>\n      <td>NaN</td>\n      <td>NaN</td>\n      <td>NaN</td>\n      <td>NaN</td>\n      <td>NaN</td>\n      <td>NaN</td>\n      <td>NaN</td>\n      <td>NaN</td>\n      <td>NaN</td>\n      <td>г.Санкт-Петербург</td>\n      <td>Шуваловский</td>\n      <td>61</td>\n      <td>NaN</td>\n      <td>NaN</td>\n      <td>Приморский</td>\n      <td>NaN</td>\n      <td>NaN</td>\n    </tr>\n    <tr>\n      <th>78451</th>\n      <td>76055</td>\n      <td>7907</td>\n      <td>34</td>\n      <td>77</td>\n      <td>NaN</td>\n      <td>NaN</td>\n      <td>NaN</td>\n      <td>NaN</td>\n      <td>г.Санкт-Петербург, Школьная улица, дом 77</td>\n      <td>True</td>\n      <td>True</td>\n      <td>Неизвестно</td>\n      <td>65.0</td>\n      <td>г.Санкт-Петербург, Школьная ул., д. 77</td>\n      <td>197187.0</td>\n      <td>NaN</td>\n      <td>34</td>\n      <td>Приморский</td>\n      <td>True</td>\n      <td>True</td>\n      <td>7907</td>\n      <td>36.0</td>\n      <td>1319.0</td>\n      <td>NaN</td>\n      <td>NaN</td>\n      <td>г.Санкт-Петербург, Школьная улица</td>\n      <td>г.Санкт-Петербург, Школьная ул.</td>\n      <td>'г':1,7 'петербург':4,10 'санкт':3,9 'санкт-петербург':2,8 'улиц':12 'улица':6 'школьн':11 'школьная':5</td>\n      <td>True</td>\n      <td>True</td>\n      <td>15.0</td>\n      <td>True</td>\n      <td>36.0</td>\n      <td>г.Санкт-Петербург</td>\n      <td>г.Санкт-Петербург</td>\n      <td>'г':1,5 'петербург':4,8 'санкт':3,7 'санкт-петербург':2,6</td>\n      <td>True</td>\n      <td>True</td>\n      <td>True</td>\n      <td>1319.0</td>\n      <td>12.0</td>\n      <td>Школьная улица</td>\n      <td>Школьная ул.</td>\n      <td>True</td>\n      <td>True</td>\n      <td>Школьная</td>\n      <td>12.0</td>\n      <td>улица</td>\n      <td>ул.</td>\n      <td>True</td>\n      <td>True</td>\n      <td>NaN</td>\n      <td>NaN</td>\n      <td>NaN</td>\n      <td>NaN</td>\n      <td>NaN</td>\n      <td>NaN</td>\n      <td>NaN</td>\n      <td>NaN</td>\n      <td>NaN</td>\n      <td>NaN</td>\n      <td>NaN</td>\n      <td>NaN</td>\n      <td>Приморский район</td>\n      <td>г.Санкт-Петербург, Школьная улица, дом 77, Неизвестно, Приморский район</td>\n      <td>САНКТ-ПЕТЕРБУРГ</td>\n      <td>ШКОЛЬНАЯ</td>\n      <td>77</td>\n      <td>NaN</td>\n      <td>NaN</td>\n      <td>NaN</td>\n      <td>NaN</td>\n      <td>NaN</td>\n      <td>NaN</td>\n      <td>NaN</td>\n      <td>NaN</td>\n      <td>NaN</td>\n      <td>NaN</td>\n      <td>NaN</td>\n      <td>NaN</td>\n      <td>NaN</td>\n      <td>NaN</td>\n      <td>NaN</td>\n      <td>NaN</td>\n      <td>NaN</td>\n      <td>NaN</td>\n      <td>NaN</td>\n      <td>NaN</td>\n      <td>NaN</td>\n      <td>NaN</td>\n      <td>NaN</td>\n      <td>NaN</td>\n      <td>NaN</td>\n      <td>NaN</td>\n      <td>NaN</td>\n      <td>NaN</td>\n      <td>NaN</td>\n      <td>NaN</td>\n      <td>г.Санкт-Петербург</td>\n      <td>Школьная</td>\n      <td>77</td>\n      <td>NaN</td>\n      <td>NaN</td>\n      <td>Приморский</td>\n      <td>NaN</td>\n      <td>NaN</td>\n    </tr>\n    <tr>\n      <th>91078</th>\n      <td>89171</td>\n      <td>7907</td>\n      <td>34</td>\n      <td>76</td>\n      <td>NaN</td>\n      <td>NaN</td>\n      <td>NaN</td>\n      <td>NaN</td>\n      <td>г.Санкт-Петербург, Школьная улица, дом 76</td>\n      <td>True</td>\n      <td>True</td>\n      <td>Неизвестно</td>\n      <td>66.0</td>\n      <td>г.Санкт-Петербург, Школьная ул., д. 76</td>\n      <td>197183.0</td>\n      <td>NaN</td>\n      <td>34</td>\n      <td>Приморский</td>\n      <td>True</td>\n      <td>True</td>\n      <td>7907</td>\n      <td>36.0</td>\n      <td>1319.0</td>\n      <td>NaN</td>\n      <td>NaN</td>\n      <td>г.Санкт-Петербург, Школьная улица</td>\n      <td>г.Санкт-Петербург, Школьная ул.</td>\n      <td>'г':1,7 'петербург':4,10 'санкт':3,9 'санкт-петербург':2,8 'улиц':12 'улица':6 'школьн':11 'школьная':5</td>\n      <td>True</td>\n      <td>True</td>\n      <td>15.0</td>\n      <td>True</td>\n      <td>36.0</td>\n      <td>г.Санкт-Петербург</td>\n      <td>г.Санкт-Петербург</td>\n      <td>'г':1,5 'петербург':4,8 'санкт':3,7 'санкт-петербург':2,6</td>\n      <td>True</td>\n      <td>True</td>\n      <td>True</td>\n      <td>1319.0</td>\n      <td>12.0</td>\n      <td>Школьная улица</td>\n      <td>Школьная ул.</td>\n      <td>True</td>\n      <td>True</td>\n      <td>Школьная</td>\n      <td>12.0</td>\n      <td>улица</td>\n      <td>ул.</td>\n      <td>True</td>\n      <td>True</td>\n      <td>NaN</td>\n      <td>NaN</td>\n      <td>NaN</td>\n      <td>NaN</td>\n      <td>NaN</td>\n      <td>NaN</td>\n      <td>NaN</td>\n      <td>NaN</td>\n      <td>NaN</td>\n      <td>NaN</td>\n      <td>NaN</td>\n      <td>NaN</td>\n      <td>Приморский район</td>\n      <td>г.Санкт-Петербург, Школьная улица, дом 76, Неизвестно, Приморский район</td>\n      <td>САНКТ-ПЕТЕРБУРГ</td>\n      <td>ШКОЛЬНАЯ</td>\n      <td>76</td>\n      <td>NaN</td>\n      <td>NaN</td>\n      <td>NaN</td>\n      <td>NaN</td>\n      <td>NaN</td>\n      <td>NaN</td>\n      <td>NaN</td>\n      <td>NaN</td>\n      <td>NaN</td>\n      <td>NaN</td>\n      <td>NaN</td>\n      <td>NaN</td>\n      <td>NaN</td>\n      <td>NaN</td>\n      <td>NaN</td>\n      <td>NaN</td>\n      <td>NaN</td>\n      <td>NaN</td>\n      <td>NaN</td>\n      <td>NaN</td>\n      <td>NaN</td>\n      <td>NaN</td>\n      <td>NaN</td>\n      <td>NaN</td>\n      <td>NaN</td>\n      <td>NaN</td>\n      <td>NaN</td>\n      <td>NaN</td>\n      <td>NaN</td>\n      <td>NaN</td>\n      <td>г.Санкт-Петербург</td>\n      <td>Школьная</td>\n      <td>76</td>\n      <td>NaN</td>\n      <td>NaN</td>\n      <td>Приморский</td>\n      <td>NaN</td>\n      <td>NaN</td>\n    </tr>\n  </tbody>\n</table>\n</div>"
     },
     "execution_count": 262,
     "metadata": {},
     "output_type": "execute_result"
    }
   ],
   "source": [
    "train.loc[list(bin[0])]"
   ],
   "metadata": {
    "collapsed": false
   },
   "id": "23401c0ba7b9ea31"
  },
  {
   "cell_type": "code",
   "execution_count": 170,
   "outputs": [
    {
     "data": {
      "text/plain": "                                                                          address  \\\n0     196641, Санкт-Петербург г, Школьная ул, д.5                                   \n1     Санкт-Петербург (г.), Железнодорожный (пр-кт.), д.14 2 1                      \n2     198325, Санкт-Петербург г, Красное Село г, Театральная (Дудергоф) ул, д.9     \n3     195256, Санкт-Петербург (г.), Верности (ул.), д.28, Строение 2                \n4     194291, Санкт-Петербург (г.), Кустодиева (ул.), д.1, Строение А               \n...                                                               ...               \n1133  195197, Санкт-Петербург (г.), Федосеенко (ул.), д.37, Строение А              \n1134  193232, Санкт-Петербург г, Большевиков пр-кт, д.37, Строение 2                \n1135  192281, Санкт-Петербург г, Купчинская ул, д.14, Строение 2                    \n1136  196607, Санкт-Петербург г, Пушкин г, Ленинградская ул, д.17                   \n1137  191119, Санкт-Петербург (г.), Санкт-Петербург г, Обводного канала наб, д.65   \n\n      target_building_id  \\\n0     76337                \n1     220011               \n2     109979               \n3     72112                \n4     186531               \n...      ...               \n1133  30906                \n1134  51342                \n1135  33897                \n1136  40952                \n1137  60320                \n\n                                                                         target_address  \n0     Санкт-Петербург, город Павловск, Пязелево, Школьная улица, дом 5, литера А         \n1     г.Санкт-Петербург, Железнодорожный проспект, дом 14, корпус 2, строение 1          \n2     Санкт-Петербург, город Красное Село, Дудергоф, Театральная улица, дом 9, литера А  \n3     г.Санкт-Петербург, улица Верности, дом 28, корпус 2, литера А                      \n4     г.Санкт-Петербург, улица Кустодиева, дом 1, литера А                               \n...                                                    ...                               \n1133  г.Санкт-Петербург, улица Федосеенко, дом 37, литера А                              \n1134  г.Санкт-Петербург, проспект Большевиков, дом 37, корпус 2, литера З                \n1135  г.Санкт-Петербург, Купчинская улица, дом 14, корпус 2, литера А                    \n1136  Санкт-Петербург, город Пушкин, Ленинградская улица, дом 17, литера А               \n1137  г.Санкт-Петербург, набережная Обводного канала, дом 65, литера А                   \n\n[1138 rows x 3 columns]",
      "text/html": "<div>\n<style scoped>\n    .dataframe tbody tr th:only-of-type {\n        vertical-align: middle;\n    }\n\n    .dataframe tbody tr th {\n        vertical-align: top;\n    }\n\n    .dataframe thead th {\n        text-align: right;\n    }\n</style>\n<table border=\"1\" class=\"dataframe\">\n  <thead>\n    <tr style=\"text-align: right;\">\n      <th></th>\n      <th>address</th>\n      <th>target_building_id</th>\n      <th>target_address</th>\n    </tr>\n  </thead>\n  <tbody>\n    <tr>\n      <th>0</th>\n      <td>196641, Санкт-Петербург г, Школьная ул, д.5</td>\n      <td>76337</td>\n      <td>Санкт-Петербург, город Павловск, Пязелево, Школьная улица, дом 5, литера А</td>\n    </tr>\n    <tr>\n      <th>1</th>\n      <td>Санкт-Петербург (г.), Железнодорожный (пр-кт.), д.14 2 1</td>\n      <td>220011</td>\n      <td>г.Санкт-Петербург, Железнодорожный проспект, дом 14, корпус 2, строение 1</td>\n    </tr>\n    <tr>\n      <th>2</th>\n      <td>198325, Санкт-Петербург г, Красное Село г, Театральная (Дудергоф) ул, д.9</td>\n      <td>109979</td>\n      <td>Санкт-Петербург, город Красное Село, Дудергоф, Театральная улица, дом 9, литера А</td>\n    </tr>\n    <tr>\n      <th>3</th>\n      <td>195256, Санкт-Петербург (г.), Верности (ул.), д.28, Строение 2</td>\n      <td>72112</td>\n      <td>г.Санкт-Петербург, улица Верности, дом 28, корпус 2, литера А</td>\n    </tr>\n    <tr>\n      <th>4</th>\n      <td>194291, Санкт-Петербург (г.), Кустодиева (ул.), д.1, Строение А</td>\n      <td>186531</td>\n      <td>г.Санкт-Петербург, улица Кустодиева, дом 1, литера А</td>\n    </tr>\n    <tr>\n      <th>...</th>\n      <td>...</td>\n      <td>...</td>\n      <td>...</td>\n    </tr>\n    <tr>\n      <th>1133</th>\n      <td>195197, Санкт-Петербург (г.), Федосеенко (ул.), д.37, Строение А</td>\n      <td>30906</td>\n      <td>г.Санкт-Петербург, улица Федосеенко, дом 37, литера А</td>\n    </tr>\n    <tr>\n      <th>1134</th>\n      <td>193232, Санкт-Петербург г, Большевиков пр-кт, д.37, Строение 2</td>\n      <td>51342</td>\n      <td>г.Санкт-Петербург, проспект Большевиков, дом 37, корпус 2, литера З</td>\n    </tr>\n    <tr>\n      <th>1135</th>\n      <td>192281, Санкт-Петербург г, Купчинская ул, д.14, Строение 2</td>\n      <td>33897</td>\n      <td>г.Санкт-Петербург, Купчинская улица, дом 14, корпус 2, литера А</td>\n    </tr>\n    <tr>\n      <th>1136</th>\n      <td>196607, Санкт-Петербург г, Пушкин г, Ленинградская ул, д.17</td>\n      <td>40952</td>\n      <td>Санкт-Петербург, город Пушкин, Ленинградская улица, дом 17, литера А</td>\n    </tr>\n    <tr>\n      <th>1137</th>\n      <td>191119, Санкт-Петербург (г.), Санкт-Петербург г, Обводного канала наб, д.65</td>\n      <td>60320</td>\n      <td>г.Санкт-Петербург, набережная Обводного канала, дом 65, литера А</td>\n    </tr>\n  </tbody>\n</table>\n<p>1138 rows × 3 columns</p>\n</div>"
     },
     "execution_count": 170,
     "metadata": {},
     "output_type": "execute_result"
    }
   ],
   "source": [
    "cb_test = (\n",
    "    pd.read_csv(\"../data/raw/datasets/dataset_1.csv\")\n",
    "    .drop(columns=['Unnamed: 0'])\n",
    "    .dropna()\n",
    "    .reset_index(drop=True)\n",
    "    .astype({'target_building_id': 'int'})\n",
    ")\n",
    "cb_test"
   ],
   "metadata": {
    "collapsed": false,
    "ExecuteTime": {
     "end_time": "2023-08-26T21:22:26.310562Z",
     "start_time": "2023-08-26T21:22:26.300145Z"
    }
   },
   "id": "b9fa5027028830c5"
  },
  {
   "cell_type": "code",
   "execution_count": 267,
   "outputs": [
    {
     "data": {
      "text/plain": "   id_building  \\\n0   89171        \n1   57875        \n2   76055        \n3   107383       \n4   220198       \n5   220011       \n6   210842       \n7   135512       \n8   135527       \n9   214220       \n10  221346       \n11  224280       \n12  135172       \n13  220346       \n14  221678       \n15  219242       \n16  221619       \n17  211920       \n18  211909       \n19  211919       \n20  214728       \n21  89248        \n22  213396       \n23  57390        \n24  16771        \n25  114073       \n26  43870        \n27  19817        \n28  133801       \n\n                                                                                                         address  \\\n0   г.Санкт-Петербург, Школьная улица, дом 76                                                                      \n1   г.Санкт-Петербург, Шуваловский проспект, дом 61                                                                \n2   г.Санкт-Петербург, Школьная улица, дом 77                                                                      \n3   г.Санкт-Петербург, Кузнечный переулок, дом 14б, литера Ж                                                       \n4   г.Санкт-Петербург, Железнодорожный проспект, дом 14, корпус 1, строение 1                                      \n5   г.Санкт-Петербург, Железнодорожный проспект, дом 14, корпус 2, строение 1                                      \n6   г.Санкт-Петербург, Афанасьевская улица, дом 21, корпус 5, строение 8                                           \n7   г.Санкт-Петербург, Софийская улица, дом 79, корпус 2, литера Г5                                                \n8   г.Санкт-Петербург, Софийская улица, дом 81, корпус 4, литера Г5                                                \n9   г.Санкт-Петербург, Богатырский проспект, дом 54/32, строение 2                                                 \n10  г.Санкт-Петербург, улица Пилотов, дом 56, строение 2                                                           \n11  г.Санкт-Петербург, Первомайский проспект, дом 57, строение 2                                                   \n12  г.Санкт-Петербург, улица Руднева, дом 9, корпус 1, Выборгский район                                            \n13  г.Санкт-Петербург, Планерная улица, дом 91, корпус 1, строение 1                                               \n14  г.Санкт-Петербург, проспект Стачек, дом 47, строение 87                                                        \n15  г.Санкт-Петербург, проспект Королёва, дом 70, строение 1, Приморский район                                     \n16  г.Санкт-Петербург, проспект Стачек, дом 47, строение 91                                                        \n17  г.Санкт-Петербург, проспект Энергетиков, дом 11, корпус 2, строение 1                                          \n18  г.Санкт-Петербург, проспект Энергетиков, дом 9, корпус 8, строение 1                                           \n19  г.Санкт-Петербург, проспект Энергетиков, дом 9, корпус 2, строение 1                                           \n20  г.Санкт-Петербург, Кубинская улица, дом 71, корпус 4, строение 1                                               \n21  г.Санкт-Петербург, Планерная улица, дом 73, корпус 4                                                           \n22  г.Санкт-Петербург, Кубинская улица, дом 73, корпус 2, строение 4                                               \n23  г.Санкт-Петербург, набережная Обводного канала, дом 203, литера А, Многоквартирный дом, Адмиралтейский район   \n24  г.Санкт-Петербург, Октябрьская набережная, дом 106, корпус 2, литера А                                         \n25  г.Санкт-Петербург, набережная канала Грибоедова, дом 106, литера А                                             \n26  г.Санкт-Петербург, проспект Металлистов, дом 61, корпус 2, литера А                                            \n27  г.Санкт-Петербург, проспект Энергетиков, дом 61, корпус 2                                                      \n28  г.Санкт-Петербург, проспект Металлистов, дом 61, корпус 1                                                      \n\n      scores  lev_distance  score_ner_city  score_ner_street  score_ner_house  \\\n0   0.816349  18.0          0.918204        0.764108          0.478460          \n1   0.820311  32.0          0.918204        1.000000          0.483058          \n2   0.831581  18.0          0.918204        1.000000          0.532030          \n3   0.903604  33.0          0.918204        0.509945          0.446655          \n4   0.911595  32.0          0.918204        0.487437          0.582745          \n5   0.917191  31.0          0.918204        0.487437          0.582745          \n6   0.868495  53.0          0.918204        0.584699          0.294820          \n7   0.869863  50.0          0.918204        0.584699          0.502145          \n8   0.871385  50.0          0.918204        0.567020          0.514397          \n9   0.867504  36.0          0.918204        0.634248          0.339381          \n10  0.870828  29.0          0.918204        0.592910          0.545610          \n11  0.873915  32.0          0.918204        0.542137          0.454639          \n12  0.862802  45.0          0.918204        0.449290          0.709399          \n13  0.862997  39.0          0.918204        0.622798          0.405515          \n14  0.855679  28.0          0.918204        0.587132          0.470733          \n15  0.856432  47.0          0.918204        0.582524          0.504227          \n16  0.855770  29.0          0.918204        0.582524          0.504227          \n17  0.870162  40.0          0.918204        0.583932          0.709399          \n18  0.870874  39.0          0.918204        0.583932          0.709399          \n19  0.874369  39.0          0.918204        0.583932          0.671541          \n20  0.839507  37.0          0.918204        0.542526          0.382560          \n21  0.848388  34.0          0.918204        0.542526          0.448478          \n22  0.853057  38.0          0.918204        0.622798          0.382560          \n23  0.872172  76.0          0.918204        0.589418          0.422893          \n24  0.872185  54.0          0.918204        0.518572          0.335307          \n25  0.883514  52.0          0.918204        0.572054          0.422893          \n26  0.864446  40.0          0.918204        0.542992          0.478460          \n27  0.870962  40.0          0.918204        0.583932          0.478460          \n28  0.865762  36.0          0.918204        0.542992          0.478460          \n\n                                                                            original_query  \\\n0   196641, Санкт-Петербург г, Школьная ул, д.5                                              \n1   196641, Санкт-Петербург г, Школьная ул, д.5                                              \n2   196641, Санкт-Петербург г, Школьная ул, д.5                                              \n3   Санкт-Петербург г., Железнодорожный пр-кт., д.14 2 1                                     \n4   Санкт-Петербург г., Железнодорожный пр-кт., д.14 2 1                                     \n5   Санкт-Петербург г., Железнодорожный пр-кт., д.14 2 1                                     \n6   198325, Санкт-Петербург г, Красное Село г, Театральная Дудергоф ул, д.9                  \n7   198325, Санкт-Петербург г, Красное Село г, Театральная Дудергоф ул, д.9                  \n8   198325, Санкт-Петербург г, Красное Село г, Театральная Дудергоф ул, д.9                  \n9   195256, Санкт-Петербург г., Верности ул., д.28, Строение 2                               \n10  195256, Санкт-Петербург г., Верности ул., д.28, Строение 2                               \n11  195256, Санкт-Петербург г., Верности ул., д.28, Строение 2                               \n12  194291, Санкт-Петербург г., Кустодиева ул., д.1, Строение А                              \n13  194291, Санкт-Петербург г., Кустодиева ул., д.1, Строение А                              \n14  198096, Санкт-Петербург г, Стачек пр-кт, д.67, Строение 7                                \n15  198096, Санкт-Петербург г, Стачек пр-кт, д.67, Строение 7                                \n16  198096, Санкт-Петербург г, Стачек пр-кт, д.67, Строение 7                                \n17  195298, Санкт-Петербург г, Наставников пр-кт, д.9, Строение 2                            \n18  195298, Санкт-Петербург г, Наставников пр-кт, д.9, Строение 2                            \n19  195298, Санкт-Петербург г, Наставников пр-кт, д.9, Строение 2                            \n20  197374, Санкт-Петербург г, Савушкина ул, д.115, Строение 2                               \n21  197374, Санкт-Петербург г, Савушкина ул, д.115, Строение 2                               \n22  197374, Санкт-Петербург г, Савушкина ул, д.115, Строение 2                               \n23  190121, Санкт-Петербург г., Санкт-Петербург г, наб Адмиралтейского канала, д.9, литера   \n24  190121, Санкт-Петербург г., Санкт-Петербург г, наб Адмиралтейского канала, д.9, литера   \n25  190121, Санкт-Петербург г., Санкт-Петербург г, наб Адмиралтейского канала, д.9, литера   \n26  195221, Санкт-Петербург г., Металлистов пр-кт., д.63, Строение 2                         \n27  195221, Санкт-Петербург г., Металлистов пр-кт., д.63, Строение 2                         \n28  195221, Санкт-Петербург г., Металлистов пр-кт., д.63, Строение 2                         \n\n    y_correct  \n0   False      \n1   False      \n2   False      \n3   False      \n4   False      \n5   True       \n6   False      \n7   False      \n8   False      \n9   False      \n10  False      \n11  False      \n12  False      \n13  False      \n14  False      \n15  False      \n16  False      \n17  False      \n18  False      \n19  False      \n20  False      \n21  False      \n22  False      \n23  False      \n24  False      \n25  False      \n26  False      \n27  False      \n28  False      ",
      "text/html": "<div>\n<style scoped>\n    .dataframe tbody tr th:only-of-type {\n        vertical-align: middle;\n    }\n\n    .dataframe tbody tr th {\n        vertical-align: top;\n    }\n\n    .dataframe thead th {\n        text-align: right;\n    }\n</style>\n<table border=\"1\" class=\"dataframe\">\n  <thead>\n    <tr style=\"text-align: right;\">\n      <th></th>\n      <th>id_building</th>\n      <th>address</th>\n      <th>scores</th>\n      <th>lev_distance</th>\n      <th>score_ner_city</th>\n      <th>score_ner_street</th>\n      <th>score_ner_house</th>\n      <th>original_query</th>\n      <th>y_correct</th>\n    </tr>\n  </thead>\n  <tbody>\n    <tr>\n      <th>0</th>\n      <td>89171</td>\n      <td>г.Санкт-Петербург, Школьная улица, дом 76</td>\n      <td>0.816349</td>\n      <td>18.0</td>\n      <td>0.918204</td>\n      <td>0.764108</td>\n      <td>0.478460</td>\n      <td>196641, Санкт-Петербург г, Школьная ул, д.5</td>\n      <td>False</td>\n    </tr>\n    <tr>\n      <th>1</th>\n      <td>57875</td>\n      <td>г.Санкт-Петербург, Шуваловский проспект, дом 61</td>\n      <td>0.820311</td>\n      <td>32.0</td>\n      <td>0.918204</td>\n      <td>1.000000</td>\n      <td>0.483058</td>\n      <td>196641, Санкт-Петербург г, Школьная ул, д.5</td>\n      <td>False</td>\n    </tr>\n    <tr>\n      <th>2</th>\n      <td>76055</td>\n      <td>г.Санкт-Петербург, Школьная улица, дом 77</td>\n      <td>0.831581</td>\n      <td>18.0</td>\n      <td>0.918204</td>\n      <td>1.000000</td>\n      <td>0.532030</td>\n      <td>196641, Санкт-Петербург г, Школьная ул, д.5</td>\n      <td>False</td>\n    </tr>\n    <tr>\n      <th>3</th>\n      <td>107383</td>\n      <td>г.Санкт-Петербург, Кузнечный переулок, дом 14б, литера Ж</td>\n      <td>0.903604</td>\n      <td>33.0</td>\n      <td>0.918204</td>\n      <td>0.509945</td>\n      <td>0.446655</td>\n      <td>Санкт-Петербург г., Железнодорожный пр-кт., д.14 2 1</td>\n      <td>False</td>\n    </tr>\n    <tr>\n      <th>4</th>\n      <td>220198</td>\n      <td>г.Санкт-Петербург, Железнодорожный проспект, дом 14, корпус 1, строение 1</td>\n      <td>0.911595</td>\n      <td>32.0</td>\n      <td>0.918204</td>\n      <td>0.487437</td>\n      <td>0.582745</td>\n      <td>Санкт-Петербург г., Железнодорожный пр-кт., д.14 2 1</td>\n      <td>False</td>\n    </tr>\n    <tr>\n      <th>5</th>\n      <td>220011</td>\n      <td>г.Санкт-Петербург, Железнодорожный проспект, дом 14, корпус 2, строение 1</td>\n      <td>0.917191</td>\n      <td>31.0</td>\n      <td>0.918204</td>\n      <td>0.487437</td>\n      <td>0.582745</td>\n      <td>Санкт-Петербург г., Железнодорожный пр-кт., д.14 2 1</td>\n      <td>True</td>\n    </tr>\n    <tr>\n      <th>6</th>\n      <td>210842</td>\n      <td>г.Санкт-Петербург, Афанасьевская улица, дом 21, корпус 5, строение 8</td>\n      <td>0.868495</td>\n      <td>53.0</td>\n      <td>0.918204</td>\n      <td>0.584699</td>\n      <td>0.294820</td>\n      <td>198325, Санкт-Петербург г, Красное Село г, Театральная Дудергоф ул, д.9</td>\n      <td>False</td>\n    </tr>\n    <tr>\n      <th>7</th>\n      <td>135512</td>\n      <td>г.Санкт-Петербург, Софийская улица, дом 79, корпус 2, литера Г5</td>\n      <td>0.869863</td>\n      <td>50.0</td>\n      <td>0.918204</td>\n      <td>0.584699</td>\n      <td>0.502145</td>\n      <td>198325, Санкт-Петербург г, Красное Село г, Театральная Дудергоф ул, д.9</td>\n      <td>False</td>\n    </tr>\n    <tr>\n      <th>8</th>\n      <td>135527</td>\n      <td>г.Санкт-Петербург, Софийская улица, дом 81, корпус 4, литера Г5</td>\n      <td>0.871385</td>\n      <td>50.0</td>\n      <td>0.918204</td>\n      <td>0.567020</td>\n      <td>0.514397</td>\n      <td>198325, Санкт-Петербург г, Красное Село г, Театральная Дудергоф ул, д.9</td>\n      <td>False</td>\n    </tr>\n    <tr>\n      <th>9</th>\n      <td>214220</td>\n      <td>г.Санкт-Петербург, Богатырский проспект, дом 54/32, строение 2</td>\n      <td>0.867504</td>\n      <td>36.0</td>\n      <td>0.918204</td>\n      <td>0.634248</td>\n      <td>0.339381</td>\n      <td>195256, Санкт-Петербург г., Верности ул., д.28, Строение 2</td>\n      <td>False</td>\n    </tr>\n    <tr>\n      <th>10</th>\n      <td>221346</td>\n      <td>г.Санкт-Петербург, улица Пилотов, дом 56, строение 2</td>\n      <td>0.870828</td>\n      <td>29.0</td>\n      <td>0.918204</td>\n      <td>0.592910</td>\n      <td>0.545610</td>\n      <td>195256, Санкт-Петербург г., Верности ул., д.28, Строение 2</td>\n      <td>False</td>\n    </tr>\n    <tr>\n      <th>11</th>\n      <td>224280</td>\n      <td>г.Санкт-Петербург, Первомайский проспект, дом 57, строение 2</td>\n      <td>0.873915</td>\n      <td>32.0</td>\n      <td>0.918204</td>\n      <td>0.542137</td>\n      <td>0.454639</td>\n      <td>195256, Санкт-Петербург г., Верности ул., д.28, Строение 2</td>\n      <td>False</td>\n    </tr>\n    <tr>\n      <th>12</th>\n      <td>135172</td>\n      <td>г.Санкт-Петербург, улица Руднева, дом 9, корпус 1, Выборгский район</td>\n      <td>0.862802</td>\n      <td>45.0</td>\n      <td>0.918204</td>\n      <td>0.449290</td>\n      <td>0.709399</td>\n      <td>194291, Санкт-Петербург г., Кустодиева ул., д.1, Строение А</td>\n      <td>False</td>\n    </tr>\n    <tr>\n      <th>13</th>\n      <td>220346</td>\n      <td>г.Санкт-Петербург, Планерная улица, дом 91, корпус 1, строение 1</td>\n      <td>0.862997</td>\n      <td>39.0</td>\n      <td>0.918204</td>\n      <td>0.622798</td>\n      <td>0.405515</td>\n      <td>194291, Санкт-Петербург г., Кустодиева ул., д.1, Строение А</td>\n      <td>False</td>\n    </tr>\n    <tr>\n      <th>14</th>\n      <td>221678</td>\n      <td>г.Санкт-Петербург, проспект Стачек, дом 47, строение 87</td>\n      <td>0.855679</td>\n      <td>28.0</td>\n      <td>0.918204</td>\n      <td>0.587132</td>\n      <td>0.470733</td>\n      <td>198096, Санкт-Петербург г, Стачек пр-кт, д.67, Строение 7</td>\n      <td>False</td>\n    </tr>\n    <tr>\n      <th>15</th>\n      <td>219242</td>\n      <td>г.Санкт-Петербург, проспект Королёва, дом 70, строение 1, Приморский район</td>\n      <td>0.856432</td>\n      <td>47.0</td>\n      <td>0.918204</td>\n      <td>0.582524</td>\n      <td>0.504227</td>\n      <td>198096, Санкт-Петербург г, Стачек пр-кт, д.67, Строение 7</td>\n      <td>False</td>\n    </tr>\n    <tr>\n      <th>16</th>\n      <td>221619</td>\n      <td>г.Санкт-Петербург, проспект Стачек, дом 47, строение 91</td>\n      <td>0.855770</td>\n      <td>29.0</td>\n      <td>0.918204</td>\n      <td>0.582524</td>\n      <td>0.504227</td>\n      <td>198096, Санкт-Петербург г, Стачек пр-кт, д.67, Строение 7</td>\n      <td>False</td>\n    </tr>\n    <tr>\n      <th>17</th>\n      <td>211920</td>\n      <td>г.Санкт-Петербург, проспект Энергетиков, дом 11, корпус 2, строение 1</td>\n      <td>0.870162</td>\n      <td>40.0</td>\n      <td>0.918204</td>\n      <td>0.583932</td>\n      <td>0.709399</td>\n      <td>195298, Санкт-Петербург г, Наставников пр-кт, д.9, Строение 2</td>\n      <td>False</td>\n    </tr>\n    <tr>\n      <th>18</th>\n      <td>211909</td>\n      <td>г.Санкт-Петербург, проспект Энергетиков, дом 9, корпус 8, строение 1</td>\n      <td>0.870874</td>\n      <td>39.0</td>\n      <td>0.918204</td>\n      <td>0.583932</td>\n      <td>0.709399</td>\n      <td>195298, Санкт-Петербург г, Наставников пр-кт, д.9, Строение 2</td>\n      <td>False</td>\n    </tr>\n    <tr>\n      <th>19</th>\n      <td>211919</td>\n      <td>г.Санкт-Петербург, проспект Энергетиков, дом 9, корпус 2, строение 1</td>\n      <td>0.874369</td>\n      <td>39.0</td>\n      <td>0.918204</td>\n      <td>0.583932</td>\n      <td>0.671541</td>\n      <td>195298, Санкт-Петербург г, Наставников пр-кт, д.9, Строение 2</td>\n      <td>False</td>\n    </tr>\n    <tr>\n      <th>20</th>\n      <td>214728</td>\n      <td>г.Санкт-Петербург, Кубинская улица, дом 71, корпус 4, строение 1</td>\n      <td>0.839507</td>\n      <td>37.0</td>\n      <td>0.918204</td>\n      <td>0.542526</td>\n      <td>0.382560</td>\n      <td>197374, Санкт-Петербург г, Савушкина ул, д.115, Строение 2</td>\n      <td>False</td>\n    </tr>\n    <tr>\n      <th>21</th>\n      <td>89248</td>\n      <td>г.Санкт-Петербург, Планерная улица, дом 73, корпус 4</td>\n      <td>0.848388</td>\n      <td>34.0</td>\n      <td>0.918204</td>\n      <td>0.542526</td>\n      <td>0.448478</td>\n      <td>197374, Санкт-Петербург г, Савушкина ул, д.115, Строение 2</td>\n      <td>False</td>\n    </tr>\n    <tr>\n      <th>22</th>\n      <td>213396</td>\n      <td>г.Санкт-Петербург, Кубинская улица, дом 73, корпус 2, строение 4</td>\n      <td>0.853057</td>\n      <td>38.0</td>\n      <td>0.918204</td>\n      <td>0.622798</td>\n      <td>0.382560</td>\n      <td>197374, Санкт-Петербург г, Савушкина ул, д.115, Строение 2</td>\n      <td>False</td>\n    </tr>\n    <tr>\n      <th>23</th>\n      <td>57390</td>\n      <td>г.Санкт-Петербург, набережная Обводного канала, дом 203, литера А, Многоквартирный дом, Адмиралтейский район</td>\n      <td>0.872172</td>\n      <td>76.0</td>\n      <td>0.918204</td>\n      <td>0.589418</td>\n      <td>0.422893</td>\n      <td>190121, Санкт-Петербург г., Санкт-Петербург г, наб Адмиралтейского канала, д.9, литера</td>\n      <td>False</td>\n    </tr>\n    <tr>\n      <th>24</th>\n      <td>16771</td>\n      <td>г.Санкт-Петербург, Октябрьская набережная, дом 106, корпус 2, литера А</td>\n      <td>0.872185</td>\n      <td>54.0</td>\n      <td>0.918204</td>\n      <td>0.518572</td>\n      <td>0.335307</td>\n      <td>190121, Санкт-Петербург г., Санкт-Петербург г, наб Адмиралтейского канала, д.9, литера</td>\n      <td>False</td>\n    </tr>\n    <tr>\n      <th>25</th>\n      <td>114073</td>\n      <td>г.Санкт-Петербург, набережная канала Грибоедова, дом 106, литера А</td>\n      <td>0.883514</td>\n      <td>52.0</td>\n      <td>0.918204</td>\n      <td>0.572054</td>\n      <td>0.422893</td>\n      <td>190121, Санкт-Петербург г., Санкт-Петербург г, наб Адмиралтейского канала, д.9, литера</td>\n      <td>False</td>\n    </tr>\n    <tr>\n      <th>26</th>\n      <td>43870</td>\n      <td>г.Санкт-Петербург, проспект Металлистов, дом 61, корпус 2, литера А</td>\n      <td>0.864446</td>\n      <td>40.0</td>\n      <td>0.918204</td>\n      <td>0.542992</td>\n      <td>0.478460</td>\n      <td>195221, Санкт-Петербург г., Металлистов пр-кт., д.63, Строение 2</td>\n      <td>False</td>\n    </tr>\n    <tr>\n      <th>27</th>\n      <td>19817</td>\n      <td>г.Санкт-Петербург, проспект Энергетиков, дом 61, корпус 2</td>\n      <td>0.870962</td>\n      <td>40.0</td>\n      <td>0.918204</td>\n      <td>0.583932</td>\n      <td>0.478460</td>\n      <td>195221, Санкт-Петербург г., Металлистов пр-кт., д.63, Строение 2</td>\n      <td>False</td>\n    </tr>\n    <tr>\n      <th>28</th>\n      <td>133801</td>\n      <td>г.Санкт-Петербург, проспект Металлистов, дом 61, корпус 1</td>\n      <td>0.865762</td>\n      <td>36.0</td>\n      <td>0.918204</td>\n      <td>0.542992</td>\n      <td>0.478460</td>\n      <td>195221, Санкт-Петербург г., Металлистов пр-кт., д.63, Строение 2</td>\n      <td>False</td>\n    </tr>\n  </tbody>\n</table>\n</div>"
     },
     "execution_count": 267,
     "metadata": {},
     "output_type": "execute_result"
    }
   ],
   "source": [
    "def multiple_advanced_matching_scores(df, embeddings: np.array, sentences):\n",
    "    res = pd.DataFrame()\n",
    "    for index, row in df.iterrows():\n",
    "        # print(row)\n",
    "        i_address = row.address.replace('(', '').replace(')', '')\n",
    "        i_df = get_advanced_matching_scores(i_address, embeddings, sentences)\n",
    "        i_df.loc[:, 'y_correct'] = i_df.id_building == row.target_building_id\n",
    "        res = pd.concat([res, i_df])\n",
    "    return res.reset_index(drop=True)\n",
    "\n",
    "multiple_advanced_matching_scores(cb_test.iloc[:10], np.array(embeddings), for_embeddings)"
   ],
   "metadata": {
    "collapsed": false,
    "ExecuteTime": {
     "end_time": "2023-08-26T22:34:07.817713Z",
     "start_time": "2023-08-26T22:34:01.167510Z"
    }
   },
   "id": "d268366824d1a1b4"
  },
  {
   "cell_type": "code",
   "execution_count": null,
   "outputs": [],
   "source": [
    "QUERY = \"г.СПб,  корс 2, Грзовой пр.\"\n",
    "get_address_ner_objects(QUERY)"
   ],
   "metadata": {
    "collapsed": false,
    "is_executing": true
   },
   "id": "cc4a97c48544f573"
  },
  {
   "cell_type": "code",
   "execution_count": 212,
   "outputs": [
    {
     "data": {
      "text/plain": "{'город': 'САНКТ-ПЕТЕРБУРГ', 'улица': 'ШКОЛЬНАЯ', 'дом': '5'}"
     },
     "execution_count": 212,
     "metadata": {},
     "output_type": "execute_result"
    }
   ],
   "source": [
    "# QUERY = \"196641, Санкт-Петербург г, Школьная ул, д.5\"\n",
    "# get_address_ner_objects(QUERY)"
   ],
   "metadata": {
    "collapsed": false,
    "ExecuteTime": {
     "end_time": "2023-08-26T21:55:21.710101Z",
     "start_time": "2023-08-26T21:55:21.705031Z"
    }
   },
   "id": "180be47576b078db"
  },
  {
   "cell_type": "code",
   "execution_count": 174,
   "outputs": [],
   "source": [
    "# get_advanced_matching_scores(cb_test.iloc[0, 0], np.array(embeddings), for_embeddings)"
   ],
   "metadata": {
    "collapsed": false,
    "ExecuteTime": {
     "end_time": "2023-08-26T21:24:00.948446Z",
     "start_time": "2023-08-26T21:24:00.930437Z"
    }
   },
   "id": "b0a6977a5aa880ae"
  },
  {
   "cell_type": "code",
   "execution_count": 322,
   "outputs": [
    {
     "data": {
      "text/plain": "y_correct\n0    279\n1    5  \nName: scores, dtype: int64"
     },
     "metadata": {},
     "output_type": "display_data"
    }
   ],
   "source": [
    "from catboost import CatBoostClassifier, Pool, metrics\n",
    "from sklearn.model_selection import train_test_split\n",
    "# y- True / False (correct id or not)\n",
    "# x - scores <-> score_net_liter\n",
    "\n",
    "exp_ds = multiple_advanced_matching_scores(cb_test.iloc[:100], np.array(embeddings), for_embeddings).drop(columns=['address', 'id_building'])\n",
    "exp_ds['y_correct'] = exp_ds['y_correct'].astype(int)\n",
    "X = exp_ds.drop(columns=['y_correct'])\n",
    "Y = exp_ds['y_correct']\n",
    "\n",
    "display(exp_ds.groupby('y_correct').scores.count())\n",
    "\n",
    "X_train, X_test, y_train, y_test = train_test_split(X, Y, test_size=0.33, random_state=42, shuffle=True)\n",
    "X_test, X_valid, y_test, y_valid = train_test_split(X_test, y_test, test_size=0.33, random_state=42, shuffle=True)"
   ],
   "metadata": {
    "collapsed": false,
    "ExecuteTime": {
     "end_time": "2023-08-26T22:47:06.384323Z",
     "start_time": "2023-08-26T22:46:02.353570Z"
    }
   },
   "id": "d3895a30570f6a69"
  },
  {
   "cell_type": "code",
   "execution_count": 300,
   "outputs": [
    {
     "data": {
      "text/plain": "scores              float32\nlev_distance        float64\nscore_ner_city      float32\nscore_ner_street    float32\nscore_ner_house     float32\noriginal_query      object \ndtype: object"
     },
     "execution_count": 300,
     "metadata": {},
     "output_type": "execute_result"
    }
   ],
   "source": [
    "X_train.dtypes"
   ],
   "metadata": {
    "collapsed": false,
    "ExecuteTime": {
     "end_time": "2023-08-26T22:42:40.503627Z",
     "start_time": "2023-08-26T22:42:40.501316Z"
    }
   },
   "id": "8c35debd61d85b15"
  },
  {
   "cell_type": "code",
   "execution_count": 319,
   "outputs": [],
   "source": [
    "from sklearn.metrics import mean_squared_error, mean_absolute_percentage_error, classification_report\n",
    "\n",
    "\n",
    "def catboost_model_classifier(x_train, x_test, y_train, y_test):\n",
    "    # categorical_features_indices = np.where(x_train.dtypes != np.float)[0]\n",
    "    categorical_features_indices = np.where(x_train.dtypes == 'object')[\n",
    "        0]  # X_train.select_dtypes('category').columns.to_list()\n",
    "\n",
    "    cb_model = CatBoostClassifier(\n",
    "        # custom_loss=metrics.Accuracy(),\n",
    "        loss_function='Logloss',\n",
    "        random_seed=42,\n",
    "        logging_level='Silent',\n",
    "        # custom_metric=['CrossEntropy', 'MultiClass'],\n",
    "        max_depth=8,\n",
    "        iterations=200,\n",
    "        # scale_pos_weight=26\n",
    "        auto_class_weights='Balanced',\n",
    "        # eval_metric=[metrics.Precision(), metrics.Recall(), metrics.F1(), metrics.TotalF1(), metrics.Accuracy()]\n",
    "    )\n",
    "\n",
    "    cb_model.fit(\n",
    "        x_train, y_train,\n",
    "        eval_set=(x_test, y_test),\n",
    "        cat_features=categorical_features_indices,\n",
    "        plot=True\n",
    "    )\n",
    "\n",
    "    return cb_model"
   ],
   "metadata": {
    "collapsed": false,
    "ExecuteTime": {
     "end_time": "2023-08-26T22:45:32.616983Z",
     "start_time": "2023-08-26T22:45:32.608538Z"
    }
   },
   "id": "bf41c643e043586d"
  },
  {
   "cell_type": "code",
   "execution_count": 320,
   "outputs": [
    {
     "data": {
      "text/plain": "MetricVisualizer(layout=Layout(align_self='stretch', height='500px'))",
      "application/vnd.jupyter.widget-view+json": {
       "version_major": 2,
       "version_minor": 0,
       "model_id": "477ec3cb05264eab872ff1ca54e95b6f"
      }
     },
     "metadata": {},
     "output_type": "display_data"
    }
   ],
   "source": [
    "model = catboost_model_classifier(X_train, X_test, y_train, y_test)\n",
    "model.save_model('../models/CatBoostClassifier')\n",
    "y_pred_proba = model.predict_proba(X_valid)\n",
    "y_pred = model.predict(X_valid)"
   ],
   "metadata": {
    "collapsed": false,
    "ExecuteTime": {
     "end_time": "2023-08-26T22:45:36.427824Z",
     "start_time": "2023-08-26T22:45:36.275430Z"
    }
   },
   "id": "8302fd3372293c33"
  },
  {
   "cell_type": "code",
   "execution_count": 321,
   "outputs": [
    {
     "name": "stdout",
     "output_type": "stream",
     "text": [
      "              precision    recall  f1-score   support\n",
      "\n",
      "           0       1.00      1.00      1.00         4\n",
      "\n",
      "    accuracy                           1.00         4\n",
      "   macro avg       1.00      1.00      1.00         4\n",
      "weighted avg       1.00      1.00      1.00         4\n"
     ]
    }
   ],
   "source": [
    "print(classification_report(y_pred, y_valid))"
   ],
   "metadata": {
    "collapsed": false,
    "ExecuteTime": {
     "end_time": "2023-08-26T22:45:36.998070Z",
     "start_time": "2023-08-26T22:45:36.994441Z"
    }
   },
   "id": "df78ab4bdddaf1e0"
  },
  {
   "cell_type": "code",
   "execution_count": null,
   "outputs": [],
   "source": [
    "def get_advanced_pred(query, embeddings, for_embeddings):\n",
    "    model = CatBoostClassifier()\n",
    "    model.load_model('../models/CatBoostClassifier')\n",
    "    data = get_advanced_matching_scores(\n",
    "        query, np.array(embeddings), for_embeddings\n",
    "    ).drop(columns=[\"address\", \"id_building\"])\n",
    "    result = model.predict(data)\n",
    "    return result\n",
    "get_advanced_pred(QUERY, embeddings, for_embeddings)"
   ],
   "metadata": {
    "collapsed": false
   },
   "id": "d7a7a9a6012a8ef3"
  },
  {
   "cell_type": "markdown",
   "source": [
    "# Step 6. Prepare data for API"
   ],
   "metadata": {
    "collapsed": false
   },
   "id": "9058b61c0f499206"
  },
  {
   "cell_type": "code",
   "execution_count": 24,
   "outputs": [
    {
     "data": {
      "text/plain": "       id_building  \\\n161476  220011       \n\n                                                                          address  \\\n161476  г.Санкт-Петербург, Железнодорожный проспект, дом 14, корпус 2, строение 1   \n\n          scores  lev_distance  \n161476  0.917191  31.0          ",
      "text/html": "<div>\n<style scoped>\n    .dataframe tbody tr th:only-of-type {\n        vertical-align: middle;\n    }\n\n    .dataframe tbody tr th {\n        vertical-align: top;\n    }\n\n    .dataframe thead th {\n        text-align: right;\n    }\n</style>\n<table border=\"1\" class=\"dataframe\">\n  <thead>\n    <tr style=\"text-align: right;\">\n      <th></th>\n      <th>id_building</th>\n      <th>address</th>\n      <th>scores</th>\n      <th>lev_distance</th>\n    </tr>\n  </thead>\n  <tbody>\n    <tr>\n      <th>161476</th>\n      <td>220011</td>\n      <td>г.Санкт-Петербург, Железнодорожный проспект, дом 14, корпус 2, строение 1</td>\n      <td>0.917191</td>\n      <td>31.0</td>\n    </tr>\n  </tbody>\n</table>\n</div>"
     },
     "execution_count": 24,
     "metadata": {},
     "output_type": "execute_result"
    }
   ],
   "source": [
    "def get_best_matches_json(query: str, embeddings, for_embeddings):\n",
    "    prediction = get_best_matches(query, 1, embeddings, for_embeddings).rename(columns={'address': 'target_address', 'id_building': 'target_building_id'})\n",
    "    pred_json = prediction.to_json()\n",
    "    return prediction\n",
    "\n",
    "get_best_matches_json(\"Санкт-Петербург г., Железнодорожный пр-кт., д.14 2 1\", np.array(embeddings), for_embeddings)"
   ],
   "metadata": {
    "collapsed": false,
    "ExecuteTime": {
     "end_time": "2023-08-27T05:13:20.903995Z",
     "start_time": "2023-08-27T05:13:20.659002Z"
    }
   },
   "id": "47b7f1f3c3be5c0b"
  },
  {
   "cell_type": "code",
   "execution_count": null,
   "outputs": [],
   "source": [
    "#г.Санкт-Петербург, Железнодорожный проспект, дом 14, корпус 2\n",
    "#г.Санкт-Петербург, Железнодорожный проспект, корпус 2\n",
    "#г.Санкт-Петербург, Железнодорожный пр., корпус 2\n",
    "#г.Санкт-Петербург, Железнодожный пр., корпус 2\n",
    "# г.СПб, Железнодожный пр., корпус 2\n",
    "г.СПБ, Железнодорожный проспект, дом 14 - 2\n",
    "#\n",
    "\n",
    "# г.Санкт-Петербург, Грузовой проезд, дом 17, корпус 2\n",
    "# г.СПб,  корпус 2, Грузовой проезд\n",
    "# г.СПб,  корпус 2, Грузовой пр.\n",
    "г.СПб,  корпус 2, Грзовой пр."
   ],
   "metadata": {
    "collapsed": false
   },
   "id": "fdadba0ff4f2e71b"
  }
 ],
 "metadata": {
  "kernelspec": {
   "display_name": "Python 3",
   "language": "python",
   "name": "python3"
  },
  "language_info": {
   "codemirror_mode": {
    "name": "ipython",
    "version": 2
   },
   "file_extension": ".py",
   "mimetype": "text/x-python",
   "name": "python",
   "nbconvert_exporter": "python",
   "pygments_lexer": "ipython2",
   "version": "2.7.6"
  }
 },
 "nbformat": 4,
 "nbformat_minor": 5
}
